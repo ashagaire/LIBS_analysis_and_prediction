{
 "cells": [
  {
   "cell_type": "code",
   "execution_count": 1,
   "id": "55662a60-4a00-448f-8e11-198adbcb6b28",
   "metadata": {},
   "outputs": [
    {
     "name": "stdout",
     "output_type": "stream",
     "text": [
      "Defaulting to user installation because normal site-packages is not writeable\n",
      "Requirement already satisfied: pandas in /home/user/.local/lib/python3.8/site-packages (1.5.3)\n",
      "Requirement already satisfied: matplotlib in /home/user/.local/lib/python3.8/site-packages (3.7.1)\n",
      "Requirement already satisfied: scikit-learn in /home/user/.local/lib/python3.8/site-packages (1.2.2)\n",
      "Requirement already satisfied: scipy in /home/user/.local/lib/python3.8/site-packages (1.10.1)\n",
      "Requirement already satisfied: pytz>=2020.1 in /home/user/.local/lib/python3.8/site-packages (from pandas) (2022.5)\n",
      "Requirement already satisfied: numpy>=1.20.3; python_version < \"3.10\" in /usr/local/lib/python3.8/dist-packages (from pandas) (1.22.3)\n",
      "Requirement already satisfied: python-dateutil>=2.8.1 in /home/user/.local/lib/python3.8/site-packages (from pandas) (2.8.2)\n",
      "Requirement already satisfied: kiwisolver>=1.0.1 in /home/user/.local/lib/python3.8/site-packages (from matplotlib) (1.4.4)\n",
      "Requirement already satisfied: packaging>=20.0 in /usr/local/lib/python3.8/dist-packages (from matplotlib) (21.3)\n",
      "Requirement already satisfied: fonttools>=4.22.0 in /home/user/.local/lib/python3.8/site-packages (from matplotlib) (4.39.0)\n",
      "Requirement already satisfied: cycler>=0.10 in /home/user/.local/lib/python3.8/site-packages (from matplotlib) (0.11.0)\n",
      "Requirement already satisfied: pillow>=6.2.0 in /home/user/.local/lib/python3.8/site-packages (from matplotlib) (9.4.0)\n",
      "Requirement already satisfied: importlib-resources>=3.2.0; python_version < \"3.10\" in /home/user/.local/lib/python3.8/site-packages (from matplotlib) (5.10.0)\n",
      "Requirement already satisfied: pyparsing>=2.3.1 in /usr/local/lib/python3.8/dist-packages (from matplotlib) (3.0.9)\n",
      "Requirement already satisfied: contourpy>=1.0.1 in /home/user/.local/lib/python3.8/site-packages (from matplotlib) (1.0.7)\n",
      "Requirement already satisfied: threadpoolctl>=2.0.0 in /home/user/.local/lib/python3.8/site-packages (from scikit-learn) (3.1.0)\n",
      "Requirement already satisfied: joblib>=1.1.1 in /home/user/.local/lib/python3.8/site-packages (from scikit-learn) (1.2.0)\n",
      "Requirement already satisfied: six>=1.5 in /usr/lib/python3/dist-packages (from python-dateutil>=2.8.1->pandas) (1.14.0)\n",
      "Requirement already satisfied: zipp>=3.1.0; python_version < \"3.10\" in /usr/local/lib/python3.8/dist-packages (from importlib-resources>=3.2.0; python_version < \"3.10\"->matplotlib) (3.8.0)\n",
      "\u001b[33mWARNING: You are using pip version 20.2.4; however, version 23.0.1 is available.\n",
      "You should consider upgrading via the '/usr/bin/python3 -m pip install --upgrade pip' command.\u001b[0m\n",
      "Note: you may need to restart the kernel to use updated packages.\n"
     ]
    }
   ],
   "source": [
    "pip install pandas  matplotlib scikit-learn scipy"
   ]
  },
  {
   "cell_type": "code",
   "execution_count": 2,
   "id": "e56bdfea-94f5-4d00-84de-4b17522e9f49",
   "metadata": {},
   "outputs": [],
   "source": [
    "import time\n",
    "import pandas as pd\n",
    "import numpy as np\n",
    "import h5py\n",
    "import random\n",
    "import matplotlib.pyplot as plt\n",
    "from scipy.interpolate import interp1d\n",
    "from sklearn.preprocessing import MinMaxScaler\n",
    "from itertools import islice\n",
    "import pickle\n",
    "from sklearn.preprocessing import StandardScaler\n",
    "from sklearn.model_selection import train_test_split\n",
    "import tensorflow as tf\n",
    "from tensorflow import keras\n",
    "from tensorflow.keras import layers\n",
    "from keras.models import Sequential\n",
    "from keras.layers import Dense\n",
    "from tensorflow.keras.layers import Dropout\n",
    "from keras.activations import softmax\n",
    "from keras.activations import relu\n",
    "import gc\n",
    "import itertools\n",
    "from sklearn.metrics import mean_squared_error\n",
    "import sklearn\n",
    "from numpy import genfromtxt\n",
    "from os import listdir\n",
    "from os.path import isfile, join\n",
    "import os\n",
    "import copy\n",
    "from scipy import interpolate\n",
    "from scipy.spatial import distance\n",
    "import time\n",
    "import numpy as np\n",
    "\n",
    "#np.set_printoptions(suppress=True)\n",
    "\n",
    "\n",
    "def load_dataset(datasets,shape,labels):\n",
    "    start = time.time()\n",
    "    count = 1\n",
    "    wavelength_list = []\n",
    "    intensity_list = []\n",
    "    label_list = []\n",
    "    get_wavelength = True\n",
    "    for dataset_name in datasets:\n",
    "        with h5py.File(dataset_name, \"r\") as f:\n",
    "            if get_wavelength: wavelengths = np.array(np.split(f['wavelength'][:], f['wavelength'][:].shape[0]//shape))\n",
    "            intensities = np.array(np.split(f['intensity'][:], f['intensity'][:].shape[0]//shape))\n",
    "            labels = np.array(np.split(f['label'][:], f['label'][:].shape[0]//labels))/100\n",
    "            if get_wavelength: wavelength_list.append(wavelengths)\n",
    "            intensity_list.append(intensities)\n",
    "            label_list.append(labels)\n",
    "            print(dataset_name, \" Done\")\n",
    "        get_wavelength = False\n",
    "    wavelengths = np.array(list(itertools.chain.from_iterable(wavelength_list)))\n",
    "    intensities = np.array(list(itertools.chain.from_iterable(intensity_list)))\n",
    "    labels = np.array(list(itertools.chain.from_iterable(label_list)))\n",
    "    print(round(time.time()-start,2), \"seconds\")    \n",
    "    return wavelengths, intensities, labels\n"
   ]
  },
  {
   "cell_type": "markdown",
   "id": "5169d8bd-ad8d-4ffa-97b6-4c538415a831",
   "metadata": {},
   "source": [
    "## read whole dataset"
   ]
  },
  {
   "cell_type": "code",
   "execution_count": 3,
   "id": "ea2da6f6-92f9-4fd0-a019-16860c62700f",
   "metadata": {},
   "outputs": [
    {
     "name": "stdout",
     "output_type": "stream",
     "text": [
      "dataset7.h5  Done\n",
      "39.07 seconds\n"
     ]
    }
   ],
   "source": [
    "datasets_to_load = ['dataset7.h5']\n",
    "wavelengths_list, c, labels_list = load_dataset(datasets_to_load,4094,24)\n",
    "current_elements = ['C', 'Mg', 'Al', 'Si', 'Ti', 'V', 'Fe', 'Co', 'Ni', 'Cu', 'Mn', 'Li', 'Zn', 'O', 'P', 'Pt', 'Au', 'Ag', 'Ir', 'W', 'Pd', 'Sn', 'Tc', 'Y']"
   ]
  },
  {
   "cell_type": "code",
   "execution_count": 4,
   "id": "330a21dd-9a45-4ad5-a184-3d7ecece23c0",
   "metadata": {},
   "outputs": [
    {
     "data": {
      "text/plain": [
       "(53660, 4094)"
      ]
     },
     "execution_count": 4,
     "metadata": {},
     "output_type": "execute_result"
    }
   ],
   "source": [
    "df_wavelengths=pd.DataFrame(wavelengths_list)\n",
    "df_wavelengths.shape"
   ]
  },
  {
   "cell_type": "code",
   "execution_count": 5,
   "id": "42d701eb-e001-4f11-83a9-c2ed9b0a12df",
   "metadata": {},
   "outputs": [
    {
     "data": {
      "text/plain": [
       "(53660, 4094)"
      ]
     },
     "execution_count": 5,
     "metadata": {},
     "output_type": "execute_result"
    }
   ],
   "source": [
    "df_intensity=pd.DataFrame(c)\n",
    "df_intensity.shape"
   ]
  },
  {
   "cell_type": "code",
   "execution_count": 6,
   "id": "128a5e71-8f03-489f-bbc2-de4aedadfad6",
   "metadata": {},
   "outputs": [
    {
     "data": {
      "text/html": [
       "<div>\n",
       "<style scoped>\n",
       "    .dataframe tbody tr th:only-of-type {\n",
       "        vertical-align: middle;\n",
       "    }\n",
       "\n",
       "    .dataframe tbody tr th {\n",
       "        vertical-align: top;\n",
       "    }\n",
       "\n",
       "    .dataframe thead th {\n",
       "        text-align: right;\n",
       "    }\n",
       "</style>\n",
       "<table border=\"1\" class=\"dataframe\">\n",
       "  <thead>\n",
       "    <tr style=\"text-align: right;\">\n",
       "      <th></th>\n",
       "      <th>0</th>\n",
       "      <th>1</th>\n",
       "      <th>2</th>\n",
       "      <th>3</th>\n",
       "      <th>4</th>\n",
       "      <th>5</th>\n",
       "      <th>6</th>\n",
       "      <th>7</th>\n",
       "      <th>8</th>\n",
       "      <th>9</th>\n",
       "      <th>...</th>\n",
       "      <th>14</th>\n",
       "      <th>15</th>\n",
       "      <th>16</th>\n",
       "      <th>17</th>\n",
       "      <th>18</th>\n",
       "      <th>19</th>\n",
       "      <th>20</th>\n",
       "      <th>21</th>\n",
       "      <th>22</th>\n",
       "      <th>23</th>\n",
       "    </tr>\n",
       "  </thead>\n",
       "  <tbody>\n",
       "    <tr>\n",
       "      <th>0</th>\n",
       "      <td>1.0</td>\n",
       "      <td>0.0</td>\n",
       "      <td>0.0</td>\n",
       "      <td>0.0</td>\n",
       "      <td>0.0</td>\n",
       "      <td>0.0</td>\n",
       "      <td>0.0</td>\n",
       "      <td>0.0</td>\n",
       "      <td>0.0</td>\n",
       "      <td>0.0</td>\n",
       "      <td>...</td>\n",
       "      <td>0.0</td>\n",
       "      <td>0.0</td>\n",
       "      <td>0.0</td>\n",
       "      <td>0.0</td>\n",
       "      <td>0.0</td>\n",
       "      <td>0.0</td>\n",
       "      <td>0.0</td>\n",
       "      <td>0.0</td>\n",
       "      <td>0.0</td>\n",
       "      <td>0.0</td>\n",
       "    </tr>\n",
       "    <tr>\n",
       "      <th>1</th>\n",
       "      <td>0.0</td>\n",
       "      <td>1.0</td>\n",
       "      <td>0.0</td>\n",
       "      <td>0.0</td>\n",
       "      <td>0.0</td>\n",
       "      <td>0.0</td>\n",
       "      <td>0.0</td>\n",
       "      <td>0.0</td>\n",
       "      <td>0.0</td>\n",
       "      <td>0.0</td>\n",
       "      <td>...</td>\n",
       "      <td>0.0</td>\n",
       "      <td>0.0</td>\n",
       "      <td>0.0</td>\n",
       "      <td>0.0</td>\n",
       "      <td>0.0</td>\n",
       "      <td>0.0</td>\n",
       "      <td>0.0</td>\n",
       "      <td>0.0</td>\n",
       "      <td>0.0</td>\n",
       "      <td>0.0</td>\n",
       "    </tr>\n",
       "    <tr>\n",
       "      <th>2</th>\n",
       "      <td>0.0</td>\n",
       "      <td>0.0</td>\n",
       "      <td>1.0</td>\n",
       "      <td>0.0</td>\n",
       "      <td>0.0</td>\n",
       "      <td>0.0</td>\n",
       "      <td>0.0</td>\n",
       "      <td>0.0</td>\n",
       "      <td>0.0</td>\n",
       "      <td>0.0</td>\n",
       "      <td>...</td>\n",
       "      <td>0.0</td>\n",
       "      <td>0.0</td>\n",
       "      <td>0.0</td>\n",
       "      <td>0.0</td>\n",
       "      <td>0.0</td>\n",
       "      <td>0.0</td>\n",
       "      <td>0.0</td>\n",
       "      <td>0.0</td>\n",
       "      <td>0.0</td>\n",
       "      <td>0.0</td>\n",
       "    </tr>\n",
       "    <tr>\n",
       "      <th>3</th>\n",
       "      <td>0.0</td>\n",
       "      <td>0.0</td>\n",
       "      <td>0.0</td>\n",
       "      <td>1.0</td>\n",
       "      <td>0.0</td>\n",
       "      <td>0.0</td>\n",
       "      <td>0.0</td>\n",
       "      <td>0.0</td>\n",
       "      <td>0.0</td>\n",
       "      <td>0.0</td>\n",
       "      <td>...</td>\n",
       "      <td>0.0</td>\n",
       "      <td>0.0</td>\n",
       "      <td>0.0</td>\n",
       "      <td>0.0</td>\n",
       "      <td>0.0</td>\n",
       "      <td>0.0</td>\n",
       "      <td>0.0</td>\n",
       "      <td>0.0</td>\n",
       "      <td>0.0</td>\n",
       "      <td>0.0</td>\n",
       "    </tr>\n",
       "    <tr>\n",
       "      <th>4</th>\n",
       "      <td>0.0</td>\n",
       "      <td>0.0</td>\n",
       "      <td>0.0</td>\n",
       "      <td>0.0</td>\n",
       "      <td>1.0</td>\n",
       "      <td>0.0</td>\n",
       "      <td>0.0</td>\n",
       "      <td>0.0</td>\n",
       "      <td>0.0</td>\n",
       "      <td>0.0</td>\n",
       "      <td>...</td>\n",
       "      <td>0.0</td>\n",
       "      <td>0.0</td>\n",
       "      <td>0.0</td>\n",
       "      <td>0.0</td>\n",
       "      <td>0.0</td>\n",
       "      <td>0.0</td>\n",
       "      <td>0.0</td>\n",
       "      <td>0.0</td>\n",
       "      <td>0.0</td>\n",
       "      <td>0.0</td>\n",
       "    </tr>\n",
       "  </tbody>\n",
       "</table>\n",
       "<p>5 rows × 24 columns</p>\n",
       "</div>"
      ],
      "text/plain": [
       "    0    1    2    3    4    5    6    7    8    9   ...   14   15   16   17  \\\n",
       "0  1.0  0.0  0.0  0.0  0.0  0.0  0.0  0.0  0.0  0.0  ...  0.0  0.0  0.0  0.0   \n",
       "1  0.0  1.0  0.0  0.0  0.0  0.0  0.0  0.0  0.0  0.0  ...  0.0  0.0  0.0  0.0   \n",
       "2  0.0  0.0  1.0  0.0  0.0  0.0  0.0  0.0  0.0  0.0  ...  0.0  0.0  0.0  0.0   \n",
       "3  0.0  0.0  0.0  1.0  0.0  0.0  0.0  0.0  0.0  0.0  ...  0.0  0.0  0.0  0.0   \n",
       "4  0.0  0.0  0.0  0.0  1.0  0.0  0.0  0.0  0.0  0.0  ...  0.0  0.0  0.0  0.0   \n",
       "\n",
       "    18   19   20   21   22   23  \n",
       "0  0.0  0.0  0.0  0.0  0.0  0.0  \n",
       "1  0.0  0.0  0.0  0.0  0.0  0.0  \n",
       "2  0.0  0.0  0.0  0.0  0.0  0.0  \n",
       "3  0.0  0.0  0.0  0.0  0.0  0.0  \n",
       "4  0.0  0.0  0.0  0.0  0.0  0.0  \n",
       "\n",
       "[5 rows x 24 columns]"
      ]
     },
     "execution_count": 6,
     "metadata": {},
     "output_type": "execute_result"
    }
   ],
   "source": [
    "df_labels_list=pd.DataFrame(labels_list)\n",
    "df_labels_list.head()"
   ]
  },
  {
   "cell_type": "markdown",
   "id": "9edcadf5-c2d7-4ca4-b6b2-e0c9337ede3a",
   "metadata": {},
   "source": [
    "### Remove gas elements"
   ]
  },
  {
   "cell_type": "code",
   "execution_count": 7,
   "id": "038d317b-6d2f-4f15-b196-f91e78cb7cff",
   "metadata": {},
   "outputs": [
    {
     "data": {
      "text/plain": [
       "0        False\n",
       "1        False\n",
       "2        False\n",
       "3        False\n",
       "4        False\n",
       "         ...  \n",
       "53655    False\n",
       "53656    False\n",
       "53657    False\n",
       "53658    False\n",
       "53659    False\n",
       "Name: 13, Length: 53660, dtype: bool"
      ]
     },
     "execution_count": 7,
     "metadata": {},
     "output_type": "execute_result"
    }
   ],
   "source": [
    "df_labels_list[13]!=0.0"
   ]
  },
  {
   "cell_type": "code",
   "execution_count": 8,
   "id": "15c778b7-8073-4aac-9825-3b7a14dd66c4",
   "metadata": {},
   "outputs": [
    {
     "data": {
      "text/html": [
       "<div>\n",
       "<style scoped>\n",
       "    .dataframe tbody tr th:only-of-type {\n",
       "        vertical-align: middle;\n",
       "    }\n",
       "\n",
       "    .dataframe tbody tr th {\n",
       "        vertical-align: top;\n",
       "    }\n",
       "\n",
       "    .dataframe thead th {\n",
       "        text-align: right;\n",
       "    }\n",
       "</style>\n",
       "<table border=\"1\" class=\"dataframe\">\n",
       "  <thead>\n",
       "    <tr style=\"text-align: right;\">\n",
       "      <th></th>\n",
       "      <th>0</th>\n",
       "      <th>1</th>\n",
       "      <th>2</th>\n",
       "      <th>3</th>\n",
       "      <th>4</th>\n",
       "      <th>5</th>\n",
       "      <th>6</th>\n",
       "      <th>7</th>\n",
       "      <th>8</th>\n",
       "      <th>9</th>\n",
       "      <th>...</th>\n",
       "      <th>14</th>\n",
       "      <th>15</th>\n",
       "      <th>16</th>\n",
       "      <th>17</th>\n",
       "      <th>18</th>\n",
       "      <th>19</th>\n",
       "      <th>20</th>\n",
       "      <th>21</th>\n",
       "      <th>22</th>\n",
       "      <th>23</th>\n",
       "    </tr>\n",
       "  </thead>\n",
       "  <tbody>\n",
       "    <tr>\n",
       "      <th>13</th>\n",
       "      <td>0.00</td>\n",
       "      <td>0.00</td>\n",
       "      <td>0.00</td>\n",
       "      <td>0.00</td>\n",
       "      <td>0.0</td>\n",
       "      <td>0.0</td>\n",
       "      <td>0.0</td>\n",
       "      <td>0.0</td>\n",
       "      <td>0.0</td>\n",
       "      <td>0.0</td>\n",
       "      <td>...</td>\n",
       "      <td>0.0</td>\n",
       "      <td>0.0</td>\n",
       "      <td>0.0</td>\n",
       "      <td>0.0</td>\n",
       "      <td>0.0</td>\n",
       "      <td>0.0</td>\n",
       "      <td>0.00</td>\n",
       "      <td>0.00</td>\n",
       "      <td>0.00</td>\n",
       "      <td>0.0</td>\n",
       "    </tr>\n",
       "    <tr>\n",
       "      <th>36</th>\n",
       "      <td>0.99</td>\n",
       "      <td>0.00</td>\n",
       "      <td>0.00</td>\n",
       "      <td>0.00</td>\n",
       "      <td>0.0</td>\n",
       "      <td>0.0</td>\n",
       "      <td>0.0</td>\n",
       "      <td>0.0</td>\n",
       "      <td>0.0</td>\n",
       "      <td>0.0</td>\n",
       "      <td>...</td>\n",
       "      <td>0.0</td>\n",
       "      <td>0.0</td>\n",
       "      <td>0.0</td>\n",
       "      <td>0.0</td>\n",
       "      <td>0.0</td>\n",
       "      <td>0.0</td>\n",
       "      <td>0.00</td>\n",
       "      <td>0.00</td>\n",
       "      <td>0.00</td>\n",
       "      <td>0.0</td>\n",
       "    </tr>\n",
       "    <tr>\n",
       "      <th>58</th>\n",
       "      <td>0.00</td>\n",
       "      <td>0.99</td>\n",
       "      <td>0.00</td>\n",
       "      <td>0.00</td>\n",
       "      <td>0.0</td>\n",
       "      <td>0.0</td>\n",
       "      <td>0.0</td>\n",
       "      <td>0.0</td>\n",
       "      <td>0.0</td>\n",
       "      <td>0.0</td>\n",
       "      <td>...</td>\n",
       "      <td>0.0</td>\n",
       "      <td>0.0</td>\n",
       "      <td>0.0</td>\n",
       "      <td>0.0</td>\n",
       "      <td>0.0</td>\n",
       "      <td>0.0</td>\n",
       "      <td>0.00</td>\n",
       "      <td>0.00</td>\n",
       "      <td>0.00</td>\n",
       "      <td>0.0</td>\n",
       "    </tr>\n",
       "    <tr>\n",
       "      <th>79</th>\n",
       "      <td>0.00</td>\n",
       "      <td>0.00</td>\n",
       "      <td>0.99</td>\n",
       "      <td>0.00</td>\n",
       "      <td>0.0</td>\n",
       "      <td>0.0</td>\n",
       "      <td>0.0</td>\n",
       "      <td>0.0</td>\n",
       "      <td>0.0</td>\n",
       "      <td>0.0</td>\n",
       "      <td>...</td>\n",
       "      <td>0.0</td>\n",
       "      <td>0.0</td>\n",
       "      <td>0.0</td>\n",
       "      <td>0.0</td>\n",
       "      <td>0.0</td>\n",
       "      <td>0.0</td>\n",
       "      <td>0.00</td>\n",
       "      <td>0.00</td>\n",
       "      <td>0.00</td>\n",
       "      <td>0.0</td>\n",
       "    </tr>\n",
       "    <tr>\n",
       "      <th>99</th>\n",
       "      <td>0.00</td>\n",
       "      <td>0.00</td>\n",
       "      <td>0.00</td>\n",
       "      <td>0.99</td>\n",
       "      <td>0.0</td>\n",
       "      <td>0.0</td>\n",
       "      <td>0.0</td>\n",
       "      <td>0.0</td>\n",
       "      <td>0.0</td>\n",
       "      <td>0.0</td>\n",
       "      <td>...</td>\n",
       "      <td>0.0</td>\n",
       "      <td>0.0</td>\n",
       "      <td>0.0</td>\n",
       "      <td>0.0</td>\n",
       "      <td>0.0</td>\n",
       "      <td>0.0</td>\n",
       "      <td>0.00</td>\n",
       "      <td>0.00</td>\n",
       "      <td>0.00</td>\n",
       "      <td>0.0</td>\n",
       "    </tr>\n",
       "    <tr>\n",
       "      <th>...</th>\n",
       "      <td>...</td>\n",
       "      <td>...</td>\n",
       "      <td>...</td>\n",
       "      <td>...</td>\n",
       "      <td>...</td>\n",
       "      <td>...</td>\n",
       "      <td>...</td>\n",
       "      <td>...</td>\n",
       "      <td>...</td>\n",
       "      <td>...</td>\n",
       "      <td>...</td>\n",
       "      <td>...</td>\n",
       "      <td>...</td>\n",
       "      <td>...</td>\n",
       "      <td>...</td>\n",
       "      <td>...</td>\n",
       "      <td>...</td>\n",
       "      <td>...</td>\n",
       "      <td>...</td>\n",
       "      <td>...</td>\n",
       "      <td>...</td>\n",
       "    </tr>\n",
       "    <tr>\n",
       "      <th>53535</th>\n",
       "      <td>0.00</td>\n",
       "      <td>0.00</td>\n",
       "      <td>0.00</td>\n",
       "      <td>0.00</td>\n",
       "      <td>0.0</td>\n",
       "      <td>0.0</td>\n",
       "      <td>0.0</td>\n",
       "      <td>0.0</td>\n",
       "      <td>0.0</td>\n",
       "      <td>0.0</td>\n",
       "      <td>...</td>\n",
       "      <td>0.0</td>\n",
       "      <td>0.0</td>\n",
       "      <td>0.0</td>\n",
       "      <td>0.0</td>\n",
       "      <td>0.0</td>\n",
       "      <td>0.0</td>\n",
       "      <td>0.15</td>\n",
       "      <td>0.00</td>\n",
       "      <td>0.30</td>\n",
       "      <td>0.0</td>\n",
       "    </tr>\n",
       "    <tr>\n",
       "      <th>53536</th>\n",
       "      <td>0.00</td>\n",
       "      <td>0.00</td>\n",
       "      <td>0.00</td>\n",
       "      <td>0.00</td>\n",
       "      <td>0.0</td>\n",
       "      <td>0.0</td>\n",
       "      <td>0.0</td>\n",
       "      <td>0.0</td>\n",
       "      <td>0.0</td>\n",
       "      <td>0.0</td>\n",
       "      <td>...</td>\n",
       "      <td>0.0</td>\n",
       "      <td>0.0</td>\n",
       "      <td>0.0</td>\n",
       "      <td>0.0</td>\n",
       "      <td>0.0</td>\n",
       "      <td>0.0</td>\n",
       "      <td>0.15</td>\n",
       "      <td>0.00</td>\n",
       "      <td>0.00</td>\n",
       "      <td>0.3</td>\n",
       "    </tr>\n",
       "    <tr>\n",
       "      <th>53537</th>\n",
       "      <td>0.00</td>\n",
       "      <td>0.00</td>\n",
       "      <td>0.00</td>\n",
       "      <td>0.00</td>\n",
       "      <td>0.0</td>\n",
       "      <td>0.0</td>\n",
       "      <td>0.0</td>\n",
       "      <td>0.0</td>\n",
       "      <td>0.0</td>\n",
       "      <td>0.0</td>\n",
       "      <td>...</td>\n",
       "      <td>0.0</td>\n",
       "      <td>0.0</td>\n",
       "      <td>0.0</td>\n",
       "      <td>0.0</td>\n",
       "      <td>0.0</td>\n",
       "      <td>0.0</td>\n",
       "      <td>0.00</td>\n",
       "      <td>0.15</td>\n",
       "      <td>0.30</td>\n",
       "      <td>0.0</td>\n",
       "    </tr>\n",
       "    <tr>\n",
       "      <th>53538</th>\n",
       "      <td>0.00</td>\n",
       "      <td>0.00</td>\n",
       "      <td>0.00</td>\n",
       "      <td>0.00</td>\n",
       "      <td>0.0</td>\n",
       "      <td>0.0</td>\n",
       "      <td>0.0</td>\n",
       "      <td>0.0</td>\n",
       "      <td>0.0</td>\n",
       "      <td>0.0</td>\n",
       "      <td>...</td>\n",
       "      <td>0.0</td>\n",
       "      <td>0.0</td>\n",
       "      <td>0.0</td>\n",
       "      <td>0.0</td>\n",
       "      <td>0.0</td>\n",
       "      <td>0.0</td>\n",
       "      <td>0.00</td>\n",
       "      <td>0.15</td>\n",
       "      <td>0.00</td>\n",
       "      <td>0.3</td>\n",
       "    </tr>\n",
       "    <tr>\n",
       "      <th>53539</th>\n",
       "      <td>0.00</td>\n",
       "      <td>0.00</td>\n",
       "      <td>0.00</td>\n",
       "      <td>0.00</td>\n",
       "      <td>0.0</td>\n",
       "      <td>0.0</td>\n",
       "      <td>0.0</td>\n",
       "      <td>0.0</td>\n",
       "      <td>0.0</td>\n",
       "      <td>0.0</td>\n",
       "      <td>...</td>\n",
       "      <td>0.0</td>\n",
       "      <td>0.0</td>\n",
       "      <td>0.0</td>\n",
       "      <td>0.0</td>\n",
       "      <td>0.0</td>\n",
       "      <td>0.0</td>\n",
       "      <td>0.00</td>\n",
       "      <td>0.00</td>\n",
       "      <td>0.15</td>\n",
       "      <td>0.3</td>\n",
       "    </tr>\n",
       "  </tbody>\n",
       "</table>\n",
       "<p>5567 rows × 24 columns</p>\n",
       "</div>"
      ],
      "text/plain": [
       "         0     1     2     3    4    5    6    7    8    9   ...   14   15  \\\n",
       "13     0.00  0.00  0.00  0.00  0.0  0.0  0.0  0.0  0.0  0.0  ...  0.0  0.0   \n",
       "36     0.99  0.00  0.00  0.00  0.0  0.0  0.0  0.0  0.0  0.0  ...  0.0  0.0   \n",
       "58     0.00  0.99  0.00  0.00  0.0  0.0  0.0  0.0  0.0  0.0  ...  0.0  0.0   \n",
       "79     0.00  0.00  0.99  0.00  0.0  0.0  0.0  0.0  0.0  0.0  ...  0.0  0.0   \n",
       "99     0.00  0.00  0.00  0.99  0.0  0.0  0.0  0.0  0.0  0.0  ...  0.0  0.0   \n",
       "...     ...   ...   ...   ...  ...  ...  ...  ...  ...  ...  ...  ...  ...   \n",
       "53535  0.00  0.00  0.00  0.00  0.0  0.0  0.0  0.0  0.0  0.0  ...  0.0  0.0   \n",
       "53536  0.00  0.00  0.00  0.00  0.0  0.0  0.0  0.0  0.0  0.0  ...  0.0  0.0   \n",
       "53537  0.00  0.00  0.00  0.00  0.0  0.0  0.0  0.0  0.0  0.0  ...  0.0  0.0   \n",
       "53538  0.00  0.00  0.00  0.00  0.0  0.0  0.0  0.0  0.0  0.0  ...  0.0  0.0   \n",
       "53539  0.00  0.00  0.00  0.00  0.0  0.0  0.0  0.0  0.0  0.0  ...  0.0  0.0   \n",
       "\n",
       "        16   17   18   19    20    21    22   23  \n",
       "13     0.0  0.0  0.0  0.0  0.00  0.00  0.00  0.0  \n",
       "36     0.0  0.0  0.0  0.0  0.00  0.00  0.00  0.0  \n",
       "58     0.0  0.0  0.0  0.0  0.00  0.00  0.00  0.0  \n",
       "79     0.0  0.0  0.0  0.0  0.00  0.00  0.00  0.0  \n",
       "99     0.0  0.0  0.0  0.0  0.00  0.00  0.00  0.0  \n",
       "...    ...  ...  ...  ...   ...   ...   ...  ...  \n",
       "53535  0.0  0.0  0.0  0.0  0.15  0.00  0.30  0.0  \n",
       "53536  0.0  0.0  0.0  0.0  0.15  0.00  0.00  0.3  \n",
       "53537  0.0  0.0  0.0  0.0  0.00  0.15  0.30  0.0  \n",
       "53538  0.0  0.0  0.0  0.0  0.00  0.15  0.00  0.3  \n",
       "53539  0.0  0.0  0.0  0.0  0.00  0.00  0.15  0.3  \n",
       "\n",
       "[5567 rows x 24 columns]"
      ]
     },
     "execution_count": 8,
     "metadata": {},
     "output_type": "execute_result"
    }
   ],
   "source": [
    "#row 13 is 'O' which is gas element so droping all the rows which has oxygen\n",
    "#get rows with gas elements .i.e. rows which has value other than 0 in column 13\n",
    "rows_gas = df_labels_list[(df_labels_list[[13]] != 0.0).all(axis=1)]\n",
    "rows_gas"
   ]
  },
  {
   "cell_type": "code",
   "execution_count": 9,
   "id": "34ad7b45-4da8-410e-bc7a-12cdcb8706a0",
   "metadata": {},
   "outputs": [
    {
     "data": {
      "text/plain": [
       "Int64Index([   13,    36,    58,    79,    99,   118,   136,   153,   169,\n",
       "              184,\n",
       "            ...\n",
       "            53530, 53531, 53532, 53533, 53534, 53535, 53536, 53537, 53538,\n",
       "            53539],\n",
       "           dtype='int64', length=5567)"
      ]
     },
     "execution_count": 9,
     "metadata": {},
     "output_type": "execute_result"
    }
   ],
   "source": [
    "rows_of_gas=rows_gas.index\n",
    "rows_of_gas"
   ]
  },
  {
   "cell_type": "code",
   "execution_count": 10,
   "id": "b9c39091-16d8-4ef2-ac8c-482fafcee515",
   "metadata": {},
   "outputs": [
    {
     "data": {
      "text/plain": [
       "(48093, 4094)"
      ]
     },
     "execution_count": 10,
     "metadata": {},
     "output_type": "execute_result"
    }
   ],
   "source": [
    "\n",
    "df_intensity=df_intensity.drop(index=rows_of_gas)\n",
    "df_intensity.shape"
   ]
  },
  {
   "cell_type": "code",
   "execution_count": 11,
   "id": "0a14e812-6ff5-422b-9f0d-6f8d4a729cd7",
   "metadata": {},
   "outputs": [
    {
     "data": {
      "text/plain": [
       "(48093, 4094)"
      ]
     },
     "execution_count": 11,
     "metadata": {},
     "output_type": "execute_result"
    }
   ],
   "source": [
    "df_wavelengths=df_wavelengths.drop(index=rows_of_gas)\n",
    "df_wavelengths.shape"
   ]
  },
  {
   "cell_type": "code",
   "execution_count": 12,
   "id": "94d26680-2b3c-47ee-b491-94cc1f5280e9",
   "metadata": {},
   "outputs": [
    {
     "data": {
      "text/plain": [
       "(48093, 24)"
      ]
     },
     "execution_count": 12,
     "metadata": {},
     "output_type": "execute_result"
    }
   ],
   "source": [
    "df_labels_list=df_labels_list.drop(index=rows_of_gas)\n",
    "df_labels_list.shape\n"
   ]
  },
  {
   "cell_type": "code",
   "execution_count": 13,
   "id": "03eee248-2b36-43ae-86df-5d947aa2763c",
   "metadata": {},
   "outputs": [
    {
     "data": {
      "text/plain": [
       "(48093, 23)"
      ]
     },
     "execution_count": 13,
     "metadata": {},
     "output_type": "execute_result"
    }
   ],
   "source": [
    "df_labels_list=df_labels_list.drop(13, axis=1)\n",
    "df_labels_list.shape"
   ]
  },
  {
   "cell_type": "markdown",
   "id": "e297a307-0447-4628-902b-e785a495fe0c",
   "metadata": {},
   "source": [
    "### Removing more elements ('Mn', 'Li', 'Zn', 'P', 'Pt', 'Au', 'Ag', 'Ir', 'W', 'Pd', 'Sn', 'Tc', 'Y')"
   ]
  },
  {
   "cell_type": "code",
   "execution_count": 14,
   "id": "ab0fa10a-12a5-4e19-ae32-c5e456f989f9",
   "metadata": {},
   "outputs": [],
   "source": [
    "#Mn\n",
    "#read rows with values in it\n",
    "Mn_rows = df_labels_list[(df_labels_list[[10]] != 0.0).all(axis=1)]\n",
    "#get index values of rows\n",
    "rows_of_Mn=Mn_rows.index\n",
    "#drop those rows from intensity dataframe\n",
    "df_intensity=df_intensity.drop(index=rows_of_Mn)\n",
    "#drop those rows from labels dataframe\n",
    "df_labels_list=df_labels_list.drop(index=rows_of_Mn)"
   ]
  },
  {
   "cell_type": "code",
   "execution_count": 15,
   "id": "89b71503-82f8-4de1-bc01-25d8da7ccd4f",
   "metadata": {},
   "outputs": [
    {
     "data": {
      "text/plain": [
       "(42911, 22)"
      ]
     },
     "execution_count": 15,
     "metadata": {},
     "output_type": "execute_result"
    }
   ],
   "source": [
    "df_labels_list=df_labels_list.drop(10, axis=1)\n",
    "df_labels_list.shape"
   ]
  },
  {
   "cell_type": "code",
   "execution_count": 16,
   "id": "58d50e03-b0cb-48cb-ac8a-70ab4c938b1e",
   "metadata": {},
   "outputs": [
    {
     "name": "stdout",
     "output_type": "stream",
     "text": [
      "Shape of df_intensity : (42911, 4094)\n",
      "Shape of df_labels_list : (42911, 22)\n"
     ]
    }
   ],
   "source": [
    "print(\"Shape of df_intensity :\", df_intensity.shape)\n",
    "print(\"Shape of df_labels_list :\", df_labels_list.shape)"
   ]
  },
  {
   "cell_type": "code",
   "execution_count": 17,
   "id": "307f20c3-c901-4497-ba7f-715c41089d5c",
   "metadata": {},
   "outputs": [],
   "source": [
    "#Li\n",
    "#read rows with values in it\n",
    "Li_rows = df_labels_list[(df_labels_list[[11]] != 0.0).all(axis=1)]\n",
    "#get index values of rows\n",
    "rows_of_Li=Li_rows.index\n",
    "#drop those rows from intensity dataframe\n",
    "df_intensity=df_intensity.drop(index=rows_of_Li)\n",
    "#drop those rows from labels dataframe\n",
    "df_labels_list=df_labels_list.drop(index=rows_of_Li)"
   ]
  },
  {
   "cell_type": "code",
   "execution_count": 18,
   "id": "72ac1dd8-517f-423a-a53d-f824c4143cd9",
   "metadata": {},
   "outputs": [
    {
     "data": {
      "text/plain": [
       "(38101, 21)"
      ]
     },
     "execution_count": 18,
     "metadata": {},
     "output_type": "execute_result"
    }
   ],
   "source": [
    "df_labels_list=df_labels_list.drop(11, axis=1)\n",
    "df_labels_list.shape"
   ]
  },
  {
   "cell_type": "code",
   "execution_count": 19,
   "id": "4404c4f4-c00a-40a0-a697-2d644b87de7f",
   "metadata": {},
   "outputs": [
    {
     "name": "stdout",
     "output_type": "stream",
     "text": [
      "Shape of df_intensity : (38101, 4094)\n",
      "Shape of df_labels_list : (38101, 21)\n"
     ]
    }
   ],
   "source": [
    "print(\"Shape of df_intensity :\", df_intensity.shape)\n",
    "print(\"Shape of df_labels_list :\", df_labels_list.shape)"
   ]
  },
  {
   "cell_type": "code",
   "execution_count": 20,
   "id": "9fc671c8-3867-4bb2-9a0c-89f2001dc070",
   "metadata": {},
   "outputs": [],
   "source": [
    "#Zn\n",
    "#read rows with values in it\n",
    "Zn_rows = df_labels_list[(df_labels_list[[12]] != 0.0).all(axis=1)]\n",
    "#get index values of rows\n",
    "rows_of_Zn=Zn_rows.index\n",
    "#drop those rows from intensity dataframe\n",
    "df_intensity=df_intensity.drop(index=rows_of_Zn)\n",
    "#drop those rows from labels dataframe\n",
    "df_labels_list=df_labels_list.drop(index=rows_of_Zn)"
   ]
  },
  {
   "cell_type": "code",
   "execution_count": 21,
   "id": "21ee14b4-6282-4d69-80d6-75a4b4f445e0",
   "metadata": {},
   "outputs": [
    {
     "data": {
      "text/plain": [
       "(33650, 20)"
      ]
     },
     "execution_count": 21,
     "metadata": {},
     "output_type": "execute_result"
    }
   ],
   "source": [
    "df_labels_list=df_labels_list.drop(12, axis=1)\n",
    "df_labels_list.shape"
   ]
  },
  {
   "cell_type": "code",
   "execution_count": 22,
   "id": "e415e228-98ba-4c10-9f50-08eb3ced6b88",
   "metadata": {},
   "outputs": [
    {
     "name": "stdout",
     "output_type": "stream",
     "text": [
      "Shape of df_intensity : (33650, 4094)\n",
      "Shape of df_labels_list : (33650, 20)\n"
     ]
    }
   ],
   "source": [
    "print(\"Shape of df_intensity :\", df_intensity.shape)\n",
    "print(\"Shape of df_labels_list :\", df_labels_list.shape)"
   ]
  },
  {
   "cell_type": "code",
   "execution_count": 23,
   "id": "c220425f-45bb-4571-b3ea-c6895bf32953",
   "metadata": {},
   "outputs": [],
   "source": [
    "#P\n",
    "#read rows with values in it\n",
    "P_rows = df_labels_list[(df_labels_list[[14]] != 0.0).all(axis=1)]\n",
    "#get index values of rows\n",
    "rows_of_P=P_rows.index\n",
    "#drop those rows from intensity dataframe\n",
    "df_intensity=df_intensity.drop(index=rows_of_P)\n",
    "#drop those rows from labels dataframe\n",
    "df_labels_list=df_labels_list.drop(index=rows_of_P)"
   ]
  },
  {
   "cell_type": "code",
   "execution_count": 24,
   "id": "fd3b745f-6b15-4918-a5ce-d444b30e03b1",
   "metadata": {},
   "outputs": [
    {
     "data": {
      "text/plain": [
       "(29545, 19)"
      ]
     },
     "execution_count": 24,
     "metadata": {},
     "output_type": "execute_result"
    }
   ],
   "source": [
    "df_labels_list=df_labels_list.drop(14, axis=1)\n",
    "df_labels_list.shape"
   ]
  },
  {
   "cell_type": "code",
   "execution_count": 25,
   "id": "baeb77f7-05c2-4d13-a5b0-db8a2f4993fa",
   "metadata": {},
   "outputs": [
    {
     "name": "stdout",
     "output_type": "stream",
     "text": [
      "Shape of df_intensity : (29545, 4094)\n",
      "Shape of df_labels_list : (29545, 19)\n"
     ]
    }
   ],
   "source": [
    "print(\"Shape of df_intensity :\", df_intensity.shape)\n",
    "print(\"Shape of df_labels_list :\", df_labels_list.shape)"
   ]
  },
  {
   "cell_type": "code",
   "execution_count": 26,
   "id": "fb7fd22d-c177-45c3-9815-e25b9775b75b",
   "metadata": {},
   "outputs": [],
   "source": [
    "#Pt\n",
    "#read rows with values in it\n",
    "Pt_rows = df_labels_list[(df_labels_list[[15]] != 0.0).all(axis=1)]\n",
    "#get index values of rows\n",
    "rows_of_Pt=Pt_rows.index\n",
    "#drop those rows from intensity dataframe\n",
    "df_intensity=df_intensity.drop(index=rows_of_Pt)\n",
    "#drop those rows from labels dataframe\n",
    "df_labels_list=df_labels_list.drop(index=rows_of_Pt)"
   ]
  },
  {
   "cell_type": "code",
   "execution_count": 27,
   "id": "b0d57b9d-85a3-421e-ac66-e1cbcc89d5e3",
   "metadata": {},
   "outputs": [
    {
     "data": {
      "text/plain": [
       "(25773, 18)"
      ]
     },
     "execution_count": 27,
     "metadata": {},
     "output_type": "execute_result"
    }
   ],
   "source": [
    "df_labels_list=df_labels_list.drop(15, axis=1)\n",
    "df_labels_list.shape"
   ]
  },
  {
   "cell_type": "code",
   "execution_count": 28,
   "id": "847fa8d0-6cd6-4e73-8b47-7096b8cc5fcc",
   "metadata": {},
   "outputs": [
    {
     "name": "stdout",
     "output_type": "stream",
     "text": [
      "Shape of df_intensity : (25773, 4094)\n",
      "Shape of df_labels_list : (25773, 18)\n"
     ]
    }
   ],
   "source": [
    "print(\"Shape of df_intensity :\", df_intensity.shape)\n",
    "print(\"Shape of df_labels_list :\", df_labels_list.shape)"
   ]
  },
  {
   "cell_type": "code",
   "execution_count": 29,
   "id": "2e5471d0-3d2e-4ed0-a7dc-4df6a58b686a",
   "metadata": {},
   "outputs": [],
   "source": [
    "#Au\n",
    "#read rows with values in it\n",
    "Au_rows = df_labels_list[(df_labels_list[[16]] != 0.0).all(axis=1)]\n",
    "#get index values of rows\n",
    "rows_of_Au=Au_rows.index\n",
    "#drop those rows from intensity dataframe\n",
    "df_intensity=df_intensity.drop(index=rows_of_Au)\n",
    "#drop those rows from labels dataframe\n",
    "df_labels_list=df_labels_list.drop(index=rows_of_Au)"
   ]
  },
  {
   "cell_type": "code",
   "execution_count": 30,
   "id": "d1303501-6dc3-4b39-9a9f-568ceb5e8a69",
   "metadata": {},
   "outputs": [
    {
     "data": {
      "text/plain": [
       "(22321, 17)"
      ]
     },
     "execution_count": 30,
     "metadata": {},
     "output_type": "execute_result"
    }
   ],
   "source": [
    "df_labels_list=df_labels_list.drop(16, axis=1)\n",
    "df_labels_list.shape"
   ]
  },
  {
   "cell_type": "code",
   "execution_count": 31,
   "id": "9a5d9517-dabd-4b62-819a-1e484f2f86a9",
   "metadata": {},
   "outputs": [
    {
     "name": "stdout",
     "output_type": "stream",
     "text": [
      "Shape of df_intensity : (22321, 4094)\n",
      "Shape of df_labels_list : (22321, 17)\n"
     ]
    }
   ],
   "source": [
    "print(\"Shape of df_intensity :\", df_intensity.shape)\n",
    "print(\"Shape of df_labels_list :\", df_labels_list.shape)"
   ]
  },
  {
   "cell_type": "code",
   "execution_count": 32,
   "id": "8fd5048f-e7e5-4b0a-85de-df435b04bd61",
   "metadata": {},
   "outputs": [],
   "source": [
    "#Ag\n",
    "#read rows with values in it\n",
    "Ag_rows = df_labels_list[(df_labels_list[[17]] != 0.0).all(axis=1)]\n",
    "#get index values of rows\n",
    "rows_of_Ag=Ag_rows.index\n",
    "#drop those rows from intensity dataframe\n",
    "df_intensity=df_intensity.drop(index=rows_of_Ag)\n",
    "#drop those rows from labels dataframe\n",
    "df_labels_list=df_labels_list.drop(index=rows_of_Ag)"
   ]
  },
  {
   "cell_type": "code",
   "execution_count": 33,
   "id": "32bd5e34-1e5c-41ff-a253-98938c1cd977",
   "metadata": {},
   "outputs": [
    {
     "data": {
      "text/plain": [
       "(19176, 16)"
      ]
     },
     "execution_count": 33,
     "metadata": {},
     "output_type": "execute_result"
    }
   ],
   "source": [
    "df_labels_list=df_labels_list.drop(17, axis=1)\n",
    "df_labels_list.shape"
   ]
  },
  {
   "cell_type": "code",
   "execution_count": 34,
   "id": "88b2039a-5c77-451b-ac23-8faa890552e7",
   "metadata": {},
   "outputs": [
    {
     "name": "stdout",
     "output_type": "stream",
     "text": [
      "Shape of df_intensity : (19176, 4094)\n",
      "Shape of df_labels_list : (19176, 16)\n"
     ]
    }
   ],
   "source": [
    "print(\"Shape of df_intensity :\", df_intensity.shape)\n",
    "print(\"Shape of df_labels_list :\", df_labels_list.shape)"
   ]
  },
  {
   "cell_type": "code",
   "execution_count": 35,
   "id": "dd0545e8-ffd6-4ea9-b08b-c2fd2811c4fb",
   "metadata": {},
   "outputs": [],
   "source": [
    "#Ir\n",
    "#read rows with values in it\n",
    "Ir_rows = df_labels_list[(df_labels_list[[18]] != 0.0).all(axis=1)]\n",
    "#get index values of rows\n",
    "rows_of_Ir=Ir_rows.index\n",
    "#drop those rows from intensity dataframe\n",
    "df_intensity=df_intensity.drop(index=rows_of_Ir)\n",
    "#drop those rows from labels dataframe\n",
    "df_labels_list=df_labels_list.drop(index=rows_of_Ir)"
   ]
  },
  {
   "cell_type": "code",
   "execution_count": 36,
   "id": "82b6c5ab-2308-4491-90a9-c78e4b75b55a",
   "metadata": {},
   "outputs": [
    {
     "data": {
      "text/plain": [
       "(16325, 15)"
      ]
     },
     "execution_count": 36,
     "metadata": {},
     "output_type": "execute_result"
    }
   ],
   "source": [
    "df_labels_list=df_labels_list.drop(18, axis=1)\n",
    "df_labels_list.shape"
   ]
  },
  {
   "cell_type": "code",
   "execution_count": 37,
   "id": "4155339a-86dd-4dad-9d15-5386aea200cb",
   "metadata": {},
   "outputs": [
    {
     "name": "stdout",
     "output_type": "stream",
     "text": [
      "Shape of df_intensity : (16325, 4094)\n",
      "Shape of df_labels_list : (16325, 15)\n"
     ]
    }
   ],
   "source": [
    "print(\"Shape of df_intensity :\", df_intensity.shape)\n",
    "print(\"Shape of df_labels_list :\", df_labels_list.shape)"
   ]
  },
  {
   "cell_type": "code",
   "execution_count": 38,
   "id": "95cdf1dd-e269-4c2d-a1d3-da55bc349e15",
   "metadata": {},
   "outputs": [],
   "source": [
    "#W\n",
    "#read rows with values in it\n",
    "W_rows = df_labels_list[(df_labels_list[[19]] != 0.0).all(axis=1)]\n",
    "#get index values of rows\n",
    "rows_of_W=W_rows.index\n",
    "#drop those rows from intensity dataframe\n",
    "df_intensity=df_intensity.drop(index=rows_of_W)\n",
    "#drop those rows from labels dataframe\n",
    "df_labels_list=df_labels_list.drop(index=rows_of_W)"
   ]
  },
  {
   "cell_type": "code",
   "execution_count": 39,
   "id": "54249be6-0a0a-45bc-99b3-5ad5996966d7",
   "metadata": {},
   "outputs": [
    {
     "data": {
      "text/plain": [
       "(13755, 14)"
      ]
     },
     "execution_count": 39,
     "metadata": {},
     "output_type": "execute_result"
    }
   ],
   "source": [
    "df_labels_list=df_labels_list.drop(19, axis=1)\n",
    "df_labels_list.shape"
   ]
  },
  {
   "cell_type": "code",
   "execution_count": 40,
   "id": "bca1498a-eece-44bf-bb88-8ae58e6f4c2b",
   "metadata": {},
   "outputs": [
    {
     "name": "stdout",
     "output_type": "stream",
     "text": [
      "Shape of df_intensity : (13755, 4094)\n",
      "Shape of df_labels_list : (13755, 14)\n"
     ]
    }
   ],
   "source": [
    "print(\"Shape of df_intensity :\", df_intensity.shape)\n",
    "print(\"Shape of df_labels_list :\", df_labels_list.shape)"
   ]
  },
  {
   "cell_type": "code",
   "execution_count": 41,
   "id": "cd651013-b33f-45d1-bb66-95f295716127",
   "metadata": {},
   "outputs": [],
   "source": [
    "#Pd\n",
    "#read rows with values in it\n",
    "Pd_rows = df_labels_list[(df_labels_list[[20]] != 0.0).all(axis=1)]\n",
    "#get index values of rows\n",
    "rows_of_Pd=Pd_rows.index\n",
    "#drop those rows from intensity dataframe\n",
    "df_intensity=df_intensity.drop(index=rows_of_Pd)\n",
    "#drop those rows from labels dataframe\n",
    "df_labels_list=df_labels_list.drop(index=rows_of_Pd)"
   ]
  },
  {
   "cell_type": "code",
   "execution_count": 42,
   "id": "8aebf543-9801-41dc-9a6c-512d68b3fe8b",
   "metadata": {},
   "outputs": [
    {
     "data": {
      "text/plain": [
       "(11453, 13)"
      ]
     },
     "execution_count": 42,
     "metadata": {},
     "output_type": "execute_result"
    }
   ],
   "source": [
    "df_labels_list=df_labels_list.drop(20, axis=1)\n",
    "df_labels_list.shape"
   ]
  },
  {
   "cell_type": "code",
   "execution_count": 43,
   "id": "a58c40d5-e6ef-4a92-8ea0-bbaec6772a28",
   "metadata": {},
   "outputs": [
    {
     "name": "stdout",
     "output_type": "stream",
     "text": [
      "Shape of df_intensity : (11453, 4094)\n",
      "Shape of df_labels_list : (11453, 13)\n"
     ]
    }
   ],
   "source": [
    "print(\"Shape of df_intensity :\", df_intensity.shape)\n",
    "print(\"Shape of df_labels_list :\", df_labels_list.shape)"
   ]
  },
  {
   "cell_type": "code",
   "execution_count": 44,
   "id": "0cea1810-69fd-4936-af58-ca4592f08b1d",
   "metadata": {},
   "outputs": [],
   "source": [
    "#Sn\n",
    "#read rows with values in it\n",
    "Sn_rows = df_labels_list[(df_labels_list[[21]] != 0.0).all(axis=1)]\n",
    "#get index values of rows\n",
    "rows_of_Sn=Sn_rows.index\n",
    "#drop those rows from intensity dataframe\n",
    "df_intensity=df_intensity.drop(index=rows_of_Sn)\n",
    "#drop those rows from labels dataframe\n",
    "df_labels_list=df_labels_list.drop(index=rows_of_Sn)"
   ]
  },
  {
   "cell_type": "code",
   "execution_count": 45,
   "id": "6b538bd2-c240-453a-9d6d-31383e71aac2",
   "metadata": {},
   "outputs": [
    {
     "data": {
      "text/plain": [
       "(9406, 12)"
      ]
     },
     "execution_count": 45,
     "metadata": {},
     "output_type": "execute_result"
    }
   ],
   "source": [
    "df_labels_list=df_labels_list.drop(21, axis=1)\n",
    "df_labels_list.shape"
   ]
  },
  {
   "cell_type": "code",
   "execution_count": 46,
   "id": "64a35005-006c-45a3-926b-a83d02f1a4f5",
   "metadata": {},
   "outputs": [
    {
     "name": "stdout",
     "output_type": "stream",
     "text": [
      "Shape of df_intensity : (9406, 4094)\n",
      "Shape of df_labels_list : (9406, 12)\n"
     ]
    }
   ],
   "source": [
    "print(\"Shape of df_intensity :\", df_intensity.shape)\n",
    "print(\"Shape of df_labels_list :\", df_labels_list.shape)"
   ]
  },
  {
   "cell_type": "code",
   "execution_count": 47,
   "id": "b1a635ce-a901-4acf-9155-034647087c89",
   "metadata": {},
   "outputs": [],
   "source": [
    "#Tc\n",
    "#read rows with values in it\n",
    "Tc_rows = df_labels_list[(df_labels_list[[22]] != 0.0).all(axis=1)]\n",
    "#get index values of rows\n",
    "rows_of_Tc=Tc_rows.index\n",
    "#drop those rows from intensity dataframe\n",
    "df_intensity=df_intensity.drop(index=rows_of_Tc)\n",
    "#drop those rows from labels dataframe\n",
    "df_labels_list=df_labels_list.drop(index=rows_of_Tc)"
   ]
  },
  {
   "cell_type": "code",
   "execution_count": 48,
   "id": "24e7ea93-d5bf-482d-bd52-477fd69bc800",
   "metadata": {},
   "outputs": [
    {
     "data": {
      "text/plain": [
       "(7601, 11)"
      ]
     },
     "execution_count": 48,
     "metadata": {},
     "output_type": "execute_result"
    }
   ],
   "source": [
    "df_labels_list=df_labels_list.drop(22, axis=1)\n",
    "df_labels_list.shape"
   ]
  },
  {
   "cell_type": "code",
   "execution_count": 49,
   "id": "879666c7-66e7-49dd-8a89-b8206ca8ac8e",
   "metadata": {},
   "outputs": [
    {
     "name": "stdout",
     "output_type": "stream",
     "text": [
      "Shape of df_intensity : (7601, 4094)\n",
      "Shape of df_labels_list : (7601, 11)\n"
     ]
    }
   ],
   "source": [
    "print(\"Shape of df_intensity :\", df_intensity.shape)\n",
    "print(\"Shape of df_labels_list :\", df_labels_list.shape)"
   ]
  },
  {
   "cell_type": "code",
   "execution_count": 50,
   "id": "4366bcfe-4027-42cc-8344-b1e9442dbfe4",
   "metadata": {},
   "outputs": [],
   "source": [
    "#Y\n",
    "#read rows with values in it\n",
    "Y_rows = df_labels_list[(df_labels_list[[23]] != 0.0).all(axis=1)]\n",
    "#get index values of rows\n",
    "rows_of_Y=Y_rows.index\n",
    "#drop those rows from intensity dataframe\n",
    "df_intensity=df_intensity.drop(index=rows_of_Y)\n",
    "#drop those rows from labels dataframe\n",
    "df_labels_list=df_labels_list.drop(index=rows_of_Y)"
   ]
  },
  {
   "cell_type": "code",
   "execution_count": 51,
   "id": "0ad058f6-f1c3-4a83-86a9-12459e280ad4",
   "metadata": {},
   "outputs": [
    {
     "data": {
      "text/plain": [
       "(6025, 10)"
      ]
     },
     "execution_count": 51,
     "metadata": {},
     "output_type": "execute_result"
    }
   ],
   "source": [
    "df_labels_list=df_labels_list.drop(23, axis=1)\n",
    "df_labels_list.shape"
   ]
  },
  {
   "cell_type": "code",
   "execution_count": 54,
   "id": "59af5ae3-50fb-469a-9f99-d772a603ff7a",
   "metadata": {},
   "outputs": [
    {
     "name": "stdout",
     "output_type": "stream",
     "text": [
      "Shape of df_intensity : (6025, 4094)\n",
      "Shape of df_labels_list : (6025, 10)\n"
     ]
    }
   ],
   "source": [
    "print(\"Shape of df_intensity :\", df_intensity.shape)\n",
    "print(\"Shape of df_labels_list :\", df_labels_list.shape)"
   ]
  },
  {
   "cell_type": "code",
   "execution_count": null,
   "id": "c7f74b37-73ed-4cc3-ba75-c74d83a91f3a",
   "metadata": {},
   "outputs": [],
   "source": []
  },
  {
   "cell_type": "code",
   "execution_count": null,
   "id": "1fd4a2ee-539f-44f6-bfb8-be370df1eec5",
   "metadata": {},
   "outputs": [],
   "source": []
  },
  {
   "cell_type": "code",
   "execution_count": null,
   "id": "0fdc41eb-f0c5-41a7-95ed-410e29080c07",
   "metadata": {},
   "outputs": [],
   "source": [
    "#Sn\n",
    "#read rows with values in it\n",
    "Sn_rows = df_labels_list[(df_labels_list[[21]] != 0.0).all(axis=1)]\n",
    "#get index values of rows\n",
    "rows_of_Sn=Sn_rows.index\n",
    "#drop those rows from intensity dataframe\n",
    "df_intensity=df_intensity.drop(index=rows_of_Sn)\n",
    "#drop those rows from labels dataframe\n",
    "df_labels_list=df_labels_list.drop(index=rows_of_Sn)"
   ]
  },
  {
   "cell_type": "code",
   "execution_count": null,
   "id": "5affc58c-2f91-4aaf-99ce-3a6c51c5e000",
   "metadata": {},
   "outputs": [],
   "source": [
    "df_labels_list=df_labels_list.drop(21, axis=1)\n",
    "df_labels_list.shape"
   ]
  },
  {
   "cell_type": "code",
   "execution_count": null,
   "id": "f3357cd1-f057-46aa-a749-e77bb4cd74f1",
   "metadata": {},
   "outputs": [],
   "source": [
    "print(\"Shape of df_intensity :\", df_intensity.shape)\n",
    "print(\"Shape of df_labels_list :\", df_labels_list.shape)"
   ]
  },
  {
   "cell_type": "code",
   "execution_count": null,
   "id": "ad638ad4-513b-4db0-88d7-8428350b7019",
   "metadata": {},
   "outputs": [],
   "source": [
    "#Sn\n",
    "#read rows with values in it\n",
    "Sn_rows = df_labels_list[(df_labels_list[[21]] != 0.0).all(axis=1)]\n",
    "#get index values of rows\n",
    "rows_of_Sn=Sn_rows.index\n",
    "#drop those rows from intensity dataframe\n",
    "df_intensity=df_intensity.drop(index=rows_of_Sn)\n",
    "#drop those rows from labels dataframe\n",
    "df_labels_list=df_labels_list.drop(index=rows_of_Sn)"
   ]
  },
  {
   "cell_type": "code",
   "execution_count": null,
   "id": "714df1c2-a492-45ac-91c1-377ace1e994c",
   "metadata": {},
   "outputs": [],
   "source": [
    "df_labels_list=df_labels_list.drop(21, axis=1)\n",
    "df_labels_list.shape"
   ]
  },
  {
   "cell_type": "code",
   "execution_count": null,
   "id": "c14eac7d-32c7-4e3b-8f4a-bd66d4d2349c",
   "metadata": {},
   "outputs": [],
   "source": []
  },
  {
   "cell_type": "markdown",
   "id": "5d49d3e7-6d04-4906-9871-e7d80b8c586a",
   "metadata": {},
   "source": [
    "## split dataset for train set and test set"
   ]
  },
  {
   "cell_type": "code",
   "execution_count": 55,
   "id": "24a32fb0-4909-4d5f-9cb3-7991f6dd36ec",
   "metadata": {},
   "outputs": [],
   "source": [
    "x=df_intensity\n",
    "y=df_labels_list"
   ]
  },
  {
   "cell_type": "code",
   "execution_count": 56,
   "id": "c8ddd0a1-1b70-48cc-aea4-ea7662274de3",
   "metadata": {},
   "outputs": [],
   "source": [
    "# Split x into train and test sets\n",
    "X_train, X_test, y_train, y_test = train_test_split(x, y, test_size=0.1, random_state=42)"
   ]
  },
  {
   "cell_type": "code",
   "execution_count": 57,
   "id": "a988e3e2-ed0b-49c9-99c9-5cc7c5005bb4",
   "metadata": {},
   "outputs": [
    {
     "name": "stdout",
     "output_type": "stream",
     "text": [
      "X_train shape: (5422, 4094)\n",
      "y_train shape: (5422, 10)\n",
      "X_test shape: (603, 4094)\n",
      "y_test shape: (603, 10)\n"
     ]
    }
   ],
   "source": [
    "# Print the shape of the resulting data sets\n",
    "print(\"X_train shape:\", X_train.shape)\n",
    "print(\"y_train shape:\", y_train.shape)\n",
    "print(\"X_test shape:\", X_test.shape)\n",
    "print(\"y_test shape:\", y_test.shape)"
   ]
  },
  {
   "cell_type": "code",
   "execution_count": 69,
   "id": "fff03741-9744-4553-9b98-678e772cc1c8",
   "metadata": {},
   "outputs": [],
   "source": [
    "# Compile the model\n",
    "def create_model(my_learning_rate):\n",
    "    model = tf.keras.models.Sequential()\n",
    "    #model.add(Dense(6025, batch_input_shape=(None,4094), activation=relu,name=\"input\"))\n",
    "    #model.add(Dense(5422, batch_input_shape=(None,4094), activation=relu,name=\"layer_1\"))\n",
    "    #model.add(Dense(5200, batch_input_shape=(None,4094), activation=relu,name=\"layer_2\"))\n",
    "    #model.add(Dense(4800, batch_input_shape=(None,4094), activation=relu,name=\"layer_3\"))\n",
    "    model.add(Dense(4600, batch_input_shape=(None,4094), activation=relu,name=\"layer_4\"))\n",
    "    model.add(Dense(4296, batch_input_shape=(None,4094), activation=relu,name=\"layer_5\"))\n",
    "    model.add(Dense(3748, batch_input_shape=(None,4094), activation=relu,name=\"layer_6\"))\n",
    "    model.add(Dense(3248, batch_input_shape=(None,4094), activation=relu,name=\"layer_7\"))\n",
    "    model.add(Dense(2548, batch_input_shape=(None,4094), activation=relu,name=\"layer_8\"))\n",
    "    model.add(Dense(2000, batch_input_shape=(None,4094), activation=relu,name=\"layer_9\"))\n",
    "        \n",
    "    model.add(Dense(1024, batch_input_shape=(None,4094), activation=relu,name=\"layer_11\"))   \n",
    "    model.add(Dense(512, batch_input_shape=(None,4094), activation=relu,name=\"layer_12\"))\n",
    "    model.add(Dense(256, batch_input_shape=(None,4094), activation=relu,name=\"layer_13\"))\n",
    "    model.add(Dense(128, batch_input_shape=(None,4094), activation=relu,name=\"layer_14\"))\n",
    "    model.add(Dense(10, activation=softmax,name=\"output\"))\n",
    "    \n",
    "    model.compile(optimizer=keras.optimizers.Adam(learning_rate=my_learning_rate), loss='categorical_crossentropy', metrics=['accuracy'])\n",
    "    return model \n"
   ]
  },
  {
   "cell_type": "code",
   "execution_count": 70,
   "id": "cd08b654-05de-4341-a1cb-68c5deca9ad9",
   "metadata": {},
   "outputs": [],
   "source": [
    "# Train the model\n",
    "def train_model(model, train_features, train_label, epochs,\n",
    "                batch_size=None, validation_split=0.2):\n",
    "  \"\"\"Train the model by feeding it data.\"\"\"\n",
    "\n",
    "  history = model.fit(x=train_features, y=train_label, batch_size=batch_size,\n",
    "                      epochs=epochs, shuffle=True, verbose=2,\n",
    "                      validation_split=validation_split)\n",
    " \n",
    "  # To track the progression of training, gather a snapshot\n",
    "  # of the model's metrics at each epoch. \n",
    "  epochs = history.epoch\n",
    "  hist = pd.DataFrame(history.history)\n",
    "\n",
    "  return epochs, hist    "
   ]
  },
  {
   "cell_type": "code",
   "execution_count": 147,
   "id": "6d035ad0-8159-4967-88f4-47ca5b6c77b6",
   "metadata": {},
   "outputs": [],
   "source": [
    "# The following variables are the hyperparameters.\n",
    "learning_rate = 0.001\n",
    "epochs = 150\n",
    "batch_size = 64\n",
    "validation_split = 0.2\n"
   ]
  },
  {
   "cell_type": "code",
   "execution_count": 148,
   "id": "9a7a1650-71d9-4c5c-ae7e-4c60b94ab818",
   "metadata": {},
   "outputs": [
    {
     "name": "stdout",
     "output_type": "stream",
     "text": [
      "Epoch 1/150\n",
      "68/68 - 1s - loss: 435763.3750 - accuracy: 0.1091 - val_loss: 15256.0557 - val_accuracy: 0.0949 - 1s/epoch - 19ms/step\n",
      "Epoch 2/150\n",
      "68/68 - 1s - loss: 6029.1050 - accuracy: 0.1139 - val_loss: 28673.8711 - val_accuracy: 0.1143 - 647ms/epoch - 10ms/step\n",
      "Epoch 3/150\n",
      "68/68 - 1s - loss: 7762.7529 - accuracy: 0.1118 - val_loss: 689.0651 - val_accuracy: 0.1263 - 651ms/epoch - 10ms/step\n",
      "Epoch 4/150\n",
      "68/68 - 1s - loss: 7009.5967 - accuracy: 0.1349 - val_loss: 4065.9185 - val_accuracy: 0.1954 - 647ms/epoch - 10ms/step\n",
      "Epoch 5/150\n",
      "68/68 - 1s - loss: 2291.4231 - accuracy: 0.1690 - val_loss: 624.1293 - val_accuracy: 0.3447 - 644ms/epoch - 9ms/step\n",
      "Epoch 6/150\n",
      "68/68 - 1s - loss: 1867.5433 - accuracy: 0.2573 - val_loss: 1666.4629 - val_accuracy: 0.3456 - 652ms/epoch - 10ms/step\n",
      "Epoch 7/150\n",
      "68/68 - 1s - loss: 3241.0208 - accuracy: 0.2875 - val_loss: 4578.3857 - val_accuracy: 0.3032 - 642ms/epoch - 9ms/step\n",
      "Epoch 8/150\n",
      "68/68 - 1s - loss: 4217.3931 - accuracy: 0.2499 - val_loss: 2391.7532 - val_accuracy: 0.2175 - 639ms/epoch - 9ms/step\n",
      "Epoch 9/150\n",
      "68/68 - 1s - loss: 4593.1816 - accuracy: 0.2398 - val_loss: 18441.4883 - val_accuracy: 0.2396 - 649ms/epoch - 10ms/step\n",
      "Epoch 10/150\n",
      "68/68 - 1s - loss: 4093.2751 - accuracy: 0.2393 - val_loss: 879.9127 - val_accuracy: 0.3576 - 655ms/epoch - 10ms/step\n",
      "Epoch 11/150\n",
      "68/68 - 1s - loss: 413.5973 - accuracy: 0.4932 - val_loss: 353.1657 - val_accuracy: 0.5604 - 648ms/epoch - 10ms/step\n",
      "Epoch 12/150\n",
      "68/68 - 1s - loss: 92.8980 - accuracy: 0.6290 - val_loss: 99.6703 - val_accuracy: 0.5825 - 646ms/epoch - 10ms/step\n",
      "Epoch 13/150\n",
      "68/68 - 1s - loss: 99.0055 - accuracy: 0.6528 - val_loss: 25.5656 - val_accuracy: 0.6765 - 648ms/epoch - 10ms/step\n",
      "Epoch 14/150\n",
      "68/68 - 1s - loss: 36.1553 - accuracy: 0.7256 - val_loss: 21.2470 - val_accuracy: 0.7419 - 640ms/epoch - 9ms/step\n",
      "Epoch 15/150\n",
      "68/68 - 1s - loss: 11.6175 - accuracy: 0.7680 - val_loss: 6.2189 - val_accuracy: 0.7733 - 651ms/epoch - 10ms/step\n",
      "Epoch 16/150\n",
      "68/68 - 1s - loss: 15.5554 - accuracy: 0.7860 - val_loss: 15.4893 - val_accuracy: 0.7751 - 660ms/epoch - 10ms/step\n",
      "Epoch 17/150\n",
      "68/68 - 1s - loss: 8.9718 - accuracy: 0.8019 - val_loss: 2.6075 - val_accuracy: 0.7889 - 649ms/epoch - 10ms/step\n",
      "Epoch 18/150\n",
      "68/68 - 1s - loss: 2.2716 - accuracy: 0.8225 - val_loss: 8.5487 - val_accuracy: 0.7880 - 649ms/epoch - 10ms/step\n",
      "Epoch 19/150\n",
      "68/68 - 1s - loss: 4.2635 - accuracy: 0.8312 - val_loss: 1.5629 - val_accuracy: 0.8037 - 655ms/epoch - 10ms/step\n",
      "Epoch 20/150\n",
      "68/68 - 1s - loss: 1.5411 - accuracy: 0.8326 - val_loss: 2.2176 - val_accuracy: 0.8175 - 657ms/epoch - 10ms/step\n",
      "Epoch 21/150\n",
      "68/68 - 1s - loss: 1.3948 - accuracy: 0.8407 - val_loss: 1.7419 - val_accuracy: 0.8074 - 656ms/epoch - 10ms/step\n",
      "Epoch 22/150\n",
      "68/68 - 1s - loss: 1.4420 - accuracy: 0.8497 - val_loss: 0.9699 - val_accuracy: 0.8295 - 658ms/epoch - 10ms/step\n",
      "Epoch 23/150\n",
      "68/68 - 1s - loss: 1.1565 - accuracy: 0.8557 - val_loss: 2.1034 - val_accuracy: 0.8461 - 658ms/epoch - 10ms/step\n",
      "Epoch 24/150\n",
      "68/68 - 1s - loss: 1.4642 - accuracy: 0.8626 - val_loss: 0.9445 - val_accuracy: 0.8442 - 656ms/epoch - 10ms/step\n",
      "Epoch 25/150\n",
      "68/68 - 1s - loss: 1.0482 - accuracy: 0.8647 - val_loss: 1.6242 - val_accuracy: 0.8406 - 661ms/epoch - 10ms/step\n",
      "Epoch 26/150\n",
      "68/68 - 1s - loss: 0.9387 - accuracy: 0.8697 - val_loss: 1.0087 - val_accuracy: 0.8535 - 655ms/epoch - 10ms/step\n",
      "Epoch 27/150\n",
      "68/68 - 1s - loss: 0.9440 - accuracy: 0.8656 - val_loss: 0.8897 - val_accuracy: 0.8562 - 658ms/epoch - 10ms/step\n",
      "Epoch 28/150\n",
      "68/68 - 1s - loss: 0.8630 - accuracy: 0.8656 - val_loss: 1.0436 - val_accuracy: 0.8396 - 669ms/epoch - 10ms/step\n",
      "Epoch 29/150\n",
      "68/68 - 1s - loss: 0.9262 - accuracy: 0.8723 - val_loss: 1.3581 - val_accuracy: 0.8470 - 663ms/epoch - 10ms/step\n",
      "Epoch 30/150\n",
      "68/68 - 1s - loss: 1.0350 - accuracy: 0.8727 - val_loss: 1.9283 - val_accuracy: 0.8470 - 653ms/epoch - 10ms/step\n",
      "Epoch 31/150\n",
      "68/68 - 1s - loss: 1.8855 - accuracy: 0.8561 - val_loss: 2.4918 - val_accuracy: 0.8581 - 662ms/epoch - 10ms/step\n",
      "Epoch 32/150\n",
      "68/68 - 1s - loss: 1.8490 - accuracy: 0.8610 - val_loss: 1.0764 - val_accuracy: 0.8433 - 646ms/epoch - 10ms/step\n",
      "Epoch 33/150\n",
      "68/68 - 1s - loss: 1.3253 - accuracy: 0.8681 - val_loss: 2.7681 - val_accuracy: 0.8664 - 649ms/epoch - 10ms/step\n",
      "Epoch 34/150\n",
      "68/68 - 1s - loss: 1.5904 - accuracy: 0.8762 - val_loss: 2.4265 - val_accuracy: 0.8516 - 647ms/epoch - 10ms/step\n",
      "Epoch 35/150\n",
      "68/68 - 1s - loss: 1.1753 - accuracy: 0.8734 - val_loss: 3.4986 - val_accuracy: 0.8728 - 649ms/epoch - 10ms/step\n",
      "Epoch 36/150\n",
      "68/68 - 1s - loss: 1.3680 - accuracy: 0.8771 - val_loss: 1.7196 - val_accuracy: 0.8461 - 649ms/epoch - 10ms/step\n",
      "Epoch 37/150\n",
      "68/68 - 1s - loss: 2.4436 - accuracy: 0.8582 - val_loss: 2.3505 - val_accuracy: 0.8516 - 642ms/epoch - 9ms/step\n",
      "Epoch 38/150\n",
      "68/68 - 1s - loss: 3.1128 - accuracy: 0.8529 - val_loss: 1.5456 - val_accuracy: 0.8498 - 652ms/epoch - 10ms/step\n",
      "Epoch 39/150\n",
      "68/68 - 1s - loss: 2.7056 - accuracy: 0.8649 - val_loss: 2.3259 - val_accuracy: 0.8350 - 651ms/epoch - 10ms/step\n",
      "Epoch 40/150\n",
      "68/68 - 1s - loss: 5.8705 - accuracy: 0.8543 - val_loss: 14.3571 - val_accuracy: 0.8249 - 645ms/epoch - 9ms/step\n",
      "Epoch 41/150\n",
      "68/68 - 1s - loss: 32.6948 - accuracy: 0.7740 - val_loss: 3.1548 - val_accuracy: 0.7253 - 642ms/epoch - 9ms/step\n",
      "Epoch 42/150\n",
      "68/68 - 1s - loss: 5.4336 - accuracy: 0.7904 - val_loss: 1.0942 - val_accuracy: 0.8212 - 650ms/epoch - 10ms/step\n",
      "Epoch 43/150\n",
      "68/68 - 1s - loss: 2.6106 - accuracy: 0.8344 - val_loss: 1.1132 - val_accuracy: 0.8470 - 650ms/epoch - 10ms/step\n",
      "Epoch 44/150\n",
      "68/68 - 1s - loss: 1.5176 - accuracy: 0.8564 - val_loss: 1.1080 - val_accuracy: 0.8313 - 647ms/epoch - 10ms/step\n",
      "Epoch 45/150\n",
      "68/68 - 1s - loss: 1.7450 - accuracy: 0.8607 - val_loss: 0.8249 - val_accuracy: 0.8203 - 631ms/epoch - 9ms/step\n",
      "Epoch 46/150\n",
      "68/68 - 1s - loss: 1.1740 - accuracy: 0.8697 - val_loss: 1.6439 - val_accuracy: 0.8470 - 650ms/epoch - 10ms/step\n",
      "Epoch 47/150\n",
      "68/68 - 1s - loss: 1.1250 - accuracy: 0.8730 - val_loss: 0.7586 - val_accuracy: 0.8700 - 648ms/epoch - 10ms/step\n",
      "Epoch 48/150\n",
      "68/68 - 1s - loss: 0.7999 - accuracy: 0.8822 - val_loss: 0.8343 - val_accuracy: 0.8553 - 654ms/epoch - 10ms/step\n",
      "Epoch 49/150\n",
      "68/68 - 1s - loss: 0.7867 - accuracy: 0.8794 - val_loss: 0.7693 - val_accuracy: 0.8516 - 651ms/epoch - 10ms/step\n",
      "Epoch 50/150\n",
      "68/68 - 1s - loss: 0.8347 - accuracy: 0.8776 - val_loss: 1.2079 - val_accuracy: 0.8737 - 655ms/epoch - 10ms/step\n",
      "Epoch 51/150\n",
      "68/68 - 1s - loss: 0.8004 - accuracy: 0.8783 - val_loss: 0.8006 - val_accuracy: 0.8710 - 646ms/epoch - 10ms/step\n",
      "Epoch 52/150\n",
      "68/68 - 1s - loss: 0.8018 - accuracy: 0.8776 - val_loss: 0.7527 - val_accuracy: 0.8765 - 659ms/epoch - 10ms/step\n",
      "Epoch 53/150\n",
      "68/68 - 1s - loss: 0.7808 - accuracy: 0.8819 - val_loss: 0.8556 - val_accuracy: 0.8691 - 674ms/epoch - 10ms/step\n",
      "Epoch 54/150\n",
      "68/68 - 1s - loss: 0.7533 - accuracy: 0.8893 - val_loss: 0.7632 - val_accuracy: 0.8507 - 653ms/epoch - 10ms/step\n",
      "Epoch 55/150\n",
      "68/68 - 1s - loss: 0.7852 - accuracy: 0.8856 - val_loss: 0.9827 - val_accuracy: 0.8682 - 654ms/epoch - 10ms/step\n",
      "Epoch 56/150\n",
      "68/68 - 1s - loss: 0.7587 - accuracy: 0.8803 - val_loss: 0.7898 - val_accuracy: 0.8581 - 645ms/epoch - 9ms/step\n",
      "Epoch 57/150\n",
      "68/68 - 1s - loss: 0.7804 - accuracy: 0.8794 - val_loss: 0.7499 - val_accuracy: 0.8940 - 645ms/epoch - 9ms/step\n",
      "Epoch 58/150\n",
      "68/68 - 1s - loss: 0.7226 - accuracy: 0.8935 - val_loss: 1.1180 - val_accuracy: 0.8618 - 652ms/epoch - 10ms/step\n",
      "Epoch 59/150\n",
      "68/68 - 1s - loss: 0.7486 - accuracy: 0.8921 - val_loss: 0.7365 - val_accuracy: 0.8691 - 666ms/epoch - 10ms/step\n",
      "Epoch 60/150\n",
      "68/68 - 1s - loss: 0.7231 - accuracy: 0.8861 - val_loss: 0.8279 - val_accuracy: 0.8885 - 661ms/epoch - 10ms/step\n",
      "Epoch 61/150\n",
      "68/68 - 1s - loss: 0.7043 - accuracy: 0.8852 - val_loss: 0.9086 - val_accuracy: 0.8562 - 654ms/epoch - 10ms/step\n",
      "Epoch 62/150\n",
      "68/68 - 1s - loss: 0.6954 - accuracy: 0.8896 - val_loss: 0.7485 - val_accuracy: 0.8931 - 684ms/epoch - 10ms/step\n",
      "Epoch 63/150\n",
      "68/68 - 1s - loss: 0.6761 - accuracy: 0.8935 - val_loss: 0.7348 - val_accuracy: 0.8747 - 661ms/epoch - 10ms/step\n",
      "Epoch 64/150\n",
      "68/68 - 1s - loss: 0.6722 - accuracy: 0.8944 - val_loss: 0.7223 - val_accuracy: 0.8857 - 641ms/epoch - 9ms/step\n",
      "Epoch 65/150\n",
      "68/68 - 1s - loss: 0.6752 - accuracy: 0.8935 - val_loss: 0.7389 - val_accuracy: 0.8553 - 645ms/epoch - 9ms/step\n",
      "Epoch 66/150\n",
      "68/68 - 1s - loss: 0.6867 - accuracy: 0.8810 - val_loss: 0.7619 - val_accuracy: 0.8747 - 655ms/epoch - 10ms/step\n",
      "Epoch 67/150\n",
      "68/68 - 1s - loss: 0.6981 - accuracy: 0.8808 - val_loss: 0.7757 - val_accuracy: 0.8756 - 646ms/epoch - 10ms/step\n",
      "Epoch 68/150\n",
      "68/68 - 1s - loss: 1.3395 - accuracy: 0.8861 - val_loss: 8.3686 - val_accuracy: 0.8922 - 645ms/epoch - 9ms/step\n",
      "Epoch 69/150\n",
      "68/68 - 1s - loss: 4.1506 - accuracy: 0.8575 - val_loss: 0.9253 - val_accuracy: 0.7788 - 640ms/epoch - 9ms/step\n",
      "Epoch 70/150\n",
      "68/68 - 1s - loss: 0.8852 - accuracy: 0.8261 - val_loss: 0.8451 - val_accuracy: 0.8295 - 646ms/epoch - 10ms/step\n",
      "Epoch 71/150\n",
      "68/68 - 1s - loss: 107.3215 - accuracy: 0.7600 - val_loss: 160.9712 - val_accuracy: 0.2074 - 632ms/epoch - 9ms/step\n",
      "Epoch 72/150\n",
      "68/68 - 1s - loss: 780.1860 - accuracy: 0.1709 - val_loss: 177.4770 - val_accuracy: 0.2369 - 630ms/epoch - 9ms/step\n",
      "Epoch 73/150\n",
      "68/68 - 1s - loss: 5873.4424 - accuracy: 0.1727 - val_loss: 5992.9102 - val_accuracy: 0.1613 - 649ms/epoch - 10ms/step\n",
      "Epoch 74/150\n",
      "68/68 - 1s - loss: 4872.7490 - accuracy: 0.1312 - val_loss: 201.3996 - val_accuracy: 0.1161 - 657ms/epoch - 10ms/step\n",
      "Epoch 75/150\n",
      "68/68 - 1s - loss: 9946.4951 - accuracy: 0.1436 - val_loss: 60959.6523 - val_accuracy: 0.1475 - 673ms/epoch - 10ms/step\n",
      "Epoch 76/150\n",
      "68/68 - 1s - loss: 5838.4502 - accuracy: 0.1508 - val_loss: 1537.7787 - val_accuracy: 0.1935 - 658ms/epoch - 10ms/step\n",
      "Epoch 77/150\n",
      "68/68 - 1s - loss: 6199.1392 - accuracy: 0.1685 - val_loss: 2887.5400 - val_accuracy: 0.1742 - 646ms/epoch - 10ms/step\n",
      "Epoch 78/150\n",
      "68/68 - 1s - loss: 7484.6245 - accuracy: 0.1441 - val_loss: 3774.6174 - val_accuracy: 0.2820 - 650ms/epoch - 10ms/step\n",
      "Epoch 79/150\n",
      "68/68 - 1s - loss: 4431.5977 - accuracy: 0.1842 - val_loss: 1909.5909 - val_accuracy: 0.2230 - 651ms/epoch - 10ms/step\n",
      "Epoch 80/150\n",
      "68/68 - 1s - loss: 4463.8232 - accuracy: 0.2380 - val_loss: 894.0691 - val_accuracy: 0.1963 - 666ms/epoch - 10ms/step\n",
      "Epoch 81/150\n",
      "68/68 - 1s - loss: 1813.3849 - accuracy: 0.2578 - val_loss: 6772.4702 - val_accuracy: 0.2737 - 664ms/epoch - 10ms/step\n",
      "Epoch 82/150\n",
      "68/68 - 1s - loss: 288.9909 - accuracy: 0.2347 - val_loss: 55.1291 - val_accuracy: 0.2129 - 656ms/epoch - 10ms/step\n",
      "Epoch 83/150\n",
      "68/68 - 1s - loss: 22.9435 - accuracy: 0.2629 - val_loss: 3.1973 - val_accuracy: 0.3336 - 657ms/epoch - 10ms/step\n",
      "Epoch 84/150\n",
      "68/68 - 1s - loss: 28.5068 - accuracy: 0.3060 - val_loss: 1.9912 - val_accuracy: 0.2802 - 658ms/epoch - 10ms/step\n",
      "Epoch 85/150\n",
      "68/68 - 1s - loss: 1.9188 - accuracy: 0.3406 - val_loss: 1.9357 - val_accuracy: 0.3530 - 655ms/epoch - 10ms/step\n",
      "Epoch 86/150\n",
      "68/68 - 1s - loss: 1.8285 - accuracy: 0.4044 - val_loss: 1.9614 - val_accuracy: 0.3539 - 659ms/epoch - 10ms/step\n",
      "Epoch 87/150\n",
      "68/68 - 1s - loss: 1.8774 - accuracy: 0.3745 - val_loss: 1.8747 - val_accuracy: 0.3760 - 672ms/epoch - 10ms/step\n",
      "Epoch 88/150\n",
      "68/68 - 1s - loss: 2.8023 - accuracy: 0.3712 - val_loss: 5.0510 - val_accuracy: 0.2654 - 654ms/epoch - 10ms/step\n",
      "Epoch 89/150\n",
      "68/68 - 1s - loss: 3.1767 - accuracy: 0.3521 - val_loss: 2.3093 - val_accuracy: 0.3419 - 698ms/epoch - 10ms/step\n",
      "Epoch 90/150\n",
      "68/68 - 1s - loss: 1.8237 - accuracy: 0.3968 - val_loss: 1.8714 - val_accuracy: 0.3770 - 682ms/epoch - 10ms/step\n",
      "Epoch 91/150\n",
      "68/68 - 1s - loss: 1.8564 - accuracy: 0.3994 - val_loss: 1.8355 - val_accuracy: 0.4359 - 670ms/epoch - 10ms/step\n",
      "Epoch 92/150\n",
      "68/68 - 1s - loss: 1.8430 - accuracy: 0.4381 - val_loss: 1.9467 - val_accuracy: 0.3991 - 662ms/epoch - 10ms/step\n",
      "Epoch 93/150\n",
      "68/68 - 1s - loss: 1.7358 - accuracy: 0.4588 - val_loss: 1.7958 - val_accuracy: 0.4341 - 669ms/epoch - 10ms/step\n",
      "Epoch 94/150\n",
      "68/68 - 1s - loss: 1.6896 - accuracy: 0.4777 - val_loss: 1.7287 - val_accuracy: 0.4774 - 665ms/epoch - 10ms/step\n",
      "Epoch 95/150\n",
      "68/68 - 1s - loss: 1.8192 - accuracy: 0.5054 - val_loss: 1.9242 - val_accuracy: 0.4912 - 671ms/epoch - 10ms/step\n",
      "Epoch 96/150\n",
      "68/68 - 1s - loss: 1.6921 - accuracy: 0.5179 - val_loss: 1.7143 - val_accuracy: 0.4544 - 662ms/epoch - 10ms/step\n",
      "Epoch 97/150\n",
      "68/68 - 1s - loss: 1.6373 - accuracy: 0.5257 - val_loss: 1.6685 - val_accuracy: 0.4995 - 662ms/epoch - 10ms/step\n",
      "Epoch 98/150\n",
      "68/68 - 1s - loss: 1.5463 - accuracy: 0.5495 - val_loss: 1.5996 - val_accuracy: 0.5392 - 669ms/epoch - 10ms/step\n",
      "Epoch 99/150\n",
      "68/68 - 1s - loss: 1.5066 - accuracy: 0.5702 - val_loss: 1.5570 - val_accuracy: 0.5493 - 643ms/epoch - 9ms/step\n",
      "Epoch 100/150\n",
      "68/68 - 1s - loss: 1.4870 - accuracy: 0.5716 - val_loss: 1.5517 - val_accuracy: 0.5484 - 646ms/epoch - 10ms/step\n",
      "Epoch 101/150\n",
      "68/68 - 1s - loss: 1.5443 - accuracy: 0.5520 - val_loss: 1.5971 - val_accuracy: 0.5410 - 663ms/epoch - 10ms/step\n",
      "Epoch 102/150\n",
      "68/68 - 1s - loss: 1.4747 - accuracy: 0.5753 - val_loss: 1.5243 - val_accuracy: 0.5493 - 674ms/epoch - 10ms/step\n",
      "Epoch 103/150\n",
      "68/68 - 1s - loss: 1.4387 - accuracy: 0.5928 - val_loss: 1.5091 - val_accuracy: 0.5788 - 660ms/epoch - 10ms/step\n",
      "Epoch 104/150\n",
      "68/68 - 1s - loss: 1.4341 - accuracy: 0.6117 - val_loss: 1.5419 - val_accuracy: 0.5346 - 666ms/epoch - 10ms/step\n",
      "Epoch 105/150\n",
      "68/68 - 1s - loss: 1.3966 - accuracy: 0.6119 - val_loss: 1.4777 - val_accuracy: 0.5677 - 659ms/epoch - 10ms/step\n",
      "Epoch 106/150\n",
      "68/68 - 1s - loss: 1.3947 - accuracy: 0.6269 - val_loss: 1.4903 - val_accuracy: 0.5797 - 673ms/epoch - 10ms/step\n",
      "Epoch 107/150\n",
      "68/68 - 1s - loss: 1.3890 - accuracy: 0.6094 - val_loss: 1.4804 - val_accuracy: 0.5779 - 687ms/epoch - 10ms/step\n",
      "Epoch 108/150\n",
      "68/68 - 1s - loss: 1.4099 - accuracy: 0.6085 - val_loss: 1.5347 - val_accuracy: 0.5594 - 665ms/epoch - 10ms/step\n",
      "Epoch 109/150\n",
      "68/68 - 1s - loss: 1.5320 - accuracy: 0.5847 - val_loss: 1.5597 - val_accuracy: 0.5364 - 668ms/epoch - 10ms/step\n",
      "Epoch 110/150\n",
      "68/68 - 1s - loss: 1.7366 - accuracy: 0.5640 - val_loss: 2.7289 - val_accuracy: 0.5180 - 666ms/epoch - 10ms/step\n",
      "Epoch 111/150\n",
      "68/68 - 1s - loss: 1.6791 - accuracy: 0.5603 - val_loss: 1.5551 - val_accuracy: 0.5456 - 675ms/epoch - 10ms/step\n",
      "Epoch 112/150\n",
      "68/68 - 1s - loss: 3.6107 - accuracy: 0.4192 - val_loss: 2.5835 - val_accuracy: 0.4028 - 672ms/epoch - 10ms/step\n",
      "Epoch 113/150\n",
      "68/68 - 1s - loss: 1.7634 - accuracy: 0.4819 - val_loss: 1.6684 - val_accuracy: 0.4931 - 679ms/epoch - 10ms/step\n",
      "Epoch 114/150\n",
      "68/68 - 1s - loss: 1.5760 - accuracy: 0.5372 - val_loss: 1.6334 - val_accuracy: 0.5088 - 657ms/epoch - 10ms/step\n",
      "Epoch 115/150\n",
      "68/68 - 1s - loss: 1.5714 - accuracy: 0.5384 - val_loss: 1.6472 - val_accuracy: 0.5401 - 653ms/epoch - 10ms/step\n",
      "Epoch 116/150\n",
      "68/68 - 1s - loss: 1.5226 - accuracy: 0.5538 - val_loss: 1.5744 - val_accuracy: 0.5290 - 658ms/epoch - 10ms/step\n",
      "Epoch 117/150\n",
      "68/68 - 1s - loss: 1.5107 - accuracy: 0.5598 - val_loss: 1.5380 - val_accuracy: 0.5429 - 656ms/epoch - 10ms/step\n",
      "Epoch 118/150\n",
      "68/68 - 1s - loss: 1.4966 - accuracy: 0.5568 - val_loss: 1.6572 - val_accuracy: 0.5272 - 659ms/epoch - 10ms/step\n",
      "Epoch 119/150\n",
      "68/68 - 1s - loss: 1.5281 - accuracy: 0.5451 - val_loss: 1.5360 - val_accuracy: 0.5438 - 655ms/epoch - 10ms/step\n",
      "Epoch 120/150\n",
      "68/68 - 1s - loss: 1.4867 - accuracy: 0.5490 - val_loss: 1.5790 - val_accuracy: 0.5281 - 650ms/epoch - 10ms/step\n",
      "Epoch 121/150\n",
      "68/68 - 1s - loss: 1.5073 - accuracy: 0.5448 - val_loss: 1.5953 - val_accuracy: 0.5041 - 654ms/epoch - 10ms/step\n",
      "Epoch 122/150\n",
      "68/68 - 1s - loss: 1.5199 - accuracy: 0.5488 - val_loss: 1.5829 - val_accuracy: 0.5392 - 671ms/epoch - 10ms/step\n",
      "Epoch 123/150\n",
      "68/68 - 1s - loss: 1.4634 - accuracy: 0.5739 - val_loss: 1.5017 - val_accuracy: 0.5465 - 665ms/epoch - 10ms/step\n",
      "Epoch 124/150\n",
      "68/68 - 1s - loss: 2.8052 - accuracy: 0.5677 - val_loss: 1.6238 - val_accuracy: 0.5161 - 666ms/epoch - 10ms/step\n",
      "Epoch 125/150\n",
      "68/68 - 1s - loss: 1.4884 - accuracy: 0.5610 - val_loss: 1.5456 - val_accuracy: 0.5300 - 704ms/epoch - 10ms/step\n",
      "Epoch 126/150\n",
      "68/68 - 1s - loss: 1.4648 - accuracy: 0.5817 - val_loss: 1.4891 - val_accuracy: 0.5475 - 732ms/epoch - 11ms/step\n",
      "Epoch 127/150\n",
      "68/68 - 1s - loss: 1.3981 - accuracy: 0.5965 - val_loss: 1.4739 - val_accuracy: 0.5816 - 673ms/epoch - 10ms/step\n",
      "Epoch 128/150\n",
      "68/68 - 1s - loss: 1.3882 - accuracy: 0.6071 - val_loss: 1.4593 - val_accuracy: 0.5779 - 679ms/epoch - 10ms/step\n",
      "Epoch 129/150\n",
      "68/68 - 1s - loss: 1.3753 - accuracy: 0.6113 - val_loss: 1.7117 - val_accuracy: 0.5714 - 685ms/epoch - 10ms/step\n",
      "Epoch 130/150\n",
      "68/68 - 1s - loss: 1.3845 - accuracy: 0.6094 - val_loss: 1.4147 - val_accuracy: 0.5816 - 710ms/epoch - 10ms/step\n",
      "Epoch 131/150\n",
      "68/68 - 1s - loss: 1.3638 - accuracy: 0.6078 - val_loss: 1.4587 - val_accuracy: 0.5853 - 696ms/epoch - 10ms/step\n",
      "Epoch 132/150\n",
      "68/68 - 1s - loss: 1.3893 - accuracy: 0.6092 - val_loss: 1.4486 - val_accuracy: 0.5733 - 694ms/epoch - 10ms/step\n",
      "Epoch 133/150\n",
      "68/68 - 1s - loss: 1.3654 - accuracy: 0.6212 - val_loss: 1.4209 - val_accuracy: 0.5797 - 692ms/epoch - 10ms/step\n",
      "Epoch 134/150\n",
      "68/68 - 1s - loss: 1.3291 - accuracy: 0.6297 - val_loss: 1.4103 - val_accuracy: 0.6028 - 678ms/epoch - 10ms/step\n",
      "Epoch 135/150\n",
      "68/68 - 1s - loss: 1.3976 - accuracy: 0.6267 - val_loss: 1.4880 - val_accuracy: 0.5714 - 649ms/epoch - 10ms/step\n",
      "Epoch 136/150\n",
      "68/68 - 1s - loss: 1.4291 - accuracy: 0.6013 - val_loss: 1.4646 - val_accuracy: 0.5982 - 667ms/epoch - 10ms/step\n",
      "Epoch 137/150\n",
      "68/68 - 1s - loss: 1.3926 - accuracy: 0.6066 - val_loss: 1.4433 - val_accuracy: 0.5825 - 687ms/epoch - 10ms/step\n",
      "Epoch 138/150\n",
      "68/68 - 1s - loss: 1.3446 - accuracy: 0.6207 - val_loss: 1.4448 - val_accuracy: 0.6009 - 693ms/epoch - 10ms/step\n",
      "Epoch 139/150\n",
      "68/68 - 1s - loss: 1.3155 - accuracy: 0.6398 - val_loss: 1.4152 - val_accuracy: 0.6065 - 682ms/epoch - 10ms/step\n",
      "Epoch 140/150\n",
      "68/68 - 1s - loss: 1.3493 - accuracy: 0.6325 - val_loss: 1.3994 - val_accuracy: 0.6065 - 669ms/epoch - 10ms/step\n",
      "Epoch 141/150\n",
      "68/68 - 1s - loss: 1.3110 - accuracy: 0.6507 - val_loss: 1.4665 - val_accuracy: 0.6120 - 709ms/epoch - 10ms/step\n",
      "Epoch 142/150\n",
      "68/68 - 1s - loss: 1.3367 - accuracy: 0.6207 - val_loss: 1.3873 - val_accuracy: 0.6157 - 684ms/epoch - 10ms/step\n",
      "Epoch 143/150\n",
      "68/68 - 1s - loss: 1.3714 - accuracy: 0.6380 - val_loss: 1.4305 - val_accuracy: 0.5917 - 707ms/epoch - 10ms/step\n",
      "Epoch 144/150\n",
      "68/68 - 1s - loss: 1.3024 - accuracy: 0.6306 - val_loss: 1.3400 - val_accuracy: 0.6295 - 696ms/epoch - 10ms/step\n",
      "Epoch 145/150\n",
      "68/68 - 1s - loss: 1.2853 - accuracy: 0.6502 - val_loss: 1.4054 - val_accuracy: 0.6433 - 680ms/epoch - 10ms/step\n",
      "Epoch 146/150\n",
      "68/68 - 1s - loss: 1.2629 - accuracy: 0.6558 - val_loss: 1.3265 - val_accuracy: 0.6304 - 682ms/epoch - 10ms/step\n",
      "Epoch 147/150\n",
      "68/68 - 1s - loss: 1.2528 - accuracy: 0.6458 - val_loss: 1.3152 - val_accuracy: 0.6507 - 649ms/epoch - 10ms/step\n",
      "Epoch 148/150\n",
      "68/68 - 1s - loss: 1.4009 - accuracy: 0.6583 - val_loss: 1.3362 - val_accuracy: 0.6249 - 643ms/epoch - 9ms/step\n",
      "Epoch 149/150\n",
      "68/68 - 1s - loss: 1.2458 - accuracy: 0.6636 - val_loss: 1.2948 - val_accuracy: 0.6562 - 637ms/epoch - 9ms/step\n",
      "Epoch 150/150\n",
      "68/68 - 1s - loss: 1.3032 - accuracy: 0.6564 - val_loss: 1.3466 - val_accuracy: 0.6470 - 644ms/epoch - 9ms/step\n"
     ]
    }
   ],
   "source": [
    "# Establish the model's topography.\n",
    "my_model = create_model(learning_rate)\n",
    "\n",
    "# Train the model on the normalized training set.\n",
    "epochs, hist = train_model(my_model, X_train, y_train, epochs, batch_size, validation_split)"
   ]
  },
  {
   "cell_type": "code",
   "execution_count": 135,
   "id": "403f91d8-8585-4d14-a850-ae1769380d9e",
   "metadata": {},
   "outputs": [
    {
     "name": "stdout",
     "output_type": "stream",
     "text": [
      "Model: \"sequential_12\"\n",
      "_________________________________________________________________\n",
      " Layer (type)                Output Shape              Param #   \n",
      "=================================================================\n",
      " layer_4 (Dense)             (None, 4600)              18837000  \n",
      "                                                                 \n",
      " layer_5 (Dense)             (None, 4296)              19765896  \n",
      "                                                                 \n",
      " layer_6 (Dense)             (None, 3748)              16105156  \n",
      "                                                                 \n",
      " layer_7 (Dense)             (None, 3248)              12176752  \n",
      "                                                                 \n",
      " layer_8 (Dense)             (None, 2548)              8278452   \n",
      "                                                                 \n",
      " layer_9 (Dense)             (None, 2000)              5098000   \n",
      "                                                                 \n",
      " layer_11 (Dense)            (None, 1024)              2049024   \n",
      "                                                                 \n",
      " layer_12 (Dense)            (None, 512)               524800    \n",
      "                                                                 \n",
      " layer_13 (Dense)            (None, 256)               131328    \n",
      "                                                                 \n",
      " layer_14 (Dense)            (None, 128)               32896     \n",
      "                                                                 \n",
      " output (Dense)              (None, 10)                1290      \n",
      "                                                                 \n",
      "=================================================================\n",
      "Total params: 83,000,594\n",
      "Trainable params: 83,000,594\n",
      "Non-trainable params: 0\n",
      "_________________________________________________________________\n"
     ]
    }
   ],
   "source": [
    "#epochs= 100 lr=0.05\n",
    "my_model.summary()"
   ]
  },
  {
   "cell_type": "code",
   "execution_count": 137,
   "id": "2ce6c093-62e2-478f-9506-777209a6dafb",
   "metadata": {},
   "outputs": [
    {
     "name": "stdout",
     "output_type": "stream",
     "text": [
      "\n",
      " Evaluate the new model against the test set:\n",
      "43/43 [==============================] - 0s 4ms/step - loss: 0.7141 - accuracy: 0.8768\n"
     ]
    },
    {
     "data": {
      "text/plain": [
       "[0.714129626750946, 0.8767982125282288]"
      ]
     },
     "execution_count": 137,
     "metadata": {},
     "output_type": "execute_result"
    }
   ],
   "source": [
    "#epoch=300 lr=0.001 batch=128\n",
    "print(\"\\n Evaluate the new model against the test set:\")\n",
    "my_model.evaluate(x=X_train, y=y_train, batch_size=batch_size)"
   ]
  },
  {
   "cell_type": "code",
   "execution_count": 127,
   "id": "ddacfe3e-03ce-430a-a2e3-b79518046a1b",
   "metadata": {},
   "outputs": [
    {
     "name": "stdout",
     "output_type": "stream",
     "text": [
      "\n",
      " Evaluate the new model against the test set:\n",
      "85/85 [==============================] - 0s 3ms/step - loss: 2.2697 - accuracy: 0.1092\n"
     ]
    },
    {
     "data": {
      "text/plain": [
       "[2.2696526050567627, 0.10918480157852173]"
      ]
     },
     "execution_count": 127,
     "metadata": {},
     "output_type": "execute_result"
    }
   ],
   "source": [
    "#epoch=300 lr=0.001 batch=64\n",
    "print(\"\\n Evaluate the new model against the test set:\")\n",
    "my_model.evaluate(x=X_train, y=y_train, batch_size=batch_size)"
   ]
  },
  {
   "cell_type": "code",
   "execution_count": 149,
   "id": "5f653a32-35b7-4a91-9324-258dff6996ff",
   "metadata": {},
   "outputs": [
    {
     "name": "stdout",
     "output_type": "stream",
     "text": [
      "\n",
      " Evaluate the new model against the test set:\n",
      "85/85 [==============================] - 0s 3ms/step - loss: 1.2702 - accuracy: 0.6575\n"
     ]
    },
    {
     "data": {
      "text/plain": [
       "[1.2702330350875854, 0.6575064659118652]"
      ]
     },
     "execution_count": 149,
     "metadata": {},
     "output_type": "execute_result"
    }
   ],
   "source": [
    "#epoch=150 lr=0.001 batch=64\n",
    "print(\"\\n Evaluate the new model against the test set:\")\n",
    "my_model.evaluate(x=X_train, y=y_train, batch_size=batch_size)"
   ]
  },
  {
   "cell_type": "code",
   "execution_count": 150,
   "id": "87bfacc3-5574-4885-9541-c9e77b31cc99",
   "metadata": {},
   "outputs": [
    {
     "data": {
      "text/plain": [
       "<matplotlib.legend.Legend at 0x7f35805a3b20>"
      ]
     },
     "execution_count": 150,
     "metadata": {},
     "output_type": "execute_result"
    },
    {
     "data": {
      "image/png": "[encoded data removed]",
      "text/plain": [
       "<Figure size 640x480 with 1 Axes>"
      ]
     },
     "metadata": {},
     "output_type": "display_data"
    }
   ],
   "source": [
    "#epoch=150 lr=0.001 batch=64\n",
    "plt.plot(hist['accuracy'], label='Train')\n",
    "plt.plot(hist['val_accuracy'], label='Validation')\n",
    "plt.ylabel('value')\n",
    "plt.xlabel('Epoch')\n",
    "plt.legend(loc='upper right')"
   ]
  },
  {
   "cell_type": "code",
   "execution_count": 145,
   "id": "4d6d090b-2913-43c7-8ead-7c0cef472388",
   "metadata": {},
   "outputs": [
    {
     "name": "stdout",
     "output_type": "stream",
     "text": [
      "\n",
      " Evaluate the new model against the test set:\n",
      "43/43 [==============================] - 0s 4ms/step - loss: 0.6838 - accuracy: 0.8978\n"
     ]
    },
    {
     "data": {
      "text/plain": [
       "[0.6838462948799133, 0.897823691368103]"
      ]
     },
     "execution_count": 145,
     "metadata": {},
     "output_type": "execute_result"
    }
   ],
   "source": [
    "#epoch=150 lr=0.001 batch=128\n",
    "print(\"\\n Evaluate the new model against the test set:\")\n",
    "my_model.evaluate(x=X_train, y=y_train, batch_size=batch_size)"
   ]
  },
  {
   "cell_type": "code",
   "execution_count": 146,
   "id": "e9deef12-1296-48f8-86f2-1e4ba3cf58e9",
   "metadata": {},
   "outputs": [
    {
     "data": {
      "text/plain": [
       "<matplotlib.legend.Legend at 0x7f36680eea90>"
      ]
     },
     "execution_count": 146,
     "metadata": {},
     "output_type": "execute_result"
    },
    {
     "data": {
      "image/png": "[encoded data removed]",
      "text/plain": [
       "<Figure size 640x480 with 1 Axes>"
      ]
     },
     "metadata": {},
     "output_type": "display_data"
    }
   ],
   "source": [
    "#epoch=150 lr=0.001 batch=128\n",
    "plt.plot(hist['accuracy'], label='Train')\n",
    "plt.plot(hist['val_accuracy'], label='Validation')\n",
    "plt.ylabel('value')\n",
    "plt.xlabel('Epoch')\n",
    "plt.legend(loc='upper right')"
   ]
  },
  {
   "cell_type": "code",
   "execution_count": 138,
   "id": "f7f50a67-9e34-4207-a69a-26d8eb27c5d6",
   "metadata": {},
   "outputs": [
    {
     "data": {
      "text/plain": [
       "<matplotlib.legend.Legend at 0x7f36687363a0>"
      ]
     },
     "execution_count": 138,
     "metadata": {},
     "output_type": "execute_result"
    },
    {
     "data": {
      "image/png": "[encoded data removed]",
      "text/plain": [
       "<Figure size 640x480 with 1 Axes>"
      ]
     },
     "metadata": {},
     "output_type": "display_data"
    }
   ],
   "source": [
    "#epoch=300 lr=0.001 batch=128\n",
    "plt.plot(hist['accuracy'], label='Train')\n",
    "plt.plot(hist['val_accuracy'], label='Validation')\n",
    "plt.ylabel('value')\n",
    "plt.xlabel('Epoch')\n",
    "plt.legend(loc='upper right')"
   ]
  },
  {
   "cell_type": "code",
   "execution_count": 126,
   "id": "d106028b-1fa8-461f-b8d0-509f6a84a485",
   "metadata": {},
   "outputs": [
    {
     "data": {
      "text/plain": [
       "<matplotlib.legend.Legend at 0x7f36607bbdc0>"
      ]
     },
     "execution_count": 126,
     "metadata": {},
     "output_type": "execute_result"
    },
    {
     "data": {
      "image/png": "[encoded data removed]",
      "text/plain": [
       "<Figure size 640x480 with 1 Axes>"
      ]
     },
     "metadata": {},
     "output_type": "display_data"
    }
   ],
   "source": [
    "#epoch=300 lr=0.001 batch=64\n",
    "plt.plot(hist['accuracy'], label='Train')\n",
    "plt.plot(hist['val_accuracy'], label='Validation')\n",
    "plt.ylabel('value')\n",
    "plt.xlabel('Epoch')\n",
    "plt.legend(loc='upper right')"
   ]
  },
  {
   "cell_type": "code",
   "execution_count": 141,
   "id": "193c45f6-8042-4708-8410-95e8feb23142",
   "metadata": {},
   "outputs": [
    {
     "name": "stdout",
     "output_type": "stream",
     "text": [
      "\n",
      " Evaluate the new model against the test set:\n",
      "43/43 [==============================] - 0s 4ms/step - loss: 2.2434 - accuracy: 0.4899\n"
     ]
    },
    {
     "data": {
      "text/plain": [
       "[2.2434377670288086, 0.48985615372657776]"
      ]
     },
     "execution_count": 141,
     "metadata": {},
     "output_type": "execute_result"
    }
   ],
   "source": [
    "#epoch=200 lr=0.001 batch=128\n",
    "print(\"\\n Evaluate the new model against the test set:\")\n",
    "my_model.evaluate(x=X_train, y=y_train, batch_size=batch_size)"
   ]
  },
  {
   "cell_type": "code",
   "execution_count": 142,
   "id": "ef8bb5ab-1a1a-4530-a821-8ce0666488d4",
   "metadata": {},
   "outputs": [
    {
     "data": {
      "text/plain": [
       "<matplotlib.legend.Legend at 0x7f3668067a30>"
      ]
     },
     "execution_count": 142,
     "metadata": {},
     "output_type": "execute_result"
    },
    {
     "data": {
      "image/png": "[encoded data removed]",
      "text/plain": [
       "<Figure size 640x480 with 1 Axes>"
      ]
     },
     "metadata": {},
     "output_type": "display_data"
    }
   ],
   "source": [
    "#epoch=200 lr=0.001 batch=128\n",
    "plt.plot(hist['accuracy'], label='Train')\n",
    "plt.plot(hist['val_accuracy'], label='Validation')\n",
    "plt.ylabel('value')\n",
    "plt.xlabel('Epoch')\n",
    "plt.legend(loc='upper right')"
   ]
  },
  {
   "cell_type": "code",
   "execution_count": 108,
   "id": "75912a63-9121-4ce4-adea-e5994a5dea84",
   "metadata": {},
   "outputs": [
    {
     "data": {
      "text/plain": [
       "<matplotlib.legend.Legend at 0x7f3810067460>"
      ]
     },
     "execution_count": 108,
     "metadata": {},
     "output_type": "execute_result"
    },
    {
     "data": {
      "image/png": "[encoded data removed]",
      "text/plain": [
       "<Figure size 640x480 with 1 Axes>"
      ]
     },
     "metadata": {},
     "output_type": "display_data"
    }
   ],
   "source": [
    "#epoch=200 lr=0.001 batch=128\n",
    "plt.plot(hist['accuracy'], label='Train')\n",
    "plt.plot(hist['val_accuracy'], label='Validation')\n",
    "plt.ylabel('value')\n",
    "plt.xlabel('Epoch')\n",
    "plt.legend(loc='upper right')"
   ]
  },
  {
   "cell_type": "code",
   "execution_count": 132,
   "id": "f0938e07-a3f4-4350-ab8d-2dd70efbe52b",
   "metadata": {},
   "outputs": [
    {
     "data": {
      "text/plain": [
       "<matplotlib.legend.Legend at 0x7f375456db50>"
      ]
     },
     "execution_count": 132,
     "metadata": {},
     "output_type": "execute_result"
    },
    {
     "data": {
      "image/png": "[encoded data removed]",
      "text/plain": [
       "<Figure size 640x480 with 1 Axes>"
      ]
     },
     "metadata": {},
     "output_type": "display_data"
    }
   ],
   "source": [
    "#epoch=200 lr=0.001 batch=64\n",
    "plt.plot(hist['accuracy'], label='Train')\n",
    "plt.plot(hist['val_accuracy'], label='Validation')\n",
    "plt.ylabel('value')\n",
    "plt.xlabel('Epoch')\n",
    "plt.legend(loc='upper right')"
   ]
  },
  {
   "cell_type": "code",
   "execution_count": 97,
   "id": "8286cb0f-2acf-4132-97b0-c6fccc7d0bdb",
   "metadata": {},
   "outputs": [
    {
     "data": {
      "text/plain": [
       "<matplotlib.legend.Legend at 0x7f35a02ad820>"
      ]
     },
     "execution_count": 97,
     "metadata": {},
     "output_type": "execute_result"
    },
    {
     "data": {
      "image/png": "[encoded data removed]",
      "text/plain": [
       "<Figure size 640x480 with 1 Axes>"
      ]
     },
     "metadata": {},
     "output_type": "display_data"
    }
   ],
   "source": [
    "#epoch=200 lr=0.001 batch=64\n",
    "plt.plot(hist['accuracy'], label='Train')\n",
    "plt.plot(hist['val_accuracy'], label='Validation')\n",
    "plt.ylabel('value')\n",
    "plt.xlabel('Epoch')\n",
    "plt.legend(loc='upper right')"
   ]
  },
  {
   "cell_type": "code",
   "execution_count": 109,
   "id": "24fb412e-7c81-4fda-8b52-5fb4804a0acc",
   "metadata": {},
   "outputs": [
    {
     "name": "stdout",
     "output_type": "stream",
     "text": [
      "19/19 [==============================] - 0s 2ms/step\n"
     ]
    }
   ],
   "source": [
    "predictions = my_model.predict(X_test)"
   ]
  },
  {
   "cell_type": "code",
   "execution_count": 121,
   "id": "23edc35f-12a9-45fb-9b77-bfa04604446b",
   "metadata": {},
   "outputs": [
    {
     "data": {
      "text/plain": [
       "(603, 10)"
      ]
     },
     "execution_count": 121,
     "metadata": {},
     "output_type": "execute_result"
    }
   ],
   "source": [
    "predictions.shape"
   ]
  },
  {
   "cell_type": "code",
   "execution_count": 110,
   "id": "32726d5c-6cf5-4113-8ff4-8824d37f972e",
   "metadata": {},
   "outputs": [
    {
     "data": {
      "text/html": [
       "<div>\n",
       "<style scoped>\n",
       "    .dataframe tbody tr th:only-of-type {\n",
       "        vertical-align: middle;\n",
       "    }\n",
       "\n",
       "    .dataframe tbody tr th {\n",
       "        vertical-align: top;\n",
       "    }\n",
       "\n",
       "    .dataframe thead th {\n",
       "        text-align: right;\n",
       "    }\n",
       "</style>\n",
       "<table border=\"1\" class=\"dataframe\">\n",
       "  <thead>\n",
       "    <tr style=\"text-align: right;\">\n",
       "      <th></th>\n",
       "      <th>0</th>\n",
       "      <th>1</th>\n",
       "      <th>2</th>\n",
       "      <th>3</th>\n",
       "      <th>4</th>\n",
       "      <th>5</th>\n",
       "      <th>6</th>\n",
       "      <th>7</th>\n",
       "      <th>8</th>\n",
       "      <th>9</th>\n",
       "    </tr>\n",
       "  </thead>\n",
       "  <tbody>\n",
       "    <tr>\n",
       "      <th>0</th>\n",
       "      <td>0.007515</td>\n",
       "      <td>3.669100e-04</td>\n",
       "      <td>0.000145</td>\n",
       "      <td>0.003590</td>\n",
       "      <td>0.000805</td>\n",
       "      <td>0.015822</td>\n",
       "      <td>9.702281e-01</td>\n",
       "      <td>0.001286</td>\n",
       "      <td>0.000064</td>\n",
       "      <td>0.000177</td>\n",
       "    </tr>\n",
       "    <tr>\n",
       "      <th>1</th>\n",
       "      <td>0.004710</td>\n",
       "      <td>1.387598e-04</td>\n",
       "      <td>0.000004</td>\n",
       "      <td>0.000221</td>\n",
       "      <td>0.000134</td>\n",
       "      <td>0.000928</td>\n",
       "      <td>7.333615e-01</td>\n",
       "      <td>0.259547</td>\n",
       "      <td>0.000279</td>\n",
       "      <td>0.000677</td>\n",
       "    </tr>\n",
       "    <tr>\n",
       "      <th>2</th>\n",
       "      <td>0.000032</td>\n",
       "      <td>3.289161e-05</td>\n",
       "      <td>0.000047</td>\n",
       "      <td>0.306545</td>\n",
       "      <td>0.000018</td>\n",
       "      <td>0.000002</td>\n",
       "      <td>4.704220e-10</td>\n",
       "      <td>0.693248</td>\n",
       "      <td>0.000009</td>\n",
       "      <td>0.000067</td>\n",
       "    </tr>\n",
       "    <tr>\n",
       "      <th>3</th>\n",
       "      <td>0.000014</td>\n",
       "      <td>6.883368e-05</td>\n",
       "      <td>0.000273</td>\n",
       "      <td>0.506486</td>\n",
       "      <td>0.000087</td>\n",
       "      <td>0.000009</td>\n",
       "      <td>1.103190e-08</td>\n",
       "      <td>0.492833</td>\n",
       "      <td>0.000016</td>\n",
       "      <td>0.000214</td>\n",
       "    </tr>\n",
       "    <tr>\n",
       "      <th>4</th>\n",
       "      <td>0.003996</td>\n",
       "      <td>1.330758e-04</td>\n",
       "      <td>0.000402</td>\n",
       "      <td>0.000260</td>\n",
       "      <td>0.000053</td>\n",
       "      <td>0.276700</td>\n",
       "      <td>1.644074e-04</td>\n",
       "      <td>0.718216</td>\n",
       "      <td>0.000019</td>\n",
       "      <td>0.000056</td>\n",
       "    </tr>\n",
       "    <tr>\n",
       "      <th>...</th>\n",
       "      <td>...</td>\n",
       "      <td>...</td>\n",
       "      <td>...</td>\n",
       "      <td>...</td>\n",
       "      <td>...</td>\n",
       "      <td>...</td>\n",
       "      <td>...</td>\n",
       "      <td>...</td>\n",
       "      <td>...</td>\n",
       "      <td>...</td>\n",
       "    </tr>\n",
       "    <tr>\n",
       "      <th>598</th>\n",
       "      <td>0.534299</td>\n",
       "      <td>1.985127e-03</td>\n",
       "      <td>0.006204</td>\n",
       "      <td>0.214915</td>\n",
       "      <td>0.136290</td>\n",
       "      <td>0.001373</td>\n",
       "      <td>5.132728e-03</td>\n",
       "      <td>0.007081</td>\n",
       "      <td>0.010419</td>\n",
       "      <td>0.082303</td>\n",
       "    </tr>\n",
       "    <tr>\n",
       "      <th>599</th>\n",
       "      <td>0.001408</td>\n",
       "      <td>2.000830e-07</td>\n",
       "      <td>0.000209</td>\n",
       "      <td>0.000507</td>\n",
       "      <td>0.250474</td>\n",
       "      <td>0.747216</td>\n",
       "      <td>1.546092e-04</td>\n",
       "      <td>0.000005</td>\n",
       "      <td>0.000024</td>\n",
       "      <td>0.000002</td>\n",
       "    </tr>\n",
       "    <tr>\n",
       "      <th>600</th>\n",
       "      <td>0.002407</td>\n",
       "      <td>5.615106e-04</td>\n",
       "      <td>0.000011</td>\n",
       "      <td>0.001525</td>\n",
       "      <td>0.000411</td>\n",
       "      <td>0.000615</td>\n",
       "      <td>3.534895e-01</td>\n",
       "      <td>0.639987</td>\n",
       "      <td>0.000445</td>\n",
       "      <td>0.000549</td>\n",
       "    </tr>\n",
       "    <tr>\n",
       "      <th>601</th>\n",
       "      <td>0.604010</td>\n",
       "      <td>8.271609e-05</td>\n",
       "      <td>0.000109</td>\n",
       "      <td>0.000274</td>\n",
       "      <td>0.000155</td>\n",
       "      <td>0.395146</td>\n",
       "      <td>8.778110e-05</td>\n",
       "      <td>0.000112</td>\n",
       "      <td>0.000004</td>\n",
       "      <td>0.000019</td>\n",
       "    </tr>\n",
       "    <tr>\n",
       "      <th>602</th>\n",
       "      <td>0.000034</td>\n",
       "      <td>1.833358e-01</td>\n",
       "      <td>0.272345</td>\n",
       "      <td>0.000032</td>\n",
       "      <td>0.513331</td>\n",
       "      <td>0.000013</td>\n",
       "      <td>3.141230e-05</td>\n",
       "      <td>0.000021</td>\n",
       "      <td>0.012115</td>\n",
       "      <td>0.018742</td>\n",
       "    </tr>\n",
       "  </tbody>\n",
       "</table>\n",
       "<p>603 rows × 10 columns</p>\n",
       "</div>"
      ],
      "text/plain": [
       "            0             1         2         3         4         5  \\\n",
       "0    0.007515  3.669100e-04  0.000145  0.003590  0.000805  0.015822   \n",
       "1    0.004710  1.387598e-04  0.000004  0.000221  0.000134  0.000928   \n",
       "2    0.000032  3.289161e-05  0.000047  0.306545  0.000018  0.000002   \n",
       "3    0.000014  6.883368e-05  0.000273  0.506486  0.000087  0.000009   \n",
       "4    0.003996  1.330758e-04  0.000402  0.000260  0.000053  0.276700   \n",
       "..        ...           ...       ...       ...       ...       ...   \n",
       "598  0.534299  1.985127e-03  0.006204  0.214915  0.136290  0.001373   \n",
       "599  0.001408  2.000830e-07  0.000209  0.000507  0.250474  0.747216   \n",
       "600  0.002407  5.615106e-04  0.000011  0.001525  0.000411  0.000615   \n",
       "601  0.604010  8.271609e-05  0.000109  0.000274  0.000155  0.395146   \n",
       "602  0.000034  1.833358e-01  0.272345  0.000032  0.513331  0.000013   \n",
       "\n",
       "                6         7         8         9  \n",
       "0    9.702281e-01  0.001286  0.000064  0.000177  \n",
       "1    7.333615e-01  0.259547  0.000279  0.000677  \n",
       "2    4.704220e-10  0.693248  0.000009  0.000067  \n",
       "3    1.103190e-08  0.492833  0.000016  0.000214  \n",
       "4    1.644074e-04  0.718216  0.000019  0.000056  \n",
       "..            ...       ...       ...       ...  \n",
       "598  5.132728e-03  0.007081  0.010419  0.082303  \n",
       "599  1.546092e-04  0.000005  0.000024  0.000002  \n",
       "600  3.534895e-01  0.639987  0.000445  0.000549  \n",
       "601  8.778110e-05  0.000112  0.000004  0.000019  \n",
       "602  3.141230e-05  0.000021  0.012115  0.018742  \n",
       "\n",
       "[603 rows x 10 columns]"
      ]
     },
     "execution_count": 110,
     "metadata": {},
     "output_type": "execute_result"
    }
   ],
   "source": [
    "df_predictions = pd.DataFrame(predictions)\n",
    "df_predictions"
   ]
  },
  {
   "cell_type": "code",
   "execution_count": 111,
   "id": "ff335b6f-a143-48b8-aa05-a80ab68cf60a",
   "metadata": {},
   "outputs": [
    {
     "data": {
      "text/html": [
       "<div>\n",
       "<style scoped>\n",
       "    .dataframe tbody tr th:only-of-type {\n",
       "        vertical-align: middle;\n",
       "    }\n",
       "\n",
       "    .dataframe tbody tr th {\n",
       "        vertical-align: top;\n",
       "    }\n",
       "\n",
       "    .dataframe thead th {\n",
       "        text-align: right;\n",
       "    }\n",
       "</style>\n",
       "<table border=\"1\" class=\"dataframe\">\n",
       "  <thead>\n",
       "    <tr style=\"text-align: right;\">\n",
       "      <th></th>\n",
       "      <th>0</th>\n",
       "      <th>1</th>\n",
       "      <th>2</th>\n",
       "      <th>3</th>\n",
       "      <th>4</th>\n",
       "      <th>5</th>\n",
       "      <th>6</th>\n",
       "      <th>7</th>\n",
       "      <th>8</th>\n",
       "      <th>9</th>\n",
       "    </tr>\n",
       "  </thead>\n",
       "  <tbody>\n",
       "    <tr>\n",
       "      <th>26625</th>\n",
       "      <td>0.00</td>\n",
       "      <td>0.0</td>\n",
       "      <td>0.0</td>\n",
       "      <td>0.00</td>\n",
       "      <td>0.00</td>\n",
       "      <td>0.03</td>\n",
       "      <td>0.97</td>\n",
       "      <td>0.00</td>\n",
       "      <td>0.0</td>\n",
       "      <td>0.0</td>\n",
       "    </tr>\n",
       "    <tr>\n",
       "      <th>6771</th>\n",
       "      <td>0.00</td>\n",
       "      <td>0.0</td>\n",
       "      <td>0.0</td>\n",
       "      <td>0.00</td>\n",
       "      <td>0.00</td>\n",
       "      <td>0.00</td>\n",
       "      <td>0.75</td>\n",
       "      <td>0.25</td>\n",
       "      <td>0.0</td>\n",
       "      <td>0.0</td>\n",
       "    </tr>\n",
       "    <tr>\n",
       "      <th>15825</th>\n",
       "      <td>0.00</td>\n",
       "      <td>0.0</td>\n",
       "      <td>0.0</td>\n",
       "      <td>0.42</td>\n",
       "      <td>0.00</td>\n",
       "      <td>0.00</td>\n",
       "      <td>0.00</td>\n",
       "      <td>0.58</td>\n",
       "      <td>0.0</td>\n",
       "      <td>0.0</td>\n",
       "    </tr>\n",
       "    <tr>\n",
       "      <th>10581</th>\n",
       "      <td>0.00</td>\n",
       "      <td>0.0</td>\n",
       "      <td>0.0</td>\n",
       "      <td>0.61</td>\n",
       "      <td>0.00</td>\n",
       "      <td>0.00</td>\n",
       "      <td>0.00</td>\n",
       "      <td>0.39</td>\n",
       "      <td>0.0</td>\n",
       "      <td>0.0</td>\n",
       "    </tr>\n",
       "    <tr>\n",
       "      <th>20002</th>\n",
       "      <td>0.00</td>\n",
       "      <td>0.0</td>\n",
       "      <td>0.0</td>\n",
       "      <td>0.00</td>\n",
       "      <td>0.00</td>\n",
       "      <td>0.27</td>\n",
       "      <td>0.00</td>\n",
       "      <td>0.73</td>\n",
       "      <td>0.0</td>\n",
       "      <td>0.0</td>\n",
       "    </tr>\n",
       "    <tr>\n",
       "      <th>...</th>\n",
       "      <td>...</td>\n",
       "      <td>...</td>\n",
       "      <td>...</td>\n",
       "      <td>...</td>\n",
       "      <td>...</td>\n",
       "      <td>...</td>\n",
       "      <td>...</td>\n",
       "      <td>...</td>\n",
       "      <td>...</td>\n",
       "      <td>...</td>\n",
       "    </tr>\n",
       "    <tr>\n",
       "      <th>33463</th>\n",
       "      <td>0.40</td>\n",
       "      <td>0.0</td>\n",
       "      <td>0.0</td>\n",
       "      <td>0.40</td>\n",
       "      <td>0.20</td>\n",
       "      <td>0.00</td>\n",
       "      <td>0.00</td>\n",
       "      <td>0.00</td>\n",
       "      <td>0.0</td>\n",
       "      <td>0.0</td>\n",
       "    </tr>\n",
       "    <tr>\n",
       "      <th>18602</th>\n",
       "      <td>0.00</td>\n",
       "      <td>0.0</td>\n",
       "      <td>0.0</td>\n",
       "      <td>0.00</td>\n",
       "      <td>0.32</td>\n",
       "      <td>0.68</td>\n",
       "      <td>0.00</td>\n",
       "      <td>0.00</td>\n",
       "      <td>0.0</td>\n",
       "      <td>0.0</td>\n",
       "    </tr>\n",
       "    <tr>\n",
       "      <th>16431</th>\n",
       "      <td>0.00</td>\n",
       "      <td>0.0</td>\n",
       "      <td>0.0</td>\n",
       "      <td>0.00</td>\n",
       "      <td>0.00</td>\n",
       "      <td>0.00</td>\n",
       "      <td>0.40</td>\n",
       "      <td>0.60</td>\n",
       "      <td>0.0</td>\n",
       "      <td>0.0</td>\n",
       "    </tr>\n",
       "    <tr>\n",
       "      <th>11344</th>\n",
       "      <td>0.58</td>\n",
       "      <td>0.0</td>\n",
       "      <td>0.0</td>\n",
       "      <td>0.00</td>\n",
       "      <td>0.00</td>\n",
       "      <td>0.42</td>\n",
       "      <td>0.00</td>\n",
       "      <td>0.00</td>\n",
       "      <td>0.0</td>\n",
       "      <td>0.0</td>\n",
       "    </tr>\n",
       "    <tr>\n",
       "      <th>16333</th>\n",
       "      <td>0.00</td>\n",
       "      <td>0.4</td>\n",
       "      <td>0.0</td>\n",
       "      <td>0.00</td>\n",
       "      <td>0.60</td>\n",
       "      <td>0.00</td>\n",
       "      <td>0.00</td>\n",
       "      <td>0.00</td>\n",
       "      <td>0.0</td>\n",
       "      <td>0.0</td>\n",
       "    </tr>\n",
       "  </tbody>\n",
       "</table>\n",
       "<p>603 rows × 10 columns</p>\n",
       "</div>"
      ],
      "text/plain": [
       "          0    1    2     3     4     5     6     7    8    9\n",
       "26625  0.00  0.0  0.0  0.00  0.00  0.03  0.97  0.00  0.0  0.0\n",
       "6771   0.00  0.0  0.0  0.00  0.00  0.00  0.75  0.25  0.0  0.0\n",
       "15825  0.00  0.0  0.0  0.42  0.00  0.00  0.00  0.58  0.0  0.0\n",
       "10581  0.00  0.0  0.0  0.61  0.00  0.00  0.00  0.39  0.0  0.0\n",
       "20002  0.00  0.0  0.0  0.00  0.00  0.27  0.00  0.73  0.0  0.0\n",
       "...     ...  ...  ...   ...   ...   ...   ...   ...  ...  ...\n",
       "33463  0.40  0.0  0.0  0.40  0.20  0.00  0.00  0.00  0.0  0.0\n",
       "18602  0.00  0.0  0.0  0.00  0.32  0.68  0.00  0.00  0.0  0.0\n",
       "16431  0.00  0.0  0.0  0.00  0.00  0.00  0.40  0.60  0.0  0.0\n",
       "11344  0.58  0.0  0.0  0.00  0.00  0.42  0.00  0.00  0.0  0.0\n",
       "16333  0.00  0.4  0.0  0.00  0.60  0.00  0.00  0.00  0.0  0.0\n",
       "\n",
       "[603 rows x 10 columns]"
      ]
     },
     "execution_count": 111,
     "metadata": {},
     "output_type": "execute_result"
    }
   ],
   "source": [
    "df_predictions_original = pd.DataFrame(y_test)\n",
    "df_predictions_original"
   ]
  },
  {
   "cell_type": "code",
   "execution_count": 112,
   "id": "bb8c9c59-8f4c-4645-bdf5-f1ffaf8a3de7",
   "metadata": {},
   "outputs": [],
   "source": [
    "#selecting a row from df_intensity for predection\n",
    "test_1 =df_intensity.iloc[1]\n",
    "test_1=pd.DataFrame(test_1)\n",
    "test_row=test_1.T"
   ]
  },
  {
   "cell_type": "code",
   "execution_count": 113,
   "id": "b1e6eabf-71d3-477f-b59a-9f2b631e2b36",
   "metadata": {},
   "outputs": [
    {
     "name": "stdout",
     "output_type": "stream",
     "text": [
      "1/1 [==============================] - 0s 22ms/step\n"
     ]
    },
    {
     "data": {
      "text/plain": [
       "array([[4.0616065e-02, 9.5813435e-01, 4.2456089e-05, 1.0696658e-03,\n",
       "        1.0294044e-06, 3.9793875e-07, 8.8305555e-08, 8.3570491e-11,\n",
       "        4.6151232e-05, 8.9774010e-05]], dtype=float32)"
      ]
     },
     "execution_count": 113,
     "metadata": {},
     "output_type": "execute_result"
    }
   ],
   "source": [
    "raw_1_predictions = my_model.predict(test_row)\n",
    "raw_1_predictions"
   ]
  },
  {
   "cell_type": "code",
   "execution_count": 114,
   "id": "e6489499-68b2-42b8-a24f-21afeaa7e028",
   "metadata": {},
   "outputs": [
    {
     "data": {
      "text/html": [
       "<div>\n",
       "<style scoped>\n",
       "    .dataframe tbody tr th:only-of-type {\n",
       "        vertical-align: middle;\n",
       "    }\n",
       "\n",
       "    .dataframe tbody tr th {\n",
       "        vertical-align: top;\n",
       "    }\n",
       "\n",
       "    .dataframe thead th {\n",
       "        text-align: right;\n",
       "    }\n",
       "</style>\n",
       "<table border=\"1\" class=\"dataframe\">\n",
       "  <thead>\n",
       "    <tr style=\"text-align: right;\">\n",
       "      <th></th>\n",
       "      <th>0</th>\n",
       "      <th>1</th>\n",
       "      <th>2</th>\n",
       "      <th>3</th>\n",
       "      <th>4</th>\n",
       "      <th>5</th>\n",
       "      <th>6</th>\n",
       "      <th>7</th>\n",
       "      <th>8</th>\n",
       "      <th>9</th>\n",
       "    </tr>\n",
       "  </thead>\n",
       "  <tbody>\n",
       "    <tr>\n",
       "      <th>0</th>\n",
       "      <td>0.040616</td>\n",
       "      <td>0.958134</td>\n",
       "      <td>0.000042</td>\n",
       "      <td>0.00107</td>\n",
       "      <td>0.000001</td>\n",
       "      <td>3.979387e-07</td>\n",
       "      <td>8.830555e-08</td>\n",
       "      <td>8.357049e-11</td>\n",
       "      <td>0.000046</td>\n",
       "      <td>0.00009</td>\n",
       "    </tr>\n",
       "  </tbody>\n",
       "</table>\n",
       "</div>"
      ],
      "text/plain": [
       "          0         1         2        3         4             5  \\\n",
       "0  0.040616  0.958134  0.000042  0.00107  0.000001  3.979387e-07   \n",
       "\n",
       "              6             7         8        9  \n",
       "0  8.830555e-08  8.357049e-11  0.000046  0.00009  "
      ]
     },
     "execution_count": 114,
     "metadata": {},
     "output_type": "execute_result"
    }
   ],
   "source": [
    "raw_1_predictions_df=pd.DataFrame(raw_1_predictions)\n",
    "raw_1_predictions_df"
   ]
  },
  {
   "cell_type": "code",
   "execution_count": 119,
   "id": "98ae35bb-0125-424a-977d-3661acd81cb2",
   "metadata": {},
   "outputs": [
    {
     "data": {
      "text/html": [
       "<div>\n",
       "<style scoped>\n",
       "    .dataframe tbody tr th:only-of-type {\n",
       "        vertical-align: middle;\n",
       "    }\n",
       "\n",
       "    .dataframe tbody tr th {\n",
       "        vertical-align: top;\n",
       "    }\n",
       "\n",
       "    .dataframe thead th {\n",
       "        text-align: right;\n",
       "    }\n",
       "</style>\n",
       "<table border=\"1\" class=\"dataframe\">\n",
       "  <thead>\n",
       "    <tr style=\"text-align: right;\">\n",
       "      <th></th>\n",
       "      <th>1</th>\n",
       "    </tr>\n",
       "  </thead>\n",
       "  <tbody>\n",
       "    <tr>\n",
       "      <th>0</th>\n",
       "      <td>0.0</td>\n",
       "    </tr>\n",
       "    <tr>\n",
       "      <th>1</th>\n",
       "      <td>1.0</td>\n",
       "    </tr>\n",
       "    <tr>\n",
       "      <th>2</th>\n",
       "      <td>0.0</td>\n",
       "    </tr>\n",
       "    <tr>\n",
       "      <th>3</th>\n",
       "      <td>0.0</td>\n",
       "    </tr>\n",
       "    <tr>\n",
       "      <th>4</th>\n",
       "      <td>0.0</td>\n",
       "    </tr>\n",
       "    <tr>\n",
       "      <th>5</th>\n",
       "      <td>0.0</td>\n",
       "    </tr>\n",
       "    <tr>\n",
       "      <th>6</th>\n",
       "      <td>0.0</td>\n",
       "    </tr>\n",
       "    <tr>\n",
       "      <th>7</th>\n",
       "      <td>0.0</td>\n",
       "    </tr>\n",
       "    <tr>\n",
       "      <th>8</th>\n",
       "      <td>0.0</td>\n",
       "    </tr>\n",
       "    <tr>\n",
       "      <th>9</th>\n",
       "      <td>0.0</td>\n",
       "    </tr>\n",
       "  </tbody>\n",
       "</table>\n",
       "</div>"
      ],
      "text/plain": [
       "     1\n",
       "0  0.0\n",
       "1  1.0\n",
       "2  0.0\n",
       "3  0.0\n",
       "4  0.0\n",
       "5  0.0\n",
       "6  0.0\n",
       "7  0.0\n",
       "8  0.0\n",
       "9  0.0"
      ]
     },
     "execution_count": 119,
     "metadata": {},
     "output_type": "execute_result"
    }
   ],
   "source": [
    "row_1_original_values=df_labels_list.iloc[1]\n",
    "row_1_original_values_df=pd.DataFrame(row_1_original_values)\n",
    "row_1_original_values_df"
   ]
  },
  {
   "cell_type": "code",
   "execution_count": 92,
   "id": "ea93942c-f55e-49d1-929b-443c6541f2d3",
   "metadata": {},
   "outputs": [
    {
     "data": {
      "text/plain": [
       "<matplotlib.legend.Legend at 0x7f35a06d0790>"
      ]
     },
     "execution_count": 92,
     "metadata": {},
     "output_type": "execute_result"
    },
    {
     "data": {
      "image/png": "[encoded data removed]",
      "text/plain": [
       "<Figure size 640x480 with 1 Axes>"
      ]
     },
     "metadata": {},
     "output_type": "display_data"
    }
   ],
   "source": [
    "#epoch=100 lr=0.0001 batch=32\n",
    "plt.plot(hist['accuracy'], label='Train')\n",
    "plt.plot(hist['val_accuracy'], label='Validation')\n",
    "plt.ylabel('value')\n",
    "plt.xlabel('Epoch')\n",
    "plt.legend(loc='upper right')"
   ]
  },
  {
   "cell_type": "code",
   "execution_count": 80,
   "id": "f3d8b8ca-5676-46d6-a79f-57b155275519",
   "metadata": {},
   "outputs": [
    {
     "data": {
      "text/plain": [
       "<matplotlib.legend.Legend at 0x7f366053d3d0>"
      ]
     },
     "execution_count": 80,
     "metadata": {},
     "output_type": "execute_result"
    },
    {
     "data": {
      "image/png": "[encoded data removed]",
      "text/plain": [
       "<Figure size 640x480 with 1 Axes>"
      ]
     },
     "metadata": {},
     "output_type": "display_data"
    }
   ],
   "source": [
    "#epoch=50 lr=0.001 batch=32\n",
    "plt.plot(hist['accuracy'], label='Train')\n",
    "plt.plot(hist['val_accuracy'], label='Validation')\n",
    "plt.ylabel('value')\n",
    "plt.xlabel('Epoch')\n",
    "plt.legend(loc='upper right')"
   ]
  },
  {
   "cell_type": "code",
   "execution_count": null,
   "id": "514b716f-5b7a-482a-bafd-9fa9daf8f047",
   "metadata": {},
   "outputs": [],
   "source": []
  },
  {
   "cell_type": "code",
   "execution_count": null,
   "id": "be6589d6-3cc6-440f-be65-e1788fe4dc5e",
   "metadata": {},
   "outputs": [],
   "source": []
  }
 ],
 "metadata": {
  "kernelspec": {
   "display_name": "Python 3 (ipykernel)",
   "language": "python",
   "name": "python3"
  },
  "language_info": {
   "codemirror_mode": {
    "name": "ipython",
    "version": 3
   },
   "file_extension": ".py",
   "mimetype": "text/x-python",
   "name": "python",
   "nbconvert_exporter": "python",
   "pygments_lexer": "ipython3",
   "version": "3.8.10"
  }
 },
 "nbformat": 4,
 "nbformat_minor": 5
}
