{
 "cells": [
  {
   "cell_type": "markdown",
   "id": "vcsSKqiwhFP-",
   "metadata": {
    "id": "vcsSKqiwhFP-"
   },
   "source": [
    "REFERENCES:  https://www.geeksforgeeks.org/implementing-pca-in-python-with-scikit-learn/\n",
    ",\n",
    "\n",
    "https://towardsdatascience.com/math-neural-network-from-scratch-in-python-d6da9f29ce65 ,\n",
    "https://keras.io/guides/training_with_built_in_methods/"
   ]
  },
  {
   "cell_type": "code",
   "execution_count": 1,
   "id": "d788d702-c646-40d3-b5a0-9a747353d6fc",
   "metadata": {
    "id": "d788d702-c646-40d3-b5a0-9a747353d6fc"
   },
   "outputs": [],
   "source": [
    "import time\n",
    "import pandas as pd\n",
    "import numpy as np\n",
    "import h5py\n",
    "import random\n",
    "import matplotlib.pyplot as plt\n",
    "from scipy.interpolate import interp1d\n",
    "from sklearn.preprocessing import MinMaxScaler\n",
    "from itertools import islice\n",
    "import pickle\n",
    "from sklearn.preprocessing import StandardScaler\n",
    "from sklearn.model_selection import train_test_split\n",
    "import tensorflow as tf\n",
    "from tensorflow import keras\n",
    "from tensorflow.keras import layers\n",
    "from keras.models import Sequential\n",
    "from keras.layers import Dense\n",
    "from keras.activations import softmax\n",
    "import gc\n",
    "import itertools\n",
    "from sklearn.metrics import mean_squared_error\n",
    "import sklearn\n",
    "from numpy import genfromtxt\n",
    "from os import listdir\n",
    "from os.path import isfile, join\n",
    "import os\n",
    "import copy\n",
    "from scipy import interpolate\n",
    "from scipy.spatial import distance\n",
    "import time\n",
    "import numpy as np\n",
    "\n",
    "#np.set_printoptions(suppress=True)\n",
    "\n",
    "\n",
    "def load_dataset(datasets,shape,labels):\n",
    "    start = time.time()\n",
    "    count = 1\n",
    "    wavelength_list = []\n",
    "    intensity_list = []\n",
    "    label_list = []\n",
    "    get_wavelength = True\n",
    "    for dataset_name in datasets:\n",
    "        with h5py.File(dataset_name, \"r\") as f:\n",
    "            if get_wavelength: wavelengths = np.array(np.split(f['wavelength'][:], f['wavelength'][:].shape[0]//shape))\n",
    "            intensities = np.array(np.split(f['intensity'][:], f['intensity'][:].shape[0]//shape))\n",
    "            labels = np.array(np.split(f['label'][:], f['label'][:].shape[0]//labels))/100\n",
    "            if get_wavelength: wavelength_list.append(wavelengths)\n",
    "            intensity_list.append(intensities)\n",
    "            label_list.append(labels)\n",
    "            print(dataset_name, \" Done\")\n",
    "        get_wavelength = False\n",
    "    wavelengths = np.array(list(itertools.chain.from_iterable(wavelength_list)))\n",
    "    intensities = np.array(list(itertools.chain.from_iterable(intensity_list)))\n",
    "    labels = np.array(list(itertools.chain.from_iterable(label_list)))\n",
    "    print(round(time.time()-start,2), \"seconds\")    \n",
    "    return wavelengths, intensities, labels\n",
    "\n"
   ]
  },
  {
   "cell_type": "code",
   "execution_count": 2,
   "id": "387f89aa-3f52-429f-85ad-554f18788567",
   "metadata": {
    "colab": {
     "base_uri": "https://localhost:8080/"
    },
    "id": "387f89aa-3f52-429f-85ad-554f18788567",
    "outputId": "4f163e6e-ca1a-4988-ff4c-b0df1c4fe5ff"
   },
   "outputs": [
    {
     "name": "stdout",
     "output_type": "stream",
     "text": [
      "dataset7.h5  Done\n",
      "44.72 seconds\n"
     ]
    }
   ],
   "source": [
    "datasets_to_load = ['dataset7.h5']\n",
    "wavelengths_list, c, labels_list = load_dataset(datasets_to_load,4094,24)\n",
    "current_elements = ['C', 'Mg', 'Al', 'Si', 'Ti', 'V', 'Fe', 'Co', 'Ni', 'Cu', 'Mn', 'Li', 'Zn', 'O', 'P', 'Pt', 'Au', 'Ag', 'Ir', 'W', 'Pd', 'Sn', 'Tc', 'Y']\n"
   ]
  },
  {
   "cell_type": "code",
   "execution_count": 3,
   "id": "koUn0wdbXfH_",
   "metadata": {
    "id": "koUn0wdbXfH_"
   },
   "outputs": [],
   "source": [
    "#current_elements.index('O')"
   ]
  },
  {
   "cell_type": "code",
   "execution_count": 4,
   "id": "0MBX0QvhId1Y",
   "metadata": {
    "colab": {
     "base_uri": "https://localhost:8080/"
    },
    "id": "0MBX0QvhId1Y",
    "outputId": "4750cb2f-1c44-41d0-a52d-0e07c509a27e"
   },
   "outputs": [
    {
     "data": {
      "text/plain": [
       "(53660, 4094)"
      ]
     },
     "execution_count": 4,
     "metadata": {},
     "output_type": "execute_result"
    }
   ],
   "source": [
    "df_wavelengths=pd.DataFrame(wavelengths_list)\n",
    "df_wavelengths.shape\n"
   ]
  },
  {
   "cell_type": "code",
   "execution_count": 5,
   "id": "IYnzlqNtkSoE",
   "metadata": {
    "colab": {
     "base_uri": "https://localhost:8080/",
     "height": 236
    },
    "id": "IYnzlqNtkSoE",
    "outputId": "2819c27f-1acc-47b1-d871-91673098c177"
   },
   "outputs": [
    {
     "data": {
      "text/html": [
       "<div>\n",
       "<style scoped>\n",
       "    .dataframe tbody tr th:only-of-type {\n",
       "        vertical-align: middle;\n",
       "    }\n",
       "\n",
       "    .dataframe tbody tr th {\n",
       "        vertical-align: top;\n",
       "    }\n",
       "\n",
       "    .dataframe thead th {\n",
       "        text-align: right;\n",
       "    }\n",
       "</style>\n",
       "<table border=\"1\" class=\"dataframe\">\n",
       "  <thead>\n",
       "    <tr style=\"text-align: right;\">\n",
       "      <th></th>\n",
       "      <th>0</th>\n",
       "      <th>1</th>\n",
       "      <th>2</th>\n",
       "      <th>3</th>\n",
       "      <th>4</th>\n",
       "      <th>5</th>\n",
       "      <th>6</th>\n",
       "      <th>7</th>\n",
       "      <th>8</th>\n",
       "      <th>9</th>\n",
       "      <th>...</th>\n",
       "      <th>4084</th>\n",
       "      <th>4085</th>\n",
       "      <th>4086</th>\n",
       "      <th>4087</th>\n",
       "      <th>4088</th>\n",
       "      <th>4089</th>\n",
       "      <th>4090</th>\n",
       "      <th>4091</th>\n",
       "      <th>4092</th>\n",
       "      <th>4093</th>\n",
       "    </tr>\n",
       "  </thead>\n",
       "  <tbody>\n",
       "    <tr>\n",
       "      <th>0</th>\n",
       "      <td>184.9409</td>\n",
       "      <td>185.00817</td>\n",
       "      <td>185.07544</td>\n",
       "      <td>185.14271</td>\n",
       "      <td>185.20998</td>\n",
       "      <td>185.27725</td>\n",
       "      <td>185.34452</td>\n",
       "      <td>185.41179</td>\n",
       "      <td>185.47906</td>\n",
       "      <td>185.54633</td>\n",
       "      <td>...</td>\n",
       "      <td>459.67158</td>\n",
       "      <td>459.73885</td>\n",
       "      <td>459.80612</td>\n",
       "      <td>459.87339</td>\n",
       "      <td>459.94066</td>\n",
       "      <td>460.00793</td>\n",
       "      <td>460.0752</td>\n",
       "      <td>460.14247</td>\n",
       "      <td>460.20974</td>\n",
       "      <td>460.27701</td>\n",
       "    </tr>\n",
       "    <tr>\n",
       "      <th>1</th>\n",
       "      <td>184.9409</td>\n",
       "      <td>185.00817</td>\n",
       "      <td>185.07544</td>\n",
       "      <td>185.14271</td>\n",
       "      <td>185.20998</td>\n",
       "      <td>185.27725</td>\n",
       "      <td>185.34452</td>\n",
       "      <td>185.41179</td>\n",
       "      <td>185.47906</td>\n",
       "      <td>185.54633</td>\n",
       "      <td>...</td>\n",
       "      <td>459.67158</td>\n",
       "      <td>459.73885</td>\n",
       "      <td>459.80612</td>\n",
       "      <td>459.87339</td>\n",
       "      <td>459.94066</td>\n",
       "      <td>460.00793</td>\n",
       "      <td>460.0752</td>\n",
       "      <td>460.14247</td>\n",
       "      <td>460.20974</td>\n",
       "      <td>460.27701</td>\n",
       "    </tr>\n",
       "    <tr>\n",
       "      <th>2</th>\n",
       "      <td>184.9409</td>\n",
       "      <td>185.00817</td>\n",
       "      <td>185.07544</td>\n",
       "      <td>185.14271</td>\n",
       "      <td>185.20998</td>\n",
       "      <td>185.27725</td>\n",
       "      <td>185.34452</td>\n",
       "      <td>185.41179</td>\n",
       "      <td>185.47906</td>\n",
       "      <td>185.54633</td>\n",
       "      <td>...</td>\n",
       "      <td>459.67158</td>\n",
       "      <td>459.73885</td>\n",
       "      <td>459.80612</td>\n",
       "      <td>459.87339</td>\n",
       "      <td>459.94066</td>\n",
       "      <td>460.00793</td>\n",
       "      <td>460.0752</td>\n",
       "      <td>460.14247</td>\n",
       "      <td>460.20974</td>\n",
       "      <td>460.27701</td>\n",
       "    </tr>\n",
       "    <tr>\n",
       "      <th>3</th>\n",
       "      <td>184.9409</td>\n",
       "      <td>185.00817</td>\n",
       "      <td>185.07544</td>\n",
       "      <td>185.14271</td>\n",
       "      <td>185.20998</td>\n",
       "      <td>185.27725</td>\n",
       "      <td>185.34452</td>\n",
       "      <td>185.41179</td>\n",
       "      <td>185.47906</td>\n",
       "      <td>185.54633</td>\n",
       "      <td>...</td>\n",
       "      <td>459.67158</td>\n",
       "      <td>459.73885</td>\n",
       "      <td>459.80612</td>\n",
       "      <td>459.87339</td>\n",
       "      <td>459.94066</td>\n",
       "      <td>460.00793</td>\n",
       "      <td>460.0752</td>\n",
       "      <td>460.14247</td>\n",
       "      <td>460.20974</td>\n",
       "      <td>460.27701</td>\n",
       "    </tr>\n",
       "    <tr>\n",
       "      <th>4</th>\n",
       "      <td>184.9409</td>\n",
       "      <td>185.00817</td>\n",
       "      <td>185.07544</td>\n",
       "      <td>185.14271</td>\n",
       "      <td>185.20998</td>\n",
       "      <td>185.27725</td>\n",
       "      <td>185.34452</td>\n",
       "      <td>185.41179</td>\n",
       "      <td>185.47906</td>\n",
       "      <td>185.54633</td>\n",
       "      <td>...</td>\n",
       "      <td>459.67158</td>\n",
       "      <td>459.73885</td>\n",
       "      <td>459.80612</td>\n",
       "      <td>459.87339</td>\n",
       "      <td>459.94066</td>\n",
       "      <td>460.00793</td>\n",
       "      <td>460.0752</td>\n",
       "      <td>460.14247</td>\n",
       "      <td>460.20974</td>\n",
       "      <td>460.27701</td>\n",
       "    </tr>\n",
       "  </tbody>\n",
       "</table>\n",
       "<p>5 rows × 4094 columns</p>\n",
       "</div>"
      ],
      "text/plain": [
       "       0          1          2          3          4          5          6     \\\n",
       "0  184.9409  185.00817  185.07544  185.14271  185.20998  185.27725  185.34452   \n",
       "1  184.9409  185.00817  185.07544  185.14271  185.20998  185.27725  185.34452   \n",
       "2  184.9409  185.00817  185.07544  185.14271  185.20998  185.27725  185.34452   \n",
       "3  184.9409  185.00817  185.07544  185.14271  185.20998  185.27725  185.34452   \n",
       "4  184.9409  185.00817  185.07544  185.14271  185.20998  185.27725  185.34452   \n",
       "\n",
       "        7          8          9     ...       4084       4085       4086  \\\n",
       "0  185.41179  185.47906  185.54633  ...  459.67158  459.73885  459.80612   \n",
       "1  185.41179  185.47906  185.54633  ...  459.67158  459.73885  459.80612   \n",
       "2  185.41179  185.47906  185.54633  ...  459.67158  459.73885  459.80612   \n",
       "3  185.41179  185.47906  185.54633  ...  459.67158  459.73885  459.80612   \n",
       "4  185.41179  185.47906  185.54633  ...  459.67158  459.73885  459.80612   \n",
       "\n",
       "        4087       4088       4089      4090       4091       4092       4093  \n",
       "0  459.87339  459.94066  460.00793  460.0752  460.14247  460.20974  460.27701  \n",
       "1  459.87339  459.94066  460.00793  460.0752  460.14247  460.20974  460.27701  \n",
       "2  459.87339  459.94066  460.00793  460.0752  460.14247  460.20974  460.27701  \n",
       "3  459.87339  459.94066  460.00793  460.0752  460.14247  460.20974  460.27701  \n",
       "4  459.87339  459.94066  460.00793  460.0752  460.14247  460.20974  460.27701  \n",
       "\n",
       "[5 rows x 4094 columns]"
      ]
     },
     "execution_count": 5,
     "metadata": {},
     "output_type": "execute_result"
    }
   ],
   "source": [
    "df_wavelengths.head(5)"
   ]
  },
  {
   "cell_type": "code",
   "execution_count": 6,
   "id": "V5dgvoofI4t1",
   "metadata": {
    "colab": {
     "base_uri": "https://localhost:8080/"
    },
    "id": "V5dgvoofI4t1",
    "outputId": "80abf3a6-8493-4cef-ccff-0deb6cd8b4d4"
   },
   "outputs": [
    {
     "data": {
      "text/plain": [
       "(53660, 4094)"
      ]
     },
     "execution_count": 6,
     "metadata": {},
     "output_type": "execute_result"
    }
   ],
   "source": [
    "df_intensity=pd.DataFrame(c)\n",
    "df_intensity.shape"
   ]
  },
  {
   "cell_type": "code",
   "execution_count": 7,
   "id": "EMx_YCMfqz-C",
   "metadata": {
    "colab": {
     "base_uri": "https://localhost:8080/",
     "height": 236
    },
    "id": "EMx_YCMfqz-C",
    "outputId": "757ebd34-7c64-4a73-9468-369e8a094586"
   },
   "outputs": [
    {
     "data": {
      "text/html": [
       "<div>\n",
       "<style scoped>\n",
       "    .dataframe tbody tr th:only-of-type {\n",
       "        vertical-align: middle;\n",
       "    }\n",
       "\n",
       "    .dataframe tbody tr th {\n",
       "        vertical-align: top;\n",
       "    }\n",
       "\n",
       "    .dataframe thead th {\n",
       "        text-align: right;\n",
       "    }\n",
       "</style>\n",
       "<table border=\"1\" class=\"dataframe\">\n",
       "  <thead>\n",
       "    <tr style=\"text-align: right;\">\n",
       "      <th></th>\n",
       "      <th>0</th>\n",
       "      <th>1</th>\n",
       "      <th>2</th>\n",
       "      <th>3</th>\n",
       "      <th>4</th>\n",
       "      <th>5</th>\n",
       "      <th>6</th>\n",
       "      <th>7</th>\n",
       "      <th>8</th>\n",
       "      <th>9</th>\n",
       "      <th>...</th>\n",
       "      <th>4084</th>\n",
       "      <th>4085</th>\n",
       "      <th>4086</th>\n",
       "      <th>4087</th>\n",
       "      <th>4088</th>\n",
       "      <th>4089</th>\n",
       "      <th>4090</th>\n",
       "      <th>4091</th>\n",
       "      <th>4092</th>\n",
       "      <th>4093</th>\n",
       "    </tr>\n",
       "  </thead>\n",
       "  <tbody>\n",
       "    <tr>\n",
       "      <th>0</th>\n",
       "      <td>0.000000e+00</td>\n",
       "      <td>2.000000e-10</td>\n",
       "      <td>0.000003</td>\n",
       "      <td>6.425709e-04</td>\n",
       "      <td>1.575615e-03</td>\n",
       "      <td>0.000046</td>\n",
       "      <td>1.930000e-08</td>\n",
       "      <td>0.000000</td>\n",
       "      <td>0.000000</td>\n",
       "      <td>0.000000</td>\n",
       "      <td>...</td>\n",
       "      <td>0.0</td>\n",
       "      <td>0.0</td>\n",
       "      <td>0.0</td>\n",
       "      <td>0.0</td>\n",
       "      <td>0.0</td>\n",
       "      <td>0.0</td>\n",
       "      <td>0.0</td>\n",
       "      <td>0.0</td>\n",
       "      <td>0.0</td>\n",
       "      <td>0.0</td>\n",
       "    </tr>\n",
       "    <tr>\n",
       "      <th>1</th>\n",
       "      <td>9.886173e-54</td>\n",
       "      <td>1.163524e-55</td>\n",
       "      <td>0.000000</td>\n",
       "      <td>1.554174e-51</td>\n",
       "      <td>0.000000e+00</td>\n",
       "      <td>0.000000</td>\n",
       "      <td>0.000000e+00</td>\n",
       "      <td>0.000000</td>\n",
       "      <td>0.000000</td>\n",
       "      <td>0.000000</td>\n",
       "      <td>...</td>\n",
       "      <td>0.0</td>\n",
       "      <td>0.0</td>\n",
       "      <td>0.0</td>\n",
       "      <td>0.0</td>\n",
       "      <td>0.0</td>\n",
       "      <td>0.0</td>\n",
       "      <td>0.0</td>\n",
       "      <td>0.0</td>\n",
       "      <td>0.0</td>\n",
       "      <td>0.0</td>\n",
       "    </tr>\n",
       "    <tr>\n",
       "      <th>2</th>\n",
       "      <td>0.000000e+00</td>\n",
       "      <td>0.000000e+00</td>\n",
       "      <td>0.000000</td>\n",
       "      <td>0.000000e+00</td>\n",
       "      <td>5.000000e-10</td>\n",
       "      <td>0.000258</td>\n",
       "      <td>5.542503e+00</td>\n",
       "      <td>2288.572593</td>\n",
       "      <td>11510.308254</td>\n",
       "      <td>13851.330353</td>\n",
       "      <td>...</td>\n",
       "      <td>0.0</td>\n",
       "      <td>0.0</td>\n",
       "      <td>0.0</td>\n",
       "      <td>0.0</td>\n",
       "      <td>0.0</td>\n",
       "      <td>0.0</td>\n",
       "      <td>0.0</td>\n",
       "      <td>0.0</td>\n",
       "      <td>0.0</td>\n",
       "      <td>0.0</td>\n",
       "    </tr>\n",
       "    <tr>\n",
       "      <th>3</th>\n",
       "      <td>0.000000e+00</td>\n",
       "      <td>4.240042e+04</td>\n",
       "      <td>271401.081935</td>\n",
       "      <td>2.087370e+04</td>\n",
       "      <td>2.197288e+04</td>\n",
       "      <td>34653.560832</td>\n",
       "      <td>2.914393e+03</td>\n",
       "      <td>49.993821</td>\n",
       "      <td>0.013321</td>\n",
       "      <td>0.000000</td>\n",
       "      <td>...</td>\n",
       "      <td>0.0</td>\n",
       "      <td>0.0</td>\n",
       "      <td>0.0</td>\n",
       "      <td>0.0</td>\n",
       "      <td>0.0</td>\n",
       "      <td>0.0</td>\n",
       "      <td>0.0</td>\n",
       "      <td>0.0</td>\n",
       "      <td>0.0</td>\n",
       "      <td>0.0</td>\n",
       "    </tr>\n",
       "    <tr>\n",
       "      <th>4</th>\n",
       "      <td>2.212317e+00</td>\n",
       "      <td>2.136087e+00</td>\n",
       "      <td>2.061629</td>\n",
       "      <td>1.988922e+00</td>\n",
       "      <td>1.917944e+00</td>\n",
       "      <td>1.848676</td>\n",
       "      <td>1.781095e+00</td>\n",
       "      <td>1.715182</td>\n",
       "      <td>1.650916</td>\n",
       "      <td>1.588275</td>\n",
       "      <td>...</td>\n",
       "      <td>0.0</td>\n",
       "      <td>0.0</td>\n",
       "      <td>0.0</td>\n",
       "      <td>0.0</td>\n",
       "      <td>0.0</td>\n",
       "      <td>0.0</td>\n",
       "      <td>0.0</td>\n",
       "      <td>0.0</td>\n",
       "      <td>0.0</td>\n",
       "      <td>0.0</td>\n",
       "    </tr>\n",
       "  </tbody>\n",
       "</table>\n",
       "<p>5 rows × 4094 columns</p>\n",
       "</div>"
      ],
      "text/plain": [
       "           0             1              2             3             4     \\\n",
       "0  0.000000e+00  2.000000e-10       0.000003  6.425709e-04  1.575615e-03   \n",
       "1  9.886173e-54  1.163524e-55       0.000000  1.554174e-51  0.000000e+00   \n",
       "2  0.000000e+00  0.000000e+00       0.000000  0.000000e+00  5.000000e-10   \n",
       "3  0.000000e+00  4.240042e+04  271401.081935  2.087370e+04  2.197288e+04   \n",
       "4  2.212317e+00  2.136087e+00       2.061629  1.988922e+00  1.917944e+00   \n",
       "\n",
       "           5             6            7             8             9     ...  \\\n",
       "0      0.000046  1.930000e-08     0.000000      0.000000      0.000000  ...   \n",
       "1      0.000000  0.000000e+00     0.000000      0.000000      0.000000  ...   \n",
       "2      0.000258  5.542503e+00  2288.572593  11510.308254  13851.330353  ...   \n",
       "3  34653.560832  2.914393e+03    49.993821      0.013321      0.000000  ...   \n",
       "4      1.848676  1.781095e+00     1.715182      1.650916      1.588275  ...   \n",
       "\n",
       "   4084  4085  4086  4087  4088  4089  4090  4091  4092  4093  \n",
       "0   0.0   0.0   0.0   0.0   0.0   0.0   0.0   0.0   0.0   0.0  \n",
       "1   0.0   0.0   0.0   0.0   0.0   0.0   0.0   0.0   0.0   0.0  \n",
       "2   0.0   0.0   0.0   0.0   0.0   0.0   0.0   0.0   0.0   0.0  \n",
       "3   0.0   0.0   0.0   0.0   0.0   0.0   0.0   0.0   0.0   0.0  \n",
       "4   0.0   0.0   0.0   0.0   0.0   0.0   0.0   0.0   0.0   0.0  \n",
       "\n",
       "[5 rows x 4094 columns]"
      ]
     },
     "execution_count": 7,
     "metadata": {},
     "output_type": "execute_result"
    }
   ],
   "source": [
    "df_intensity.head()"
   ]
  },
  {
   "cell_type": "code",
   "execution_count": 8,
   "id": "RpinM9LKzZO0",
   "metadata": {
    "colab": {
     "base_uri": "https://localhost:8080/",
     "height": 236
    },
    "id": "RpinM9LKzZO0",
    "outputId": "7a1d5a4e-7a9f-4dd5-c9f4-27554c43f58b"
   },
   "outputs": [
    {
     "data": {
      "text/html": [
       "<div>\n",
       "<style scoped>\n",
       "    .dataframe tbody tr th:only-of-type {\n",
       "        vertical-align: middle;\n",
       "    }\n",
       "\n",
       "    .dataframe tbody tr th {\n",
       "        vertical-align: top;\n",
       "    }\n",
       "\n",
       "    .dataframe thead th {\n",
       "        text-align: right;\n",
       "    }\n",
       "</style>\n",
       "<table border=\"1\" class=\"dataframe\">\n",
       "  <thead>\n",
       "    <tr style=\"text-align: right;\">\n",
       "      <th></th>\n",
       "      <th>0</th>\n",
       "      <th>1</th>\n",
       "      <th>2</th>\n",
       "      <th>3</th>\n",
       "      <th>4</th>\n",
       "      <th>5</th>\n",
       "      <th>6</th>\n",
       "      <th>7</th>\n",
       "      <th>8</th>\n",
       "      <th>9</th>\n",
       "      <th>...</th>\n",
       "      <th>14</th>\n",
       "      <th>15</th>\n",
       "      <th>16</th>\n",
       "      <th>17</th>\n",
       "      <th>18</th>\n",
       "      <th>19</th>\n",
       "      <th>20</th>\n",
       "      <th>21</th>\n",
       "      <th>22</th>\n",
       "      <th>23</th>\n",
       "    </tr>\n",
       "  </thead>\n",
       "  <tbody>\n",
       "    <tr>\n",
       "      <th>0</th>\n",
       "      <td>1.0</td>\n",
       "      <td>0.0</td>\n",
       "      <td>0.0</td>\n",
       "      <td>0.0</td>\n",
       "      <td>0.0</td>\n",
       "      <td>0.0</td>\n",
       "      <td>0.0</td>\n",
       "      <td>0.0</td>\n",
       "      <td>0.0</td>\n",
       "      <td>0.0</td>\n",
       "      <td>...</td>\n",
       "      <td>0.0</td>\n",
       "      <td>0.0</td>\n",
       "      <td>0.0</td>\n",
       "      <td>0.0</td>\n",
       "      <td>0.0</td>\n",
       "      <td>0.0</td>\n",
       "      <td>0.0</td>\n",
       "      <td>0.0</td>\n",
       "      <td>0.0</td>\n",
       "      <td>0.0</td>\n",
       "    </tr>\n",
       "    <tr>\n",
       "      <th>1</th>\n",
       "      <td>0.0</td>\n",
       "      <td>1.0</td>\n",
       "      <td>0.0</td>\n",
       "      <td>0.0</td>\n",
       "      <td>0.0</td>\n",
       "      <td>0.0</td>\n",
       "      <td>0.0</td>\n",
       "      <td>0.0</td>\n",
       "      <td>0.0</td>\n",
       "      <td>0.0</td>\n",
       "      <td>...</td>\n",
       "      <td>0.0</td>\n",
       "      <td>0.0</td>\n",
       "      <td>0.0</td>\n",
       "      <td>0.0</td>\n",
       "      <td>0.0</td>\n",
       "      <td>0.0</td>\n",
       "      <td>0.0</td>\n",
       "      <td>0.0</td>\n",
       "      <td>0.0</td>\n",
       "      <td>0.0</td>\n",
       "    </tr>\n",
       "    <tr>\n",
       "      <th>2</th>\n",
       "      <td>0.0</td>\n",
       "      <td>0.0</td>\n",
       "      <td>1.0</td>\n",
       "      <td>0.0</td>\n",
       "      <td>0.0</td>\n",
       "      <td>0.0</td>\n",
       "      <td>0.0</td>\n",
       "      <td>0.0</td>\n",
       "      <td>0.0</td>\n",
       "      <td>0.0</td>\n",
       "      <td>...</td>\n",
       "      <td>0.0</td>\n",
       "      <td>0.0</td>\n",
       "      <td>0.0</td>\n",
       "      <td>0.0</td>\n",
       "      <td>0.0</td>\n",
       "      <td>0.0</td>\n",
       "      <td>0.0</td>\n",
       "      <td>0.0</td>\n",
       "      <td>0.0</td>\n",
       "      <td>0.0</td>\n",
       "    </tr>\n",
       "    <tr>\n",
       "      <th>3</th>\n",
       "      <td>0.0</td>\n",
       "      <td>0.0</td>\n",
       "      <td>0.0</td>\n",
       "      <td>1.0</td>\n",
       "      <td>0.0</td>\n",
       "      <td>0.0</td>\n",
       "      <td>0.0</td>\n",
       "      <td>0.0</td>\n",
       "      <td>0.0</td>\n",
       "      <td>0.0</td>\n",
       "      <td>...</td>\n",
       "      <td>0.0</td>\n",
       "      <td>0.0</td>\n",
       "      <td>0.0</td>\n",
       "      <td>0.0</td>\n",
       "      <td>0.0</td>\n",
       "      <td>0.0</td>\n",
       "      <td>0.0</td>\n",
       "      <td>0.0</td>\n",
       "      <td>0.0</td>\n",
       "      <td>0.0</td>\n",
       "    </tr>\n",
       "    <tr>\n",
       "      <th>4</th>\n",
       "      <td>0.0</td>\n",
       "      <td>0.0</td>\n",
       "      <td>0.0</td>\n",
       "      <td>0.0</td>\n",
       "      <td>1.0</td>\n",
       "      <td>0.0</td>\n",
       "      <td>0.0</td>\n",
       "      <td>0.0</td>\n",
       "      <td>0.0</td>\n",
       "      <td>0.0</td>\n",
       "      <td>...</td>\n",
       "      <td>0.0</td>\n",
       "      <td>0.0</td>\n",
       "      <td>0.0</td>\n",
       "      <td>0.0</td>\n",
       "      <td>0.0</td>\n",
       "      <td>0.0</td>\n",
       "      <td>0.0</td>\n",
       "      <td>0.0</td>\n",
       "      <td>0.0</td>\n",
       "      <td>0.0</td>\n",
       "    </tr>\n",
       "  </tbody>\n",
       "</table>\n",
       "<p>5 rows × 24 columns</p>\n",
       "</div>"
      ],
      "text/plain": [
       "    0    1    2    3    4    5    6    7    8    9   ...   14   15   16   17  \\\n",
       "0  1.0  0.0  0.0  0.0  0.0  0.0  0.0  0.0  0.0  0.0  ...  0.0  0.0  0.0  0.0   \n",
       "1  0.0  1.0  0.0  0.0  0.0  0.0  0.0  0.0  0.0  0.0  ...  0.0  0.0  0.0  0.0   \n",
       "2  0.0  0.0  1.0  0.0  0.0  0.0  0.0  0.0  0.0  0.0  ...  0.0  0.0  0.0  0.0   \n",
       "3  0.0  0.0  0.0  1.0  0.0  0.0  0.0  0.0  0.0  0.0  ...  0.0  0.0  0.0  0.0   \n",
       "4  0.0  0.0  0.0  0.0  1.0  0.0  0.0  0.0  0.0  0.0  ...  0.0  0.0  0.0  0.0   \n",
       "\n",
       "    18   19   20   21   22   23  \n",
       "0  0.0  0.0  0.0  0.0  0.0  0.0  \n",
       "1  0.0  0.0  0.0  0.0  0.0  0.0  \n",
       "2  0.0  0.0  0.0  0.0  0.0  0.0  \n",
       "3  0.0  0.0  0.0  0.0  0.0  0.0  \n",
       "4  0.0  0.0  0.0  0.0  0.0  0.0  \n",
       "\n",
       "[5 rows x 24 columns]"
      ]
     },
     "execution_count": 8,
     "metadata": {},
     "output_type": "execute_result"
    }
   ],
   "source": [
    "df_labels_list=pd.DataFrame(labels_list)\n",
    "df_labels_list.head()"
   ]
  },
  {
   "cell_type": "code",
   "execution_count": 9,
   "id": "ZtHTWtnYlj9n",
   "metadata": {
    "colab": {
     "base_uri": "https://localhost:8080/"
    },
    "id": "ZtHTWtnYlj9n",
    "outputId": "e4afe7a4-7c16-4667-85c6-03b79f051320"
   },
   "outputs": [
    {
     "data": {
      "text/plain": [
       "(53660, 24)"
      ]
     },
     "execution_count": 9,
     "metadata": {},
     "output_type": "execute_result"
    }
   ],
   "source": [
    "df_labels_list.shape"
   ]
  },
  {
   "cell_type": "code",
   "execution_count": 10,
   "id": "V0idaDVuky2Q",
   "metadata": {
    "colab": {
     "base_uri": "https://localhost:8080/"
    },
    "id": "V0idaDVuky2Q",
    "outputId": "1c654bbc-9bb3-4431-c2c5-9c4eaa1a06da"
   },
   "outputs": [
    {
     "data": {
      "text/plain": [
       "0        False\n",
       "1        False\n",
       "2        False\n",
       "3        False\n",
       "4        False\n",
       "         ...  \n",
       "53655    False\n",
       "53656    False\n",
       "53657    False\n",
       "53658    False\n",
       "53659    False\n",
       "Name: 13, Length: 53660, dtype: bool"
      ]
     },
     "execution_count": 10,
     "metadata": {},
     "output_type": "execute_result"
    }
   ],
   "source": [
    "df_labels_list[13]!=0.0"
   ]
  },
  {
   "cell_type": "code",
   "execution_count": 11,
   "id": "-RDgFMSOX0mR",
   "metadata": {
    "colab": {
     "base_uri": "https://localhost:8080/",
     "height": 424
    },
    "id": "-RDgFMSOX0mR",
    "outputId": "e7eb3180-904c-43c1-9075-08bb1145e42d"
   },
   "outputs": [
    {
     "data": {
      "text/html": [
       "<div>\n",
       "<style scoped>\n",
       "    .dataframe tbody tr th:only-of-type {\n",
       "        vertical-align: middle;\n",
       "    }\n",
       "\n",
       "    .dataframe tbody tr th {\n",
       "        vertical-align: top;\n",
       "    }\n",
       "\n",
       "    .dataframe thead th {\n",
       "        text-align: right;\n",
       "    }\n",
       "</style>\n",
       "<table border=\"1\" class=\"dataframe\">\n",
       "  <thead>\n",
       "    <tr style=\"text-align: right;\">\n",
       "      <th></th>\n",
       "      <th>0</th>\n",
       "      <th>1</th>\n",
       "      <th>2</th>\n",
       "      <th>3</th>\n",
       "      <th>4</th>\n",
       "      <th>5</th>\n",
       "      <th>6</th>\n",
       "      <th>7</th>\n",
       "      <th>8</th>\n",
       "      <th>9</th>\n",
       "      <th>...</th>\n",
       "      <th>14</th>\n",
       "      <th>15</th>\n",
       "      <th>16</th>\n",
       "      <th>17</th>\n",
       "      <th>18</th>\n",
       "      <th>19</th>\n",
       "      <th>20</th>\n",
       "      <th>21</th>\n",
       "      <th>22</th>\n",
       "      <th>23</th>\n",
       "    </tr>\n",
       "  </thead>\n",
       "  <tbody>\n",
       "    <tr>\n",
       "      <th>13</th>\n",
       "      <td>0.00</td>\n",
       "      <td>0.00</td>\n",
       "      <td>0.00</td>\n",
       "      <td>0.00</td>\n",
       "      <td>0.0</td>\n",
       "      <td>0.0</td>\n",
       "      <td>0.0</td>\n",
       "      <td>0.0</td>\n",
       "      <td>0.0</td>\n",
       "      <td>0.0</td>\n",
       "      <td>...</td>\n",
       "      <td>0.0</td>\n",
       "      <td>0.0</td>\n",
       "      <td>0.0</td>\n",
       "      <td>0.0</td>\n",
       "      <td>0.0</td>\n",
       "      <td>0.0</td>\n",
       "      <td>0.00</td>\n",
       "      <td>0.00</td>\n",
       "      <td>0.00</td>\n",
       "      <td>0.0</td>\n",
       "    </tr>\n",
       "    <tr>\n",
       "      <th>36</th>\n",
       "      <td>0.99</td>\n",
       "      <td>0.00</td>\n",
       "      <td>0.00</td>\n",
       "      <td>0.00</td>\n",
       "      <td>0.0</td>\n",
       "      <td>0.0</td>\n",
       "      <td>0.0</td>\n",
       "      <td>0.0</td>\n",
       "      <td>0.0</td>\n",
       "      <td>0.0</td>\n",
       "      <td>...</td>\n",
       "      <td>0.0</td>\n",
       "      <td>0.0</td>\n",
       "      <td>0.0</td>\n",
       "      <td>0.0</td>\n",
       "      <td>0.0</td>\n",
       "      <td>0.0</td>\n",
       "      <td>0.00</td>\n",
       "      <td>0.00</td>\n",
       "      <td>0.00</td>\n",
       "      <td>0.0</td>\n",
       "    </tr>\n",
       "    <tr>\n",
       "      <th>58</th>\n",
       "      <td>0.00</td>\n",
       "      <td>0.99</td>\n",
       "      <td>0.00</td>\n",
       "      <td>0.00</td>\n",
       "      <td>0.0</td>\n",
       "      <td>0.0</td>\n",
       "      <td>0.0</td>\n",
       "      <td>0.0</td>\n",
       "      <td>0.0</td>\n",
       "      <td>0.0</td>\n",
       "      <td>...</td>\n",
       "      <td>0.0</td>\n",
       "      <td>0.0</td>\n",
       "      <td>0.0</td>\n",
       "      <td>0.0</td>\n",
       "      <td>0.0</td>\n",
       "      <td>0.0</td>\n",
       "      <td>0.00</td>\n",
       "      <td>0.00</td>\n",
       "      <td>0.00</td>\n",
       "      <td>0.0</td>\n",
       "    </tr>\n",
       "    <tr>\n",
       "      <th>79</th>\n",
       "      <td>0.00</td>\n",
       "      <td>0.00</td>\n",
       "      <td>0.99</td>\n",
       "      <td>0.00</td>\n",
       "      <td>0.0</td>\n",
       "      <td>0.0</td>\n",
       "      <td>0.0</td>\n",
       "      <td>0.0</td>\n",
       "      <td>0.0</td>\n",
       "      <td>0.0</td>\n",
       "      <td>...</td>\n",
       "      <td>0.0</td>\n",
       "      <td>0.0</td>\n",
       "      <td>0.0</td>\n",
       "      <td>0.0</td>\n",
       "      <td>0.0</td>\n",
       "      <td>0.0</td>\n",
       "      <td>0.00</td>\n",
       "      <td>0.00</td>\n",
       "      <td>0.00</td>\n",
       "      <td>0.0</td>\n",
       "    </tr>\n",
       "    <tr>\n",
       "      <th>99</th>\n",
       "      <td>0.00</td>\n",
       "      <td>0.00</td>\n",
       "      <td>0.00</td>\n",
       "      <td>0.99</td>\n",
       "      <td>0.0</td>\n",
       "      <td>0.0</td>\n",
       "      <td>0.0</td>\n",
       "      <td>0.0</td>\n",
       "      <td>0.0</td>\n",
       "      <td>0.0</td>\n",
       "      <td>...</td>\n",
       "      <td>0.0</td>\n",
       "      <td>0.0</td>\n",
       "      <td>0.0</td>\n",
       "      <td>0.0</td>\n",
       "      <td>0.0</td>\n",
       "      <td>0.0</td>\n",
       "      <td>0.00</td>\n",
       "      <td>0.00</td>\n",
       "      <td>0.00</td>\n",
       "      <td>0.0</td>\n",
       "    </tr>\n",
       "    <tr>\n",
       "      <th>...</th>\n",
       "      <td>...</td>\n",
       "      <td>...</td>\n",
       "      <td>...</td>\n",
       "      <td>...</td>\n",
       "      <td>...</td>\n",
       "      <td>...</td>\n",
       "      <td>...</td>\n",
       "      <td>...</td>\n",
       "      <td>...</td>\n",
       "      <td>...</td>\n",
       "      <td>...</td>\n",
       "      <td>...</td>\n",
       "      <td>...</td>\n",
       "      <td>...</td>\n",
       "      <td>...</td>\n",
       "      <td>...</td>\n",
       "      <td>...</td>\n",
       "      <td>...</td>\n",
       "      <td>...</td>\n",
       "      <td>...</td>\n",
       "      <td>...</td>\n",
       "    </tr>\n",
       "    <tr>\n",
       "      <th>53535</th>\n",
       "      <td>0.00</td>\n",
       "      <td>0.00</td>\n",
       "      <td>0.00</td>\n",
       "      <td>0.00</td>\n",
       "      <td>0.0</td>\n",
       "      <td>0.0</td>\n",
       "      <td>0.0</td>\n",
       "      <td>0.0</td>\n",
       "      <td>0.0</td>\n",
       "      <td>0.0</td>\n",
       "      <td>...</td>\n",
       "      <td>0.0</td>\n",
       "      <td>0.0</td>\n",
       "      <td>0.0</td>\n",
       "      <td>0.0</td>\n",
       "      <td>0.0</td>\n",
       "      <td>0.0</td>\n",
       "      <td>0.15</td>\n",
       "      <td>0.00</td>\n",
       "      <td>0.30</td>\n",
       "      <td>0.0</td>\n",
       "    </tr>\n",
       "    <tr>\n",
       "      <th>53536</th>\n",
       "      <td>0.00</td>\n",
       "      <td>0.00</td>\n",
       "      <td>0.00</td>\n",
       "      <td>0.00</td>\n",
       "      <td>0.0</td>\n",
       "      <td>0.0</td>\n",
       "      <td>0.0</td>\n",
       "      <td>0.0</td>\n",
       "      <td>0.0</td>\n",
       "      <td>0.0</td>\n",
       "      <td>...</td>\n",
       "      <td>0.0</td>\n",
       "      <td>0.0</td>\n",
       "      <td>0.0</td>\n",
       "      <td>0.0</td>\n",
       "      <td>0.0</td>\n",
       "      <td>0.0</td>\n",
       "      <td>0.15</td>\n",
       "      <td>0.00</td>\n",
       "      <td>0.00</td>\n",
       "      <td>0.3</td>\n",
       "    </tr>\n",
       "    <tr>\n",
       "      <th>53537</th>\n",
       "      <td>0.00</td>\n",
       "      <td>0.00</td>\n",
       "      <td>0.00</td>\n",
       "      <td>0.00</td>\n",
       "      <td>0.0</td>\n",
       "      <td>0.0</td>\n",
       "      <td>0.0</td>\n",
       "      <td>0.0</td>\n",
       "      <td>0.0</td>\n",
       "      <td>0.0</td>\n",
       "      <td>...</td>\n",
       "      <td>0.0</td>\n",
       "      <td>0.0</td>\n",
       "      <td>0.0</td>\n",
       "      <td>0.0</td>\n",
       "      <td>0.0</td>\n",
       "      <td>0.0</td>\n",
       "      <td>0.00</td>\n",
       "      <td>0.15</td>\n",
       "      <td>0.30</td>\n",
       "      <td>0.0</td>\n",
       "    </tr>\n",
       "    <tr>\n",
       "      <th>53538</th>\n",
       "      <td>0.00</td>\n",
       "      <td>0.00</td>\n",
       "      <td>0.00</td>\n",
       "      <td>0.00</td>\n",
       "      <td>0.0</td>\n",
       "      <td>0.0</td>\n",
       "      <td>0.0</td>\n",
       "      <td>0.0</td>\n",
       "      <td>0.0</td>\n",
       "      <td>0.0</td>\n",
       "      <td>...</td>\n",
       "      <td>0.0</td>\n",
       "      <td>0.0</td>\n",
       "      <td>0.0</td>\n",
       "      <td>0.0</td>\n",
       "      <td>0.0</td>\n",
       "      <td>0.0</td>\n",
       "      <td>0.00</td>\n",
       "      <td>0.15</td>\n",
       "      <td>0.00</td>\n",
       "      <td>0.3</td>\n",
       "    </tr>\n",
       "    <tr>\n",
       "      <th>53539</th>\n",
       "      <td>0.00</td>\n",
       "      <td>0.00</td>\n",
       "      <td>0.00</td>\n",
       "      <td>0.00</td>\n",
       "      <td>0.0</td>\n",
       "      <td>0.0</td>\n",
       "      <td>0.0</td>\n",
       "      <td>0.0</td>\n",
       "      <td>0.0</td>\n",
       "      <td>0.0</td>\n",
       "      <td>...</td>\n",
       "      <td>0.0</td>\n",
       "      <td>0.0</td>\n",
       "      <td>0.0</td>\n",
       "      <td>0.0</td>\n",
       "      <td>0.0</td>\n",
       "      <td>0.0</td>\n",
       "      <td>0.00</td>\n",
       "      <td>0.00</td>\n",
       "      <td>0.15</td>\n",
       "      <td>0.3</td>\n",
       "    </tr>\n",
       "  </tbody>\n",
       "</table>\n",
       "<p>5567 rows × 24 columns</p>\n",
       "</div>"
      ],
      "text/plain": [
       "         0     1     2     3    4    5    6    7    8    9   ...   14   15  \\\n",
       "13     0.00  0.00  0.00  0.00  0.0  0.0  0.0  0.0  0.0  0.0  ...  0.0  0.0   \n",
       "36     0.99  0.00  0.00  0.00  0.0  0.0  0.0  0.0  0.0  0.0  ...  0.0  0.0   \n",
       "58     0.00  0.99  0.00  0.00  0.0  0.0  0.0  0.0  0.0  0.0  ...  0.0  0.0   \n",
       "79     0.00  0.00  0.99  0.00  0.0  0.0  0.0  0.0  0.0  0.0  ...  0.0  0.0   \n",
       "99     0.00  0.00  0.00  0.99  0.0  0.0  0.0  0.0  0.0  0.0  ...  0.0  0.0   \n",
       "...     ...   ...   ...   ...  ...  ...  ...  ...  ...  ...  ...  ...  ...   \n",
       "53535  0.00  0.00  0.00  0.00  0.0  0.0  0.0  0.0  0.0  0.0  ...  0.0  0.0   \n",
       "53536  0.00  0.00  0.00  0.00  0.0  0.0  0.0  0.0  0.0  0.0  ...  0.0  0.0   \n",
       "53537  0.00  0.00  0.00  0.00  0.0  0.0  0.0  0.0  0.0  0.0  ...  0.0  0.0   \n",
       "53538  0.00  0.00  0.00  0.00  0.0  0.0  0.0  0.0  0.0  0.0  ...  0.0  0.0   \n",
       "53539  0.00  0.00  0.00  0.00  0.0  0.0  0.0  0.0  0.0  0.0  ...  0.0  0.0   \n",
       "\n",
       "        16   17   18   19    20    21    22   23  \n",
       "13     0.0  0.0  0.0  0.0  0.00  0.00  0.00  0.0  \n",
       "36     0.0  0.0  0.0  0.0  0.00  0.00  0.00  0.0  \n",
       "58     0.0  0.0  0.0  0.0  0.00  0.00  0.00  0.0  \n",
       "79     0.0  0.0  0.0  0.0  0.00  0.00  0.00  0.0  \n",
       "99     0.0  0.0  0.0  0.0  0.00  0.00  0.00  0.0  \n",
       "...    ...  ...  ...  ...   ...   ...   ...  ...  \n",
       "53535  0.0  0.0  0.0  0.0  0.15  0.00  0.30  0.0  \n",
       "53536  0.0  0.0  0.0  0.0  0.15  0.00  0.00  0.3  \n",
       "53537  0.0  0.0  0.0  0.0  0.00  0.15  0.30  0.0  \n",
       "53538  0.0  0.0  0.0  0.0  0.00  0.15  0.00  0.3  \n",
       "53539  0.0  0.0  0.0  0.0  0.00  0.00  0.15  0.3  \n",
       "\n",
       "[5567 rows x 24 columns]"
      ]
     },
     "execution_count": 11,
     "metadata": {},
     "output_type": "execute_result"
    }
   ],
   "source": [
    "#row 13 is 'O' which is gas element so droping all the rows which has oxygen\n",
    "#get rows with gas elements .i.e. rows which has value other than 0 in column 13\n",
    "rows_gas = df_labels_list[(df_labels_list[[13]] != 0.0).all(axis=1)]\n",
    "rows_gas"
   ]
  },
  {
   "cell_type": "code",
   "execution_count": 12,
   "id": "cGjyWhGpmyaG",
   "metadata": {
    "colab": {
     "base_uri": "https://localhost:8080/"
    },
    "id": "cGjyWhGpmyaG",
    "outputId": "4ed74e61-348d-490d-ccdb-ebe7218a72ee"
   },
   "outputs": [
    {
     "data": {
      "text/plain": [
       "Int64Index([   13,    36,    58,    79,    99,   118,   136,   153,   169,\n",
       "              184,\n",
       "            ...\n",
       "            53530, 53531, 53532, 53533, 53534, 53535, 53536, 53537, 53538,\n",
       "            53539],\n",
       "           dtype='int64', length=5567)"
      ]
     },
     "execution_count": 12,
     "metadata": {},
     "output_type": "execute_result"
    }
   ],
   "source": [
    "rows_of_gas=rows_gas.index\n",
    "rows_of_gas"
   ]
  },
  {
   "cell_type": "code",
   "execution_count": 13,
   "id": "DpGKG7qboB7z",
   "metadata": {
    "colab": {
     "base_uri": "https://localhost:8080/"
    },
    "id": "DpGKG7qboB7z",
    "outputId": "5ecc42c8-2122-4639-bf3f-8ccde8104c6d"
   },
   "outputs": [
    {
     "data": {
      "text/plain": [
       "(48093, 4094)"
      ]
     },
     "execution_count": 13,
     "metadata": {},
     "output_type": "execute_result"
    }
   ],
   "source": [
    "\n",
    "df_intensity=df_intensity.drop(index=rows_of_gas)\n",
    "df_intensity.shape"
   ]
  },
  {
   "cell_type": "code",
   "execution_count": 14,
   "id": "Ml_2pdc2pDF3",
   "metadata": {
    "colab": {
     "base_uri": "https://localhost:8080/"
    },
    "id": "Ml_2pdc2pDF3",
    "outputId": "000706d6-f3f3-4ee8-fcb9-f83cc90d5fb8"
   },
   "outputs": [
    {
     "data": {
      "text/plain": [
       "(48093, 4094)"
      ]
     },
     "execution_count": 14,
     "metadata": {},
     "output_type": "execute_result"
    }
   ],
   "source": [
    "df_wavelengths=df_wavelengths.drop(index=rows_of_gas)\n",
    "df_wavelengths.shape"
   ]
  },
  {
   "cell_type": "code",
   "execution_count": 15,
   "id": "yUrILR4ypDMl",
   "metadata": {
    "colab": {
     "base_uri": "https://localhost:8080/"
    },
    "id": "yUrILR4ypDMl",
    "outputId": "a079de2f-0e2e-462e-b65d-0ad960440799"
   },
   "outputs": [
    {
     "data": {
      "text/plain": [
       "(48093, 24)"
      ]
     },
     "execution_count": 15,
     "metadata": {},
     "output_type": "execute_result"
    }
   ],
   "source": [
    "df_labels_list=df_labels_list.drop(index=rows_of_gas)\n",
    "df_labels_list.shape\n",
    "\n"
   ]
  },
  {
   "cell_type": "code",
   "execution_count": 16,
   "id": "Afr_2fOqi-TY",
   "metadata": {
    "colab": {
     "base_uri": "https://localhost:8080/"
    },
    "id": "Afr_2fOqi-TY",
    "outputId": "8e3a68b2-e259-40e7-e478-4ec9d575f4ba"
   },
   "outputs": [
    {
     "data": {
      "text/plain": [
       "(48093, 23)"
      ]
     },
     "execution_count": 16,
     "metadata": {},
     "output_type": "execute_result"
    }
   ],
   "source": [
    "df_labels_list=df_labels_list.drop(13, axis=1)\n",
    "df_labels_list.shape"
   ]
  },
  {
   "cell_type": "markdown",
   "id": "eBtkPmw6_2HN",
   "metadata": {
    "id": "eBtkPmw6_2HN"
   },
   "source": [
    "## split dataset for train set and test set"
   ]
  },
  {
   "cell_type": "code",
   "execution_count": 17,
   "id": "46RtpjHTAKZD",
   "metadata": {
    "id": "46RtpjHTAKZD"
   },
   "outputs": [],
   "source": [
    "x=df_intensity\n",
    "y=df_labels_list"
   ]
  },
  {
   "cell_type": "code",
   "execution_count": null,
   "id": "VtfcQmIZoGEU",
   "metadata": {
    "id": "VtfcQmIZoGEU"
   },
   "outputs": [],
   "source": [
    "# Split x into train and test sets\n",
    "X_train, X_test, y_train, y_test = train_test_split(x, y, test_size=0.1, random_state=42)\n",
    "X_train, X_val, y_train, y_val= train_test_split(X_train, y_train, test_size=0.2, random_state=42)\n"
   ]
  },
  {
   "cell_type": "code",
   "execution_count": null,
   "id": "e5rA1vceAYxR",
   "metadata": {
    "id": "e5rA1vceAYxR"
   },
   "outputs": [
    {
     "name": "stdout",
     "output_type": "stream",
     "text": [
      "X_train shape: (34626, 4094)\n",
      "y_train shape: (34626, 23)\n",
      "X_test shape: (4810, 4094)\n",
      "y_test shape: (4810, 23)\n",
      "X_val shape: (8657, 4094)\n",
      "y_val shape: (8657, 23)\n"
     ]
    }
   ],
   "source": [
    "# Print the shape of the resulting data sets\n",
    "print(\"X_train shape:\", X_train.shape)\n",
    "print(\"y_train shape:\", y_train.shape)\n",
    "print(\"X_test shape:\", X_test.shape)\n",
    "print(\"y_test shape:\", y_test.shape)\n",
    "print(\"X_val shape:\", X_val.shape)\n",
    "print(\"y_val shape:\", y_val.shape)"
   ]
  },
  {
   "cell_type": "code",
   "execution_count": null,
   "id": "SvxyNw2jITbF",
   "metadata": {
    "colab": {
     "base_uri": "https://localhost:8080/"
    },
    "id": "SvxyNw2jITbF",
    "outputId": "f608b30c-0ce8-49a9-f0ca-393f0ab92584"
   },
   "outputs": [
    {
     "name": "stderr",
     "output_type": "stream",
     "text": [
      "2023-03-10 12:55:36.376950: I tensorflow/core/platform/cpu_feature_guard.cc:193] This TensorFlow binary is optimized with oneAPI Deep Neural Network Library (oneDNN) to use the following CPU instructions in performance-critical operations:  AVX2 FMA\n",
      "To enable them in other operations, rebuild TensorFlow with the appropriate compiler flags.\n",
      "2023-03-10 12:55:37.525259: I tensorflow/core/common_runtime/gpu/gpu_device.cc:1532] Created device /job:localhost/replica:0/task:0/device:GPU:0 with 22352 MB memory:  -> device: 0, name: NVIDIA RTX A5000, pci bus id: 0000:41:00.0, compute capability: 8.6\n"
     ]
    },
    {
     "ename": "RuntimeError",
     "evalue": "You must compile your model before training/testing. Use `model.compile(optimizer, loss)`.",
     "output_type": "error",
     "traceback": [
      "\u001b[0;31m---------------------------------------------------------------------------\u001b[0m",
      "\u001b[0;31mRuntimeError\u001b[0m                              Traceback (most recent call last)",
      "Cell \u001b[0;32mIn [20], line 12\u001b[0m\n\u001b[1;32m      6\u001b[0m model\u001b[38;5;241m.\u001b[39madd(Dense(\u001b[38;5;241m23\u001b[39m, activation\u001b[38;5;241m=\u001b[39msoftmax))\n\u001b[1;32m      8\u001b[0m \u001b[38;5;66;03m# Compile the model\u001b[39;00m\n\u001b[1;32m      9\u001b[0m \u001b[38;5;66;03m#model.compile(optimizer='adam', loss='categorical_crossentropy', metrics=['accuracy'])\u001b[39;00m\n\u001b[1;32m     10\u001b[0m \n\u001b[1;32m     11\u001b[0m \u001b[38;5;66;03m# Train the model\u001b[39;00m\n\u001b[0;32m---> 12\u001b[0m \u001b[43mmodel\u001b[49m\u001b[38;5;241;43m.\u001b[39;49m\u001b[43mfit\u001b[49m\u001b[43m(\u001b[49m\u001b[43mX_train\u001b[49m\u001b[43m,\u001b[49m\u001b[43m \u001b[49m\u001b[43my_train\u001b[49m\u001b[43m,\u001b[49m\u001b[43m \u001b[49m\u001b[43mepochs\u001b[49m\u001b[38;5;241;43m=\u001b[39;49m\u001b[38;5;241;43m200\u001b[39;49m\u001b[43m,\u001b[49m\u001b[43m \u001b[49m\u001b[43mbatch_size\u001b[49m\u001b[38;5;241;43m=\u001b[39;49m\u001b[38;5;241;43m32\u001b[39;49m\u001b[43m)\u001b[49m\n\u001b[1;32m     14\u001b[0m \u001b[38;5;66;03m# Evaluate the model\u001b[39;00m\n\u001b[1;32m     15\u001b[0m loss, accuracy \u001b[38;5;241m=\u001b[39m model\u001b[38;5;241m.\u001b[39mevaluate(X_test, y_test)\n",
      "File \u001b[0;32m/usr/local/lib/python3.8/dist-packages/keras/utils/traceback_utils.py:67\u001b[0m, in \u001b[0;36mfilter_traceback.<locals>.error_handler\u001b[0;34m(*args, **kwargs)\u001b[0m\n\u001b[1;32m     65\u001b[0m \u001b[38;5;28;01mexcept\u001b[39;00m \u001b[38;5;167;01mException\u001b[39;00m \u001b[38;5;28;01mas\u001b[39;00m e:  \u001b[38;5;66;03m# pylint: disable=broad-except\u001b[39;00m\n\u001b[1;32m     66\u001b[0m   filtered_tb \u001b[38;5;241m=\u001b[39m _process_traceback_frames(e\u001b[38;5;241m.\u001b[39m__traceback__)\n\u001b[0;32m---> 67\u001b[0m   \u001b[38;5;28;01mraise\u001b[39;00m e\u001b[38;5;241m.\u001b[39mwith_traceback(filtered_tb) \u001b[38;5;28;01mfrom\u001b[39;00m \u001b[38;5;28mNone\u001b[39m\n\u001b[1;32m     68\u001b[0m \u001b[38;5;28;01mfinally\u001b[39;00m:\n\u001b[1;32m     69\u001b[0m   \u001b[38;5;28;01mdel\u001b[39;00m filtered_tb\n",
      "File \u001b[0;32m/usr/local/lib/python3.8/dist-packages/keras/engine/training.py:3160\u001b[0m, in \u001b[0;36mModel._assert_compile_was_called\u001b[0;34m(self)\u001b[0m\n\u001b[1;32m   3154\u001b[0m \u001b[38;5;28;01mdef\u001b[39;00m \u001b[38;5;21m_assert_compile_was_called\u001b[39m(\u001b[38;5;28mself\u001b[39m):\n\u001b[1;32m   3155\u001b[0m   \u001b[38;5;66;03m# Checks whether `compile` has been called. If it has been called,\u001b[39;00m\n\u001b[1;32m   3156\u001b[0m   \u001b[38;5;66;03m# then the optimizer is set. This is different from whether the\u001b[39;00m\n\u001b[1;32m   3157\u001b[0m   \u001b[38;5;66;03m# model is compiled\u001b[39;00m\n\u001b[1;32m   3158\u001b[0m   \u001b[38;5;66;03m# (i.e. whether the model is built and its inputs/outputs are set).\u001b[39;00m\n\u001b[1;32m   3159\u001b[0m   \u001b[38;5;28;01mif\u001b[39;00m \u001b[38;5;129;01mnot\u001b[39;00m \u001b[38;5;28mself\u001b[39m\u001b[38;5;241m.\u001b[39m_is_compiled:\n\u001b[0;32m-> 3160\u001b[0m     \u001b[38;5;28;01mraise\u001b[39;00m \u001b[38;5;167;01mRuntimeError\u001b[39;00m(\u001b[38;5;124m'\u001b[39m\u001b[38;5;124mYou must compile your model before \u001b[39m\u001b[38;5;124m'\u001b[39m\n\u001b[1;32m   3161\u001b[0m                        \u001b[38;5;124m'\u001b[39m\u001b[38;5;124mtraining/testing. \u001b[39m\u001b[38;5;124m'\u001b[39m\n\u001b[1;32m   3162\u001b[0m                        \u001b[38;5;124m'\u001b[39m\u001b[38;5;124mUse `model.compile(optimizer, loss)`.\u001b[39m\u001b[38;5;124m'\u001b[39m)\n",
      "\u001b[0;31mRuntimeError\u001b[0m: You must compile your model before training/testing. Use `model.compile(optimizer, loss)`."
     ]
    }
   ],
   "source": [
    "model = Sequential()\n",
    "model.add(Dense(2000, batch_input_shape=(None,4094),activation='relu'))\n",
    "model.add(Dense(1000, batch_input_shape=(None,4094),activation='relu'))\n",
    "model.add(Dense(100, batch_input_shape=(None,4094),activation='relu'))\n",
    "model.add(Dense(64, batch_input_shape=(None,4094),activation='relu'))\n",
    "model.add(Dense(23, activation=softmax))\n",
    "\n",
    "# Compile the model\n",
    "model.compile(optimizer='adam', loss='categorical_crossentropy', metrics=['accuracy'])\n",
    "\n",
    "# Train the model\n",
    "model.fit(X_train, y_train, epochs=200, batch_size=32)\n",
    "\n",
    "# Evaluate the model\n",
    "loss, accuracy = model.evaluate(X_test, y_test)\n",
    "\n",
    "# Make predictions\n",
    "#predictions = model.predict(X_new)"
   ]
  },
  {
   "cell_type": "code",
   "execution_count": 38,
   "id": "983b041e-a7de-4cfd-9da2-36c6fd797b21",
   "metadata": {},
   "outputs": [
    {
     "name": "stdout",
     "output_type": "stream",
     "text": [
      "Model: \"sequential_4\"\n",
      "_________________________________________________________________\n",
      " Layer (type)                Output Shape              Param #   \n",
      "=================================================================\n",
      " dense_11 (Dense)            (None, 2000)              8190000   \n",
      "                                                                 \n",
      " dense_12 (Dense)            (None, 1000)              2001000   \n",
      "                                                                 \n",
      " dense_13 (Dense)            (None, 100)               100100    \n",
      "                                                                 \n",
      " dense_14 (Dense)            (None, 64)                6464      \n",
      "                                                                 \n",
      " dense_15 (Dense)            (None, 23)                1495      \n",
      "                                                                 \n",
      "=================================================================\n",
      "Total params: 10,299,059\n",
      "Trainable params: 10,299,059\n",
      "Non-trainable params: 0\n",
      "_________________________________________________________________\n"
     ]
    }
   ],
   "source": [
    "#run_1, epoch=100\n",
    "model.summary()\n"
   ]
  },
  {
   "cell_type": "code",
   "execution_count": 40,
   "id": "MvPVgyo5JN0p",
   "metadata": {
    "id": "MvPVgyo5JN0p"
   },
   "outputs": [
    {
     "name": "stdout",
     "output_type": "stream",
     "text": [
      "271/271 [==============================] - 1s 3ms/step - loss: 3.1358 - accuracy: 0.0399\n"
     ]
    },
    {
     "data": {
      "text/plain": [
       "[3.135817289352417, 0.039852142333984375]"
      ]
     },
     "execution_count": 40,
     "metadata": {},
     "output_type": "execute_result"
    }
   ],
   "source": [
    "#run_1,epoch=100\n",
    "model.evaluate(X_val, y_val)"
   ]
  },
  {
   "cell_type": "code",
   "execution_count": 44,
   "id": "64bd5cd6-8776-4d6b-a789-2a8daf74a906",
   "metadata": {},
   "outputs": [
    {
     "name": "stdout",
     "output_type": "stream",
     "text": [
      "Model: \"sequential_5\"\n",
      "_________________________________________________________________\n",
      " Layer (type)                Output Shape              Param #   \n",
      "=================================================================\n",
      " dense_16 (Dense)            (None, 2000)              8190000   \n",
      "                                                                 \n",
      " dense_17 (Dense)            (None, 1000)              2001000   \n",
      "                                                                 \n",
      " dense_18 (Dense)            (None, 100)               100100    \n",
      "                                                                 \n",
      " dense_19 (Dense)            (None, 64)                6464      \n",
      "                                                                 \n",
      " dense_20 (Dense)            (None, 23)                1495      \n",
      "                                                                 \n",
      "=================================================================\n",
      "Total params: 10,299,059\n",
      "Trainable params: 10,299,059\n",
      "Non-trainable params: 0\n",
      "_________________________________________________________________\n"
     ]
    }
   ],
   "source": [
    "#run_2,epoch=200\n",
    "model.summary()"
   ]
  },
  {
   "cell_type": "code",
   "execution_count": 45,
   "id": "c89ab1a3-9034-41ef-a8c3-d29d4e922b41",
   "metadata": {},
   "outputs": [
    {
     "name": "stdout",
     "output_type": "stream",
     "text": [
      "271/271 [==============================] - 1s 2ms/step - loss: 3.1359 - accuracy: 0.0447\n"
     ]
    },
    {
     "data": {
      "text/plain": [
       "[3.135901689529419, 0.044703707098960876]"
      ]
     },
     "execution_count": 45,
     "metadata": {},
     "output_type": "execute_result"
    }
   ],
   "source": [
    "#run_2,epoch=00\n",
    "model.evaluate(X_val, y_val)"
   ]
  },
  {
   "cell_type": "code",
   "execution_count": 23,
   "id": "_AqNKjulI3q5",
   "metadata": {
    "colab": {
     "base_uri": "https://localhost:8080/"
    },
    "id": "_AqNKjulI3q5",
    "outputId": "c06dc5d5-4f2d-4baf-b63a-6ee3a8681d28"
   },
   "outputs": [
    {
     "data": {
      "text/plain": [
       "0.03846153989434242"
      ]
     },
     "execution_count": 23,
     "metadata": {},
     "output_type": "execute_result"
    }
   ],
   "source": [
    "accuracy"
   ]
  },
  {
   "cell_type": "code",
   "execution_count": 41,
   "id": "rD2i2A2ueRUl",
   "metadata": {
    "id": "rD2i2A2ueRUl"
   },
   "outputs": [
    {
     "name": "stdout",
     "output_type": "stream",
     "text": [
      "271/271 [==============================] - 1s 2ms/step\n"
     ]
    }
   ],
   "source": [
    "predictions = model.predict(X_val)"
   ]
  },
  {
   "cell_type": "code",
   "execution_count": 42,
   "id": "5-3vMpXWeTki",
   "metadata": {
    "id": "5-3vMpXWeTki"
   },
   "outputs": [
    {
     "data": {
      "text/plain": [
       "array([[0.04338201, 0.04357356, 0.04209119, ..., 0.0433329 , 0.04315581,\n",
       "        0.04352909],\n",
       "       [0.04338201, 0.04357356, 0.04209119, ..., 0.0433329 , 0.04315581,\n",
       "        0.04352909],\n",
       "       [0.04338201, 0.04357356, 0.04209119, ..., 0.0433329 , 0.04315581,\n",
       "        0.04352909],\n",
       "       ...,\n",
       "       [0.04338201, 0.04357356, 0.04209119, ..., 0.0433329 , 0.04315581,\n",
       "        0.04352909],\n",
       "       [0.04338201, 0.04357356, 0.04209119, ..., 0.0433329 , 0.04315581,\n",
       "        0.04352909],\n",
       "       [0.04338201, 0.04357356, 0.04209119, ..., 0.0433329 , 0.04315581,\n",
       "        0.04352909]], dtype=float32)"
      ]
     },
     "execution_count": 42,
     "metadata": {},
     "output_type": "execute_result"
    }
   ],
   "source": [
    "predictions"
   ]
  },
  {
   "cell_type": "code",
   "execution_count": 26,
   "id": "sphUq21HeTY9",
   "metadata": {
    "id": "sphUq21HeTY9"
   },
   "outputs": [
    {
     "data": {
      "text/html": [
       "<div>\n",
       "<style scoped>\n",
       "    .dataframe tbody tr th:only-of-type {\n",
       "        vertical-align: middle;\n",
       "    }\n",
       "\n",
       "    .dataframe tbody tr th {\n",
       "        vertical-align: top;\n",
       "    }\n",
       "\n",
       "    .dataframe thead th {\n",
       "        text-align: right;\n",
       "    }\n",
       "</style>\n",
       "<table border=\"1\" class=\"dataframe\">\n",
       "  <thead>\n",
       "    <tr style=\"text-align: right;\">\n",
       "      <th></th>\n",
       "      <th>0</th>\n",
       "      <th>1</th>\n",
       "      <th>2</th>\n",
       "      <th>3</th>\n",
       "      <th>4</th>\n",
       "      <th>5</th>\n",
       "      <th>6</th>\n",
       "      <th>7</th>\n",
       "      <th>8</th>\n",
       "      <th>9</th>\n",
       "      <th>...</th>\n",
       "      <th>13</th>\n",
       "      <th>14</th>\n",
       "      <th>15</th>\n",
       "      <th>16</th>\n",
       "      <th>17</th>\n",
       "      <th>18</th>\n",
       "      <th>19</th>\n",
       "      <th>20</th>\n",
       "      <th>21</th>\n",
       "      <th>22</th>\n",
       "    </tr>\n",
       "  </thead>\n",
       "  <tbody>\n",
       "    <tr>\n",
       "      <th>0</th>\n",
       "      <td>0.043275</td>\n",
       "      <td>0.043761</td>\n",
       "      <td>0.043767</td>\n",
       "      <td>0.043723</td>\n",
       "      <td>0.042358</td>\n",
       "      <td>0.044714</td>\n",
       "      <td>0.042812</td>\n",
       "      <td>0.042818</td>\n",
       "      <td>0.043668</td>\n",
       "      <td>0.043571</td>\n",
       "      <td>...</td>\n",
       "      <td>0.042979</td>\n",
       "      <td>0.04372</td>\n",
       "      <td>0.043844</td>\n",
       "      <td>0.044813</td>\n",
       "      <td>0.043182</td>\n",
       "      <td>0.043908</td>\n",
       "      <td>0.043096</td>\n",
       "      <td>0.0436</td>\n",
       "      <td>0.044138</td>\n",
       "      <td>0.042862</td>\n",
       "    </tr>\n",
       "    <tr>\n",
       "      <th>1</th>\n",
       "      <td>0.043275</td>\n",
       "      <td>0.043761</td>\n",
       "      <td>0.043767</td>\n",
       "      <td>0.043723</td>\n",
       "      <td>0.042358</td>\n",
       "      <td>0.044714</td>\n",
       "      <td>0.042812</td>\n",
       "      <td>0.042818</td>\n",
       "      <td>0.043668</td>\n",
       "      <td>0.043571</td>\n",
       "      <td>...</td>\n",
       "      <td>0.042979</td>\n",
       "      <td>0.04372</td>\n",
       "      <td>0.043844</td>\n",
       "      <td>0.044813</td>\n",
       "      <td>0.043182</td>\n",
       "      <td>0.043908</td>\n",
       "      <td>0.043096</td>\n",
       "      <td>0.0436</td>\n",
       "      <td>0.044138</td>\n",
       "      <td>0.042862</td>\n",
       "    </tr>\n",
       "    <tr>\n",
       "      <th>2</th>\n",
       "      <td>0.043275</td>\n",
       "      <td>0.043761</td>\n",
       "      <td>0.043767</td>\n",
       "      <td>0.043723</td>\n",
       "      <td>0.042358</td>\n",
       "      <td>0.044714</td>\n",
       "      <td>0.042812</td>\n",
       "      <td>0.042818</td>\n",
       "      <td>0.043668</td>\n",
       "      <td>0.043571</td>\n",
       "      <td>...</td>\n",
       "      <td>0.042979</td>\n",
       "      <td>0.04372</td>\n",
       "      <td>0.043844</td>\n",
       "      <td>0.044813</td>\n",
       "      <td>0.043182</td>\n",
       "      <td>0.043908</td>\n",
       "      <td>0.043096</td>\n",
       "      <td>0.0436</td>\n",
       "      <td>0.044138</td>\n",
       "      <td>0.042862</td>\n",
       "    </tr>\n",
       "    <tr>\n",
       "      <th>3</th>\n",
       "      <td>0.043275</td>\n",
       "      <td>0.043761</td>\n",
       "      <td>0.043767</td>\n",
       "      <td>0.043723</td>\n",
       "      <td>0.042358</td>\n",
       "      <td>0.044714</td>\n",
       "      <td>0.042812</td>\n",
       "      <td>0.042818</td>\n",
       "      <td>0.043668</td>\n",
       "      <td>0.043571</td>\n",
       "      <td>...</td>\n",
       "      <td>0.042979</td>\n",
       "      <td>0.04372</td>\n",
       "      <td>0.043844</td>\n",
       "      <td>0.044813</td>\n",
       "      <td>0.043182</td>\n",
       "      <td>0.043908</td>\n",
       "      <td>0.043096</td>\n",
       "      <td>0.0436</td>\n",
       "      <td>0.044138</td>\n",
       "      <td>0.042862</td>\n",
       "    </tr>\n",
       "    <tr>\n",
       "      <th>4</th>\n",
       "      <td>0.043275</td>\n",
       "      <td>0.043761</td>\n",
       "      <td>0.043767</td>\n",
       "      <td>0.043723</td>\n",
       "      <td>0.042358</td>\n",
       "      <td>0.044714</td>\n",
       "      <td>0.042812</td>\n",
       "      <td>0.042818</td>\n",
       "      <td>0.043668</td>\n",
       "      <td>0.043571</td>\n",
       "      <td>...</td>\n",
       "      <td>0.042979</td>\n",
       "      <td>0.04372</td>\n",
       "      <td>0.043844</td>\n",
       "      <td>0.044813</td>\n",
       "      <td>0.043182</td>\n",
       "      <td>0.043908</td>\n",
       "      <td>0.043096</td>\n",
       "      <td>0.0436</td>\n",
       "      <td>0.044138</td>\n",
       "      <td>0.042862</td>\n",
       "    </tr>\n",
       "    <tr>\n",
       "      <th>...</th>\n",
       "      <td>...</td>\n",
       "      <td>...</td>\n",
       "      <td>...</td>\n",
       "      <td>...</td>\n",
       "      <td>...</td>\n",
       "      <td>...</td>\n",
       "      <td>...</td>\n",
       "      <td>...</td>\n",
       "      <td>...</td>\n",
       "      <td>...</td>\n",
       "      <td>...</td>\n",
       "      <td>...</td>\n",
       "      <td>...</td>\n",
       "      <td>...</td>\n",
       "      <td>...</td>\n",
       "      <td>...</td>\n",
       "      <td>...</td>\n",
       "      <td>...</td>\n",
       "      <td>...</td>\n",
       "      <td>...</td>\n",
       "      <td>...</td>\n",
       "    </tr>\n",
       "    <tr>\n",
       "      <th>8652</th>\n",
       "      <td>0.043275</td>\n",
       "      <td>0.043761</td>\n",
       "      <td>0.043767</td>\n",
       "      <td>0.043723</td>\n",
       "      <td>0.042358</td>\n",
       "      <td>0.044714</td>\n",
       "      <td>0.042812</td>\n",
       "      <td>0.042818</td>\n",
       "      <td>0.043668</td>\n",
       "      <td>0.043571</td>\n",
       "      <td>...</td>\n",
       "      <td>0.042979</td>\n",
       "      <td>0.04372</td>\n",
       "      <td>0.043844</td>\n",
       "      <td>0.044813</td>\n",
       "      <td>0.043182</td>\n",
       "      <td>0.043908</td>\n",
       "      <td>0.043096</td>\n",
       "      <td>0.0436</td>\n",
       "      <td>0.044138</td>\n",
       "      <td>0.042862</td>\n",
       "    </tr>\n",
       "    <tr>\n",
       "      <th>8653</th>\n",
       "      <td>0.043275</td>\n",
       "      <td>0.043761</td>\n",
       "      <td>0.043767</td>\n",
       "      <td>0.043723</td>\n",
       "      <td>0.042358</td>\n",
       "      <td>0.044714</td>\n",
       "      <td>0.042812</td>\n",
       "      <td>0.042818</td>\n",
       "      <td>0.043668</td>\n",
       "      <td>0.043571</td>\n",
       "      <td>...</td>\n",
       "      <td>0.042979</td>\n",
       "      <td>0.04372</td>\n",
       "      <td>0.043844</td>\n",
       "      <td>0.044813</td>\n",
       "      <td>0.043182</td>\n",
       "      <td>0.043908</td>\n",
       "      <td>0.043096</td>\n",
       "      <td>0.0436</td>\n",
       "      <td>0.044138</td>\n",
       "      <td>0.042862</td>\n",
       "    </tr>\n",
       "    <tr>\n",
       "      <th>8654</th>\n",
       "      <td>0.043275</td>\n",
       "      <td>0.043761</td>\n",
       "      <td>0.043767</td>\n",
       "      <td>0.043723</td>\n",
       "      <td>0.042358</td>\n",
       "      <td>0.044714</td>\n",
       "      <td>0.042812</td>\n",
       "      <td>0.042818</td>\n",
       "      <td>0.043668</td>\n",
       "      <td>0.043571</td>\n",
       "      <td>...</td>\n",
       "      <td>0.042979</td>\n",
       "      <td>0.04372</td>\n",
       "      <td>0.043844</td>\n",
       "      <td>0.044813</td>\n",
       "      <td>0.043182</td>\n",
       "      <td>0.043908</td>\n",
       "      <td>0.043096</td>\n",
       "      <td>0.0436</td>\n",
       "      <td>0.044138</td>\n",
       "      <td>0.042862</td>\n",
       "    </tr>\n",
       "    <tr>\n",
       "      <th>8655</th>\n",
       "      <td>0.043275</td>\n",
       "      <td>0.043761</td>\n",
       "      <td>0.043767</td>\n",
       "      <td>0.043723</td>\n",
       "      <td>0.042358</td>\n",
       "      <td>0.044714</td>\n",
       "      <td>0.042812</td>\n",
       "      <td>0.042818</td>\n",
       "      <td>0.043668</td>\n",
       "      <td>0.043571</td>\n",
       "      <td>...</td>\n",
       "      <td>0.042979</td>\n",
       "      <td>0.04372</td>\n",
       "      <td>0.043844</td>\n",
       "      <td>0.044813</td>\n",
       "      <td>0.043182</td>\n",
       "      <td>0.043908</td>\n",
       "      <td>0.043096</td>\n",
       "      <td>0.0436</td>\n",
       "      <td>0.044138</td>\n",
       "      <td>0.042862</td>\n",
       "    </tr>\n",
       "    <tr>\n",
       "      <th>8656</th>\n",
       "      <td>0.043275</td>\n",
       "      <td>0.043761</td>\n",
       "      <td>0.043767</td>\n",
       "      <td>0.043723</td>\n",
       "      <td>0.042358</td>\n",
       "      <td>0.044714</td>\n",
       "      <td>0.042812</td>\n",
       "      <td>0.042818</td>\n",
       "      <td>0.043668</td>\n",
       "      <td>0.043571</td>\n",
       "      <td>...</td>\n",
       "      <td>0.042979</td>\n",
       "      <td>0.04372</td>\n",
       "      <td>0.043844</td>\n",
       "      <td>0.044813</td>\n",
       "      <td>0.043182</td>\n",
       "      <td>0.043908</td>\n",
       "      <td>0.043096</td>\n",
       "      <td>0.0436</td>\n",
       "      <td>0.044138</td>\n",
       "      <td>0.042862</td>\n",
       "    </tr>\n",
       "  </tbody>\n",
       "</table>\n",
       "<p>8657 rows × 23 columns</p>\n",
       "</div>"
      ],
      "text/plain": [
       "            0         1         2         3         4         5         6   \\\n",
       "0     0.043275  0.043761  0.043767  0.043723  0.042358  0.044714  0.042812   \n",
       "1     0.043275  0.043761  0.043767  0.043723  0.042358  0.044714  0.042812   \n",
       "2     0.043275  0.043761  0.043767  0.043723  0.042358  0.044714  0.042812   \n",
       "3     0.043275  0.043761  0.043767  0.043723  0.042358  0.044714  0.042812   \n",
       "4     0.043275  0.043761  0.043767  0.043723  0.042358  0.044714  0.042812   \n",
       "...        ...       ...       ...       ...       ...       ...       ...   \n",
       "8652  0.043275  0.043761  0.043767  0.043723  0.042358  0.044714  0.042812   \n",
       "8653  0.043275  0.043761  0.043767  0.043723  0.042358  0.044714  0.042812   \n",
       "8654  0.043275  0.043761  0.043767  0.043723  0.042358  0.044714  0.042812   \n",
       "8655  0.043275  0.043761  0.043767  0.043723  0.042358  0.044714  0.042812   \n",
       "8656  0.043275  0.043761  0.043767  0.043723  0.042358  0.044714  0.042812   \n",
       "\n",
       "            7         8         9   ...        13       14        15  \\\n",
       "0     0.042818  0.043668  0.043571  ...  0.042979  0.04372  0.043844   \n",
       "1     0.042818  0.043668  0.043571  ...  0.042979  0.04372  0.043844   \n",
       "2     0.042818  0.043668  0.043571  ...  0.042979  0.04372  0.043844   \n",
       "3     0.042818  0.043668  0.043571  ...  0.042979  0.04372  0.043844   \n",
       "4     0.042818  0.043668  0.043571  ...  0.042979  0.04372  0.043844   \n",
       "...        ...       ...       ...  ...       ...      ...       ...   \n",
       "8652  0.042818  0.043668  0.043571  ...  0.042979  0.04372  0.043844   \n",
       "8653  0.042818  0.043668  0.043571  ...  0.042979  0.04372  0.043844   \n",
       "8654  0.042818  0.043668  0.043571  ...  0.042979  0.04372  0.043844   \n",
       "8655  0.042818  0.043668  0.043571  ...  0.042979  0.04372  0.043844   \n",
       "8656  0.042818  0.043668  0.043571  ...  0.042979  0.04372  0.043844   \n",
       "\n",
       "            16        17        18        19      20        21        22  \n",
       "0     0.044813  0.043182  0.043908  0.043096  0.0436  0.044138  0.042862  \n",
       "1     0.044813  0.043182  0.043908  0.043096  0.0436  0.044138  0.042862  \n",
       "2     0.044813  0.043182  0.043908  0.043096  0.0436  0.044138  0.042862  \n",
       "3     0.044813  0.043182  0.043908  0.043096  0.0436  0.044138  0.042862  \n",
       "4     0.044813  0.043182  0.043908  0.043096  0.0436  0.044138  0.042862  \n",
       "...        ...       ...       ...       ...     ...       ...       ...  \n",
       "8652  0.044813  0.043182  0.043908  0.043096  0.0436  0.044138  0.042862  \n",
       "8653  0.044813  0.043182  0.043908  0.043096  0.0436  0.044138  0.042862  \n",
       "8654  0.044813  0.043182  0.043908  0.043096  0.0436  0.044138  0.042862  \n",
       "8655  0.044813  0.043182  0.043908  0.043096  0.0436  0.044138  0.042862  \n",
       "8656  0.044813  0.043182  0.043908  0.043096  0.0436  0.044138  0.042862  \n",
       "\n",
       "[8657 rows x 23 columns]"
      ]
     },
     "execution_count": 26,
     "metadata": {},
     "output_type": "execute_result"
    }
   ],
   "source": [
    "df_predictions = pd.DataFrame(predictions)\n",
    "df_predictions"
   ]
  },
  {
   "cell_type": "code",
   "execution_count": 27,
   "id": "N6wo5-p4eTVo",
   "metadata": {
    "id": "N6wo5-p4eTVo"
   },
   "outputs": [
    {
     "data": {
      "text/html": [
       "<div>\n",
       "<style scoped>\n",
       "    .dataframe tbody tr th:only-of-type {\n",
       "        vertical-align: middle;\n",
       "    }\n",
       "\n",
       "    .dataframe tbody tr th {\n",
       "        vertical-align: top;\n",
       "    }\n",
       "\n",
       "    .dataframe thead th {\n",
       "        text-align: right;\n",
       "    }\n",
       "</style>\n",
       "<table border=\"1\" class=\"dataframe\">\n",
       "  <thead>\n",
       "    <tr style=\"text-align: right;\">\n",
       "      <th></th>\n",
       "      <th>0</th>\n",
       "      <th>1</th>\n",
       "      <th>2</th>\n",
       "      <th>3</th>\n",
       "      <th>4</th>\n",
       "      <th>5</th>\n",
       "      <th>6</th>\n",
       "      <th>7</th>\n",
       "      <th>8</th>\n",
       "      <th>9</th>\n",
       "      <th>...</th>\n",
       "      <th>14</th>\n",
       "      <th>15</th>\n",
       "      <th>16</th>\n",
       "      <th>17</th>\n",
       "      <th>18</th>\n",
       "      <th>19</th>\n",
       "      <th>20</th>\n",
       "      <th>21</th>\n",
       "      <th>22</th>\n",
       "      <th>23</th>\n",
       "    </tr>\n",
       "  </thead>\n",
       "  <tbody>\n",
       "    <tr>\n",
       "      <th>51266</th>\n",
       "      <td>0.00</td>\n",
       "      <td>0.0</td>\n",
       "      <td>0.00</td>\n",
       "      <td>0.00</td>\n",
       "      <td>0.0</td>\n",
       "      <td>0.0</td>\n",
       "      <td>0.00</td>\n",
       "      <td>0.0</td>\n",
       "      <td>0.0</td>\n",
       "      <td>0.3</td>\n",
       "      <td>...</td>\n",
       "      <td>0.00</td>\n",
       "      <td>0.0</td>\n",
       "      <td>0.00</td>\n",
       "      <td>0.00</td>\n",
       "      <td>0.0</td>\n",
       "      <td>0.0</td>\n",
       "      <td>0.55</td>\n",
       "      <td>0.15</td>\n",
       "      <td>0.0</td>\n",
       "      <td>0.0</td>\n",
       "    </tr>\n",
       "    <tr>\n",
       "      <th>42571</th>\n",
       "      <td>0.00</td>\n",
       "      <td>0.0</td>\n",
       "      <td>0.00</td>\n",
       "      <td>0.00</td>\n",
       "      <td>0.0</td>\n",
       "      <td>0.8</td>\n",
       "      <td>0.10</td>\n",
       "      <td>0.1</td>\n",
       "      <td>0.0</td>\n",
       "      <td>0.0</td>\n",
       "      <td>...</td>\n",
       "      <td>0.00</td>\n",
       "      <td>0.0</td>\n",
       "      <td>0.00</td>\n",
       "      <td>0.00</td>\n",
       "      <td>0.0</td>\n",
       "      <td>0.0</td>\n",
       "      <td>0.00</td>\n",
       "      <td>0.00</td>\n",
       "      <td>0.0</td>\n",
       "      <td>0.0</td>\n",
       "    </tr>\n",
       "    <tr>\n",
       "      <th>13520</th>\n",
       "      <td>0.00</td>\n",
       "      <td>0.0</td>\n",
       "      <td>0.00</td>\n",
       "      <td>0.00</td>\n",
       "      <td>0.0</td>\n",
       "      <td>0.0</td>\n",
       "      <td>0.00</td>\n",
       "      <td>0.0</td>\n",
       "      <td>0.0</td>\n",
       "      <td>0.0</td>\n",
       "      <td>...</td>\n",
       "      <td>0.00</td>\n",
       "      <td>0.0</td>\n",
       "      <td>0.51</td>\n",
       "      <td>0.49</td>\n",
       "      <td>0.0</td>\n",
       "      <td>0.0</td>\n",
       "      <td>0.00</td>\n",
       "      <td>0.00</td>\n",
       "      <td>0.0</td>\n",
       "      <td>0.0</td>\n",
       "    </tr>\n",
       "    <tr>\n",
       "      <th>43763</th>\n",
       "      <td>0.10</td>\n",
       "      <td>0.0</td>\n",
       "      <td>0.00</td>\n",
       "      <td>0.00</td>\n",
       "      <td>0.0</td>\n",
       "      <td>0.0</td>\n",
       "      <td>0.00</td>\n",
       "      <td>0.0</td>\n",
       "      <td>0.0</td>\n",
       "      <td>0.0</td>\n",
       "      <td>...</td>\n",
       "      <td>0.00</td>\n",
       "      <td>0.8</td>\n",
       "      <td>0.00</td>\n",
       "      <td>0.00</td>\n",
       "      <td>0.0</td>\n",
       "      <td>0.0</td>\n",
       "      <td>0.00</td>\n",
       "      <td>0.00</td>\n",
       "      <td>0.1</td>\n",
       "      <td>0.0</td>\n",
       "    </tr>\n",
       "    <tr>\n",
       "      <th>44799</th>\n",
       "      <td>0.00</td>\n",
       "      <td>0.0</td>\n",
       "      <td>0.00</td>\n",
       "      <td>0.00</td>\n",
       "      <td>0.0</td>\n",
       "      <td>0.0</td>\n",
       "      <td>0.10</td>\n",
       "      <td>0.0</td>\n",
       "      <td>0.0</td>\n",
       "      <td>0.0</td>\n",
       "      <td>...</td>\n",
       "      <td>0.00</td>\n",
       "      <td>0.0</td>\n",
       "      <td>0.00</td>\n",
       "      <td>0.10</td>\n",
       "      <td>0.0</td>\n",
       "      <td>0.0</td>\n",
       "      <td>0.00</td>\n",
       "      <td>0.00</td>\n",
       "      <td>0.0</td>\n",
       "      <td>0.0</td>\n",
       "    </tr>\n",
       "    <tr>\n",
       "      <th>...</th>\n",
       "      <td>...</td>\n",
       "      <td>...</td>\n",
       "      <td>...</td>\n",
       "      <td>...</td>\n",
       "      <td>...</td>\n",
       "      <td>...</td>\n",
       "      <td>...</td>\n",
       "      <td>...</td>\n",
       "      <td>...</td>\n",
       "      <td>...</td>\n",
       "      <td>...</td>\n",
       "      <td>...</td>\n",
       "      <td>...</td>\n",
       "      <td>...</td>\n",
       "      <td>...</td>\n",
       "      <td>...</td>\n",
       "      <td>...</td>\n",
       "      <td>...</td>\n",
       "      <td>...</td>\n",
       "      <td>...</td>\n",
       "      <td>...</td>\n",
       "    </tr>\n",
       "    <tr>\n",
       "      <th>34905</th>\n",
       "      <td>0.00</td>\n",
       "      <td>0.0</td>\n",
       "      <td>0.00</td>\n",
       "      <td>0.00</td>\n",
       "      <td>0.0</td>\n",
       "      <td>0.0</td>\n",
       "      <td>0.00</td>\n",
       "      <td>0.0</td>\n",
       "      <td>0.4</td>\n",
       "      <td>0.0</td>\n",
       "      <td>...</td>\n",
       "      <td>0.00</td>\n",
       "      <td>0.0</td>\n",
       "      <td>0.00</td>\n",
       "      <td>0.00</td>\n",
       "      <td>0.2</td>\n",
       "      <td>0.0</td>\n",
       "      <td>0.00</td>\n",
       "      <td>0.00</td>\n",
       "      <td>0.0</td>\n",
       "      <td>0.0</td>\n",
       "    </tr>\n",
       "    <tr>\n",
       "      <th>28204</th>\n",
       "      <td>0.00</td>\n",
       "      <td>0.0</td>\n",
       "      <td>0.00</td>\n",
       "      <td>0.33</td>\n",
       "      <td>0.0</td>\n",
       "      <td>0.0</td>\n",
       "      <td>0.00</td>\n",
       "      <td>0.0</td>\n",
       "      <td>0.0</td>\n",
       "      <td>0.0</td>\n",
       "      <td>...</td>\n",
       "      <td>0.00</td>\n",
       "      <td>0.0</td>\n",
       "      <td>0.34</td>\n",
       "      <td>0.33</td>\n",
       "      <td>0.0</td>\n",
       "      <td>0.0</td>\n",
       "      <td>0.00</td>\n",
       "      <td>0.00</td>\n",
       "      <td>0.0</td>\n",
       "      <td>0.0</td>\n",
       "    </tr>\n",
       "    <tr>\n",
       "      <th>13273</th>\n",
       "      <td>0.51</td>\n",
       "      <td>0.0</td>\n",
       "      <td>0.49</td>\n",
       "      <td>0.00</td>\n",
       "      <td>0.0</td>\n",
       "      <td>0.0</td>\n",
       "      <td>0.00</td>\n",
       "      <td>0.0</td>\n",
       "      <td>0.0</td>\n",
       "      <td>0.0</td>\n",
       "      <td>...</td>\n",
       "      <td>0.00</td>\n",
       "      <td>0.0</td>\n",
       "      <td>0.00</td>\n",
       "      <td>0.00</td>\n",
       "      <td>0.0</td>\n",
       "      <td>0.0</td>\n",
       "      <td>0.00</td>\n",
       "      <td>0.00</td>\n",
       "      <td>0.0</td>\n",
       "      <td>0.0</td>\n",
       "    </tr>\n",
       "    <tr>\n",
       "      <th>44932</th>\n",
       "      <td>0.00</td>\n",
       "      <td>0.0</td>\n",
       "      <td>0.00</td>\n",
       "      <td>0.00</td>\n",
       "      <td>0.0</td>\n",
       "      <td>0.0</td>\n",
       "      <td>0.00</td>\n",
       "      <td>0.1</td>\n",
       "      <td>0.0</td>\n",
       "      <td>0.0</td>\n",
       "      <td>...</td>\n",
       "      <td>0.00</td>\n",
       "      <td>0.0</td>\n",
       "      <td>0.00</td>\n",
       "      <td>0.00</td>\n",
       "      <td>0.1</td>\n",
       "      <td>0.0</td>\n",
       "      <td>0.00</td>\n",
       "      <td>0.00</td>\n",
       "      <td>0.0</td>\n",
       "      <td>0.0</td>\n",
       "    </tr>\n",
       "    <tr>\n",
       "      <th>16990</th>\n",
       "      <td>0.00</td>\n",
       "      <td>0.0</td>\n",
       "      <td>0.00</td>\n",
       "      <td>0.00</td>\n",
       "      <td>0.0</td>\n",
       "      <td>0.0</td>\n",
       "      <td>0.38</td>\n",
       "      <td>0.0</td>\n",
       "      <td>0.0</td>\n",
       "      <td>0.0</td>\n",
       "      <td>...</td>\n",
       "      <td>0.62</td>\n",
       "      <td>0.0</td>\n",
       "      <td>0.00</td>\n",
       "      <td>0.00</td>\n",
       "      <td>0.0</td>\n",
       "      <td>0.0</td>\n",
       "      <td>0.00</td>\n",
       "      <td>0.00</td>\n",
       "      <td>0.0</td>\n",
       "      <td>0.0</td>\n",
       "    </tr>\n",
       "  </tbody>\n",
       "</table>\n",
       "<p>8657 rows × 23 columns</p>\n",
       "</div>"
      ],
      "text/plain": [
       "         0    1     2     3    4    5     6    7    8    9   ...    14   15  \\\n",
       "51266  0.00  0.0  0.00  0.00  0.0  0.0  0.00  0.0  0.0  0.3  ...  0.00  0.0   \n",
       "42571  0.00  0.0  0.00  0.00  0.0  0.8  0.10  0.1  0.0  0.0  ...  0.00  0.0   \n",
       "13520  0.00  0.0  0.00  0.00  0.0  0.0  0.00  0.0  0.0  0.0  ...  0.00  0.0   \n",
       "43763  0.10  0.0  0.00  0.00  0.0  0.0  0.00  0.0  0.0  0.0  ...  0.00  0.8   \n",
       "44799  0.00  0.0  0.00  0.00  0.0  0.0  0.10  0.0  0.0  0.0  ...  0.00  0.0   \n",
       "...     ...  ...   ...   ...  ...  ...   ...  ...  ...  ...  ...   ...  ...   \n",
       "34905  0.00  0.0  0.00  0.00  0.0  0.0  0.00  0.0  0.4  0.0  ...  0.00  0.0   \n",
       "28204  0.00  0.0  0.00  0.33  0.0  0.0  0.00  0.0  0.0  0.0  ...  0.00  0.0   \n",
       "13273  0.51  0.0  0.49  0.00  0.0  0.0  0.00  0.0  0.0  0.0  ...  0.00  0.0   \n",
       "44932  0.00  0.0  0.00  0.00  0.0  0.0  0.00  0.1  0.0  0.0  ...  0.00  0.0   \n",
       "16990  0.00  0.0  0.00  0.00  0.0  0.0  0.38  0.0  0.0  0.0  ...  0.62  0.0   \n",
       "\n",
       "         16    17   18   19    20    21   22   23  \n",
       "51266  0.00  0.00  0.0  0.0  0.55  0.15  0.0  0.0  \n",
       "42571  0.00  0.00  0.0  0.0  0.00  0.00  0.0  0.0  \n",
       "13520  0.51  0.49  0.0  0.0  0.00  0.00  0.0  0.0  \n",
       "43763  0.00  0.00  0.0  0.0  0.00  0.00  0.1  0.0  \n",
       "44799  0.00  0.10  0.0  0.0  0.00  0.00  0.0  0.0  \n",
       "...     ...   ...  ...  ...   ...   ...  ...  ...  \n",
       "34905  0.00  0.00  0.2  0.0  0.00  0.00  0.0  0.0  \n",
       "28204  0.34  0.33  0.0  0.0  0.00  0.00  0.0  0.0  \n",
       "13273  0.00  0.00  0.0  0.0  0.00  0.00  0.0  0.0  \n",
       "44932  0.00  0.00  0.1  0.0  0.00  0.00  0.0  0.0  \n",
       "16990  0.00  0.00  0.0  0.0  0.00  0.00  0.0  0.0  \n",
       "\n",
       "[8657 rows x 23 columns]"
      ]
     },
     "execution_count": 27,
     "metadata": {},
     "output_type": "execute_result"
    }
   ],
   "source": [
    "df_predictions_original = pd.DataFrame(y_val)\n",
    "df_predictions_original"
   ]
  },
  {
   "cell_type": "code",
   "execution_count": null,
   "id": "4B-6WEMveTSy",
   "metadata": {
    "id": "4B-6WEMveTSy"
   },
   "outputs": [],
   "source": []
  },
  {
   "cell_type": "code",
   "execution_count": null,
   "id": "W2yQIvXLeTPU",
   "metadata": {
    "id": "W2yQIvXLeTPU"
   },
   "outputs": [],
   "source": []
  },
  {
   "cell_type": "code",
   "execution_count": null,
   "id": "WnAiVfEXeTLx",
   "metadata": {
    "id": "WnAiVfEXeTLx"
   },
   "outputs": [],
   "source": []
  },
  {
   "cell_type": "code",
   "execution_count": null,
   "id": "gdoNCfn1eTHT",
   "metadata": {
    "id": "gdoNCfn1eTHT"
   },
   "outputs": [],
   "source": []
  },
  {
   "cell_type": "code",
   "execution_count": null,
   "id": "JH-OhNo7eTDQ",
   "metadata": {
    "id": "JH-OhNo7eTDQ"
   },
   "outputs": [],
   "source": []
  },
  {
   "cell_type": "code",
   "execution_count": null,
   "id": "icnzVqyXeS7D",
   "metadata": {
    "id": "icnzVqyXeS7D"
   },
   "outputs": [],
   "source": []
  },
  {
   "cell_type": "code",
   "execution_count": null,
   "id": "mMs-FsAyeSz8",
   "metadata": {
    "id": "mMs-FsAyeSz8"
   },
   "outputs": [],
   "source": []
  },
  {
   "cell_type": "code",
   "execution_count": 38,
   "id": "tLiTjm_tAdyp",
   "metadata": {
    "id": "tLiTjm_tAdyp"
   },
   "outputs": [],
   "source": [
    "# Compile the model\n",
    "def create_model(my_learning_rate):\n",
    "  \"\"\"Create and compile a deep neural net.\"\"\"\n",
    "  \n",
    "  # Define the model architecture\n",
    "  model = tf.keras.models.Sequential()\n",
    "  model.add(Dense(2000, batch_input_shape=(None,4094),activation='relu'))\n",
    "  model.add(Dense(1000, batch_input_shape=(None,4094),activation='relu'))\n",
    "  model.add(Dense(500, batch_input_shape=(None,4094),activation='relu'))\n",
    "  model.add(Dense(100, batch_input_shape=(None,4094),activation='relu'))  \n",
    "  model.add(Dense(64, batch_input_shape=(None,4094), activation='relu'))\n",
    "  model.add(Dense(23, activation=softmax))\n",
    "\n",
    "  # Compile the model\n",
    "  model.compile(optimizer=keras.optimizers.Adam(learning_rate=my_learning_rate), loss='categorical_crossentropy', metrics=['accuracy'])\n",
    "\n",
    "  return model "
   ]
  },
  {
   "cell_type": "code",
   "execution_count": 39,
   "id": "UA_eK136Advt",
   "metadata": {
    "id": "UA_eK136Advt"
   },
   "outputs": [],
   "source": [
    "# Train the model\n",
    "def train_model(model, train_features, train_label, epochs,\n",
    "                batch_size=None, validation_split=0.1):\n",
    "  \"\"\"Train the model by feeding it data.\"\"\"\n",
    "\n",
    "  history = model.fit(x=train_features, y=train_label, batch_size=batch_size,\n",
    "                      epochs=epochs, shuffle=True, \n",
    "                      validation_split=validation_split)\n",
    " \n",
    "  # To track the progression of training, gather a snapshot\n",
    "  # of the model's metrics at each epoch. \n",
    "  epochs = history.epoch\n",
    "  hist = pd.DataFrame(history.history)\n",
    "\n",
    "  return epochs, hist    "
   ]
  },
  {
   "cell_type": "code",
   "execution_count": 47,
   "id": "yIHf1AJ8GHrz",
   "metadata": {
    "id": "yIHf1AJ8GHrz"
   },
   "outputs": [],
   "source": [
    "# The following variables are the hyperparameters.\n",
    "learning_rate = 0.003\n",
    "epochs = 100\n",
    "batch_size = 100\n",
    "validation_split = 0.2\n"
   ]
  },
  {
   "cell_type": "code",
   "execution_count": 48,
   "id": "4uSp8JocGSG9",
   "metadata": {
    "id": "4uSp8JocGSG9"
   },
   "outputs": [
    {
     "name": "stdout",
     "output_type": "stream",
     "text": [
      "Epoch 1/100\n",
      "277/277 [==============================] - 4s 11ms/step - loss: 252232.5156 - accuracy: 0.1014 - val_loss: 3.1435 - val_accuracy: 0.0475\n",
      "Epoch 2/100\n",
      "277/277 [==============================] - 2s 6ms/step - loss: 3.1380 - accuracy: 0.0466 - val_loss: 3.1366 - val_accuracy: 0.0475\n",
      "Epoch 3/100\n",
      "277/277 [==============================] - 4s 13ms/step - loss: 3.1359 - accuracy: 0.0445 - val_loss: 3.1359 - val_accuracy: 0.0475\n",
      "Epoch 4/100\n",
      "277/277 [==============================] - 2s 7ms/step - loss: 3.1358 - accuracy: 0.0456 - val_loss: 3.1357 - val_accuracy: 0.0472\n",
      "Epoch 5/100\n",
      "277/277 [==============================] - 2s 6ms/step - loss: 3.1357 - accuracy: 0.0421 - val_loss: 3.1356 - val_accuracy: 0.0478\n",
      "Epoch 6/100\n",
      "277/277 [==============================] - 2s 6ms/step - loss: 3.1358 - accuracy: 0.0399 - val_loss: 3.1356 - val_accuracy: 0.0475\n",
      "Epoch 7/100\n",
      "277/277 [==============================] - 1s 5ms/step - loss: 3.1357 - accuracy: 0.0421 - val_loss: 3.1356 - val_accuracy: 0.0387\n",
      "Epoch 8/100\n",
      "277/277 [==============================] - 1s 5ms/step - loss: 3.1358 - accuracy: 0.0435 - val_loss: 3.1356 - val_accuracy: 0.0479\n",
      "Epoch 9/100\n",
      "277/277 [==============================] - 2s 5ms/step - loss: 3.1358 - accuracy: 0.0423 - val_loss: 3.1357 - val_accuracy: 0.0472\n",
      "Epoch 10/100\n",
      "277/277 [==============================] - 2s 5ms/step - loss: 3.1358 - accuracy: 0.0429 - val_loss: 3.1355 - val_accuracy: 0.0478\n",
      "Epoch 11/100\n",
      "277/277 [==============================] - 1s 5ms/step - loss: 3.1358 - accuracy: 0.0405 - val_loss: 3.1355 - val_accuracy: 0.0472\n",
      "Epoch 12/100\n",
      "277/277 [==============================] - 2s 5ms/step - loss: 3.1358 - accuracy: 0.0442 - val_loss: 3.1355 - val_accuracy: 0.0387\n",
      "Epoch 13/100\n",
      "277/277 [==============================] - 2s 5ms/step - loss: 3.1358 - accuracy: 0.0404 - val_loss: 3.1357 - val_accuracy: 0.0377\n",
      "Epoch 14/100\n",
      "277/277 [==============================] - 1s 5ms/step - loss: 3.1358 - accuracy: 0.0433 - val_loss: 3.1357 - val_accuracy: 0.0472\n",
      "Epoch 15/100\n",
      "277/277 [==============================] - 2s 5ms/step - loss: 3.1359 - accuracy: 0.0424 - val_loss: 3.1356 - val_accuracy: 0.0377\n",
      "Epoch 16/100\n",
      "277/277 [==============================] - 2s 6ms/step - loss: 3.1358 - accuracy: 0.0414 - val_loss: 3.1356 - val_accuracy: 0.0472\n",
      "Epoch 17/100\n",
      "277/277 [==============================] - 1s 5ms/step - loss: 3.1358 - accuracy: 0.0431 - val_loss: 3.1356 - val_accuracy: 0.0383\n",
      "Epoch 18/100\n",
      "277/277 [==============================] - 1s 5ms/step - loss: 3.1358 - accuracy: 0.0425 - val_loss: 3.1357 - val_accuracy: 0.0387\n",
      "Epoch 19/100\n",
      "277/277 [==============================] - 1s 5ms/step - loss: 3.1358 - accuracy: 0.0416 - val_loss: 3.1356 - val_accuracy: 0.0484\n",
      "Epoch 20/100\n",
      "277/277 [==============================] - 1s 5ms/step - loss: 3.1359 - accuracy: 0.0432 - val_loss: 3.1355 - val_accuracy: 0.0484\n",
      "Epoch 21/100\n",
      "277/277 [==============================] - 1s 5ms/step - loss: 3.1359 - accuracy: 0.0389 - val_loss: 3.1356 - val_accuracy: 0.0458\n",
      "Epoch 22/100\n",
      "277/277 [==============================] - 1s 5ms/step - loss: 3.1358 - accuracy: 0.0451 - val_loss: 3.1356 - val_accuracy: 0.0484\n",
      "Epoch 23/100\n",
      "277/277 [==============================] - 1s 5ms/step - loss: 3.1358 - accuracy: 0.0404 - val_loss: 3.1356 - val_accuracy: 0.0472\n",
      "Epoch 24/100\n",
      "277/277 [==============================] - 1s 5ms/step - loss: 3.1358 - accuracy: 0.0435 - val_loss: 3.1355 - val_accuracy: 0.0433\n",
      "Epoch 25/100\n",
      "277/277 [==============================] - 2s 5ms/step - loss: 3.1358 - accuracy: 0.0427 - val_loss: 3.1357 - val_accuracy: 0.0433\n",
      "Epoch 26/100\n",
      "277/277 [==============================] - 1s 5ms/step - loss: 3.1358 - accuracy: 0.0405 - val_loss: 3.1357 - val_accuracy: 0.0484\n",
      "Epoch 27/100\n",
      "277/277 [==============================] - 1s 5ms/step - loss: 3.1359 - accuracy: 0.0405 - val_loss: 3.1356 - val_accuracy: 0.0448\n",
      "Epoch 28/100\n",
      "277/277 [==============================] - 1s 5ms/step - loss: 3.1359 - accuracy: 0.0437 - val_loss: 3.1356 - val_accuracy: 0.0383\n",
      "Epoch 29/100\n",
      "277/277 [==============================] - 1s 5ms/step - loss: 3.1358 - accuracy: 0.0400 - val_loss: 3.1359 - val_accuracy: 0.0377\n",
      "Epoch 30/100\n",
      "277/277 [==============================] - 1s 5ms/step - loss: 3.1358 - accuracy: 0.0413 - val_loss: 3.1357 - val_accuracy: 0.0387\n",
      "Epoch 31/100\n",
      "277/277 [==============================] - 1s 5ms/step - loss: 3.1358 - accuracy: 0.0410 - val_loss: 3.1356 - val_accuracy: 0.0458\n",
      "Epoch 32/100\n",
      "277/277 [==============================] - 1s 5ms/step - loss: 3.1358 - accuracy: 0.0415 - val_loss: 3.1355 - val_accuracy: 0.0448\n",
      "Epoch 33/100\n",
      "277/277 [==============================] - 2s 5ms/step - loss: 3.1358 - accuracy: 0.0432 - val_loss: 3.1357 - val_accuracy: 0.0387\n",
      "Epoch 34/100\n",
      "277/277 [==============================] - 1s 5ms/step - loss: 3.1358 - accuracy: 0.0400 - val_loss: 3.1355 - val_accuracy: 0.0422\n",
      "Epoch 35/100\n",
      "277/277 [==============================] - 1s 5ms/step - loss: 3.1357 - accuracy: 0.0436 - val_loss: 3.1357 - val_accuracy: 0.0448\n",
      "Epoch 36/100\n",
      "277/277 [==============================] - 1s 5ms/step - loss: 3.1358 - accuracy: 0.0455 - val_loss: 3.1356 - val_accuracy: 0.0377\n",
      "Epoch 37/100\n",
      "277/277 [==============================] - 1s 5ms/step - loss: 3.1358 - accuracy: 0.0391 - val_loss: 3.1355 - val_accuracy: 0.0458\n",
      "Epoch 38/100\n",
      "277/277 [==============================] - 1s 5ms/step - loss: 3.1359 - accuracy: 0.0407 - val_loss: 3.1356 - val_accuracy: 0.0423\n",
      "Epoch 39/100\n",
      "277/277 [==============================] - 1s 5ms/step - loss: 3.1358 - accuracy: 0.0438 - val_loss: 3.1355 - val_accuracy: 0.0377\n",
      "Epoch 40/100\n",
      "277/277 [==============================] - 1s 5ms/step - loss: 3.1359 - accuracy: 0.0389 - val_loss: 3.1357 - val_accuracy: 0.0458\n",
      "Epoch 41/100\n",
      "277/277 [==============================] - 1s 5ms/step - loss: 3.1358 - accuracy: 0.0423 - val_loss: 3.1356 - val_accuracy: 0.0387\n",
      "Epoch 42/100\n",
      "277/277 [==============================] - 1s 5ms/step - loss: 3.1359 - accuracy: 0.0429 - val_loss: 3.1357 - val_accuracy: 0.0377\n",
      "Epoch 43/100\n",
      "277/277 [==============================] - 1s 5ms/step - loss: 3.1359 - accuracy: 0.0418 - val_loss: 3.1357 - val_accuracy: 0.0458\n",
      "Epoch 44/100\n",
      "277/277 [==============================] - 1s 5ms/step - loss: 3.1358 - accuracy: 0.0439 - val_loss: 3.1356 - val_accuracy: 0.0383\n",
      "Epoch 45/100\n",
      "277/277 [==============================] - 1s 5ms/step - loss: 3.1358 - accuracy: 0.0445 - val_loss: 3.1355 - val_accuracy: 0.0383\n",
      "Epoch 46/100\n",
      "277/277 [==============================] - 1s 5ms/step - loss: 3.1358 - accuracy: 0.0409 - val_loss: 3.1358 - val_accuracy: 0.0448\n",
      "Epoch 47/100\n",
      "277/277 [==============================] - 1s 5ms/step - loss: 3.1358 - accuracy: 0.0448 - val_loss: 3.1357 - val_accuracy: 0.0377\n",
      "Epoch 48/100\n",
      "277/277 [==============================] - 1s 5ms/step - loss: 3.1358 - accuracy: 0.0424 - val_loss: 3.1356 - val_accuracy: 0.0475\n",
      "Epoch 49/100\n",
      "277/277 [==============================] - 1s 5ms/step - loss: 3.1358 - accuracy: 0.0396 - val_loss: 3.1356 - val_accuracy: 0.0383\n",
      "Epoch 50/100\n",
      "277/277 [==============================] - 1s 5ms/step - loss: 3.1359 - accuracy: 0.0408 - val_loss: 3.1355 - val_accuracy: 0.0478\n",
      "Epoch 51/100\n",
      "277/277 [==============================] - 1s 5ms/step - loss: 3.1358 - accuracy: 0.0422 - val_loss: 3.1356 - val_accuracy: 0.0458\n",
      "Epoch 52/100\n",
      "277/277 [==============================] - 1s 5ms/step - loss: 3.1359 - accuracy: 0.0419 - val_loss: 3.1354 - val_accuracy: 0.0472\n",
      "Epoch 53/100\n",
      "277/277 [==============================] - 1s 5ms/step - loss: 3.1358 - accuracy: 0.0400 - val_loss: 3.1356 - val_accuracy: 0.0433\n",
      "Epoch 54/100\n",
      "277/277 [==============================] - 1s 4ms/step - loss: 3.1359 - accuracy: 0.0436 - val_loss: 3.1358 - val_accuracy: 0.0432\n",
      "Epoch 55/100\n",
      "277/277 [==============================] - 1s 4ms/step - loss: 3.1359 - accuracy: 0.0415 - val_loss: 3.1356 - val_accuracy: 0.0377\n",
      "Epoch 56/100\n",
      "277/277 [==============================] - 1s 5ms/step - loss: 3.1358 - accuracy: 0.0404 - val_loss: 3.1356 - val_accuracy: 0.0423\n",
      "Epoch 57/100\n",
      "277/277 [==============================] - 1s 5ms/step - loss: 3.1359 - accuracy: 0.0416 - val_loss: 3.1357 - val_accuracy: 0.0433\n",
      "Epoch 58/100\n",
      "277/277 [==============================] - 1s 5ms/step - loss: 3.1358 - accuracy: 0.0429 - val_loss: 3.1357 - val_accuracy: 0.0455\n",
      "Epoch 59/100\n",
      "277/277 [==============================] - 1s 5ms/step - loss: 3.1358 - accuracy: 0.0420 - val_loss: 3.1355 - val_accuracy: 0.0448\n",
      "Epoch 60/100\n",
      "277/277 [==============================] - 1s 5ms/step - loss: 3.1359 - accuracy: 0.0440 - val_loss: 3.1356 - val_accuracy: 0.0478\n",
      "Epoch 61/100\n",
      "277/277 [==============================] - 1s 5ms/step - loss: 3.1357 - accuracy: 0.0450 - val_loss: 3.1357 - val_accuracy: 0.0472\n",
      "Epoch 62/100\n",
      "277/277 [==============================] - 1s 5ms/step - loss: 3.1358 - accuracy: 0.0406 - val_loss: 3.1357 - val_accuracy: 0.0478\n",
      "Epoch 63/100\n",
      "277/277 [==============================] - 1s 5ms/step - loss: 3.1358 - accuracy: 0.0421 - val_loss: 3.1357 - val_accuracy: 0.0377\n",
      "Epoch 64/100\n",
      "277/277 [==============================] - 1s 5ms/step - loss: 3.1358 - accuracy: 0.0421 - val_loss: 3.1355 - val_accuracy: 0.0478\n",
      "Epoch 65/100\n",
      "277/277 [==============================] - 1s 5ms/step - loss: 3.1358 - accuracy: 0.0397 - val_loss: 3.1357 - val_accuracy: 0.0484\n",
      "Epoch 66/100\n",
      "277/277 [==============================] - 1s 5ms/step - loss: 3.1359 - accuracy: 0.0427 - val_loss: 3.1356 - val_accuracy: 0.0423\n",
      "Epoch 67/100\n",
      "277/277 [==============================] - 1s 5ms/step - loss: 3.1358 - accuracy: 0.0413 - val_loss: 3.1356 - val_accuracy: 0.0448\n",
      "Epoch 68/100\n",
      "277/277 [==============================] - 1s 5ms/step - loss: 3.1358 - accuracy: 0.0422 - val_loss: 3.1357 - val_accuracy: 0.0422\n",
      "Epoch 69/100\n",
      "277/277 [==============================] - 1s 5ms/step - loss: 3.1359 - accuracy: 0.0412 - val_loss: 3.1355 - val_accuracy: 0.0458\n",
      "Epoch 70/100\n",
      "277/277 [==============================] - 1s 5ms/step - loss: 3.1358 - accuracy: 0.0418 - val_loss: 3.1357 - val_accuracy: 0.0383\n",
      "Epoch 71/100\n",
      "277/277 [==============================] - 1s 5ms/step - loss: 3.1358 - accuracy: 0.0417 - val_loss: 3.1357 - val_accuracy: 0.0383\n",
      "Epoch 72/100\n",
      "277/277 [==============================] - 1s 5ms/step - loss: 3.1358 - accuracy: 0.0435 - val_loss: 3.1357 - val_accuracy: 0.0458\n",
      "Epoch 73/100\n",
      "277/277 [==============================] - 1s 5ms/step - loss: 3.1359 - accuracy: 0.0415 - val_loss: 3.1355 - val_accuracy: 0.0458\n",
      "Epoch 74/100\n",
      "277/277 [==============================] - 1s 5ms/step - loss: 3.1358 - accuracy: 0.0400 - val_loss: 3.1357 - val_accuracy: 0.0472\n",
      "Epoch 75/100\n",
      "277/277 [==============================] - 2s 6ms/step - loss: 3.1358 - accuracy: 0.0467 - val_loss: 3.1356 - val_accuracy: 0.0458\n",
      "Epoch 76/100\n",
      "277/277 [==============================] - 1s 5ms/step - loss: 3.1358 - accuracy: 0.0404 - val_loss: 3.1357 - val_accuracy: 0.0475\n",
      "Epoch 77/100\n",
      "277/277 [==============================] - 1s 5ms/step - loss: 3.1358 - accuracy: 0.0422 - val_loss: 3.1358 - val_accuracy: 0.0422\n",
      "Epoch 78/100\n",
      "277/277 [==============================] - 1s 5ms/step - loss: 3.1358 - accuracy: 0.0429 - val_loss: 3.1356 - val_accuracy: 0.0479\n",
      "Epoch 79/100\n",
      "277/277 [==============================] - 1s 5ms/step - loss: 3.1358 - accuracy: 0.0411 - val_loss: 3.1357 - val_accuracy: 0.0479\n",
      "Epoch 80/100\n",
      "277/277 [==============================] - 1s 5ms/step - loss: 3.1358 - accuracy: 0.0414 - val_loss: 3.1356 - val_accuracy: 0.0387\n",
      "Epoch 81/100\n",
      "277/277 [==============================] - 1s 5ms/step - loss: 3.1358 - accuracy: 0.0422 - val_loss: 3.1358 - val_accuracy: 0.0458\n",
      "Epoch 82/100\n",
      "277/277 [==============================] - 1s 5ms/step - loss: 3.1358 - accuracy: 0.0450 - val_loss: 3.1357 - val_accuracy: 0.0377\n",
      "Epoch 83/100\n",
      "277/277 [==============================] - 1s 5ms/step - loss: 3.1358 - accuracy: 0.0416 - val_loss: 3.1356 - val_accuracy: 0.0472\n",
      "Epoch 84/100\n",
      "277/277 [==============================] - 1s 5ms/step - loss: 3.1358 - accuracy: 0.0421 - val_loss: 3.1356 - val_accuracy: 0.0377\n",
      "Epoch 85/100\n",
      "277/277 [==============================] - 1s 5ms/step - loss: 3.1358 - accuracy: 0.0416 - val_loss: 3.1356 - val_accuracy: 0.0387\n",
      "Epoch 86/100\n",
      "277/277 [==============================] - 1s 5ms/step - loss: 3.1358 - accuracy: 0.0399 - val_loss: 3.1356 - val_accuracy: 0.0448\n",
      "Epoch 87/100\n",
      "277/277 [==============================] - 1s 5ms/step - loss: 3.1358 - accuracy: 0.0409 - val_loss: 3.1357 - val_accuracy: 0.0432\n",
      "Epoch 88/100\n",
      "277/277 [==============================] - 1s 5ms/step - loss: 3.1359 - accuracy: 0.0396 - val_loss: 3.1357 - val_accuracy: 0.0377\n",
      "Epoch 89/100\n",
      "277/277 [==============================] - 1s 5ms/step - loss: 3.1358 - accuracy: 0.0419 - val_loss: 3.1356 - val_accuracy: 0.0472\n",
      "Epoch 90/100\n",
      "277/277 [==============================] - 1s 5ms/step - loss: 3.1359 - accuracy: 0.0430 - val_loss: 3.1355 - val_accuracy: 0.0423\n",
      "Epoch 91/100\n",
      "277/277 [==============================] - 2s 5ms/step - loss: 3.1358 - accuracy: 0.0406 - val_loss: 3.1356 - val_accuracy: 0.0433\n",
      "Epoch 92/100\n",
      "277/277 [==============================] - 2s 5ms/step - loss: 3.1358 - accuracy: 0.0419 - val_loss: 3.1356 - val_accuracy: 0.0478\n",
      "Epoch 93/100\n",
      "277/277 [==============================] - 1s 5ms/step - loss: 3.1359 - accuracy: 0.0403 - val_loss: 3.1356 - val_accuracy: 0.0472\n",
      "Epoch 94/100\n",
      "277/277 [==============================] - 2s 6ms/step - loss: 3.1358 - accuracy: 0.0441 - val_loss: 3.1356 - val_accuracy: 0.0472\n",
      "Epoch 95/100\n",
      "277/277 [==============================] - 1s 5ms/step - loss: 3.1358 - accuracy: 0.0439 - val_loss: 3.1357 - val_accuracy: 0.0377\n",
      "Epoch 96/100\n",
      "277/277 [==============================] - 1s 5ms/step - loss: 3.1358 - accuracy: 0.0418 - val_loss: 3.1356 - val_accuracy: 0.0458\n",
      "Epoch 97/100\n",
      "277/277 [==============================] - 1s 5ms/step - loss: 3.1359 - accuracy: 0.0420 - val_loss: 3.1355 - val_accuracy: 0.0472\n",
      "Epoch 98/100\n",
      "277/277 [==============================] - 1s 5ms/step - loss: 3.1358 - accuracy: 0.0473 - val_loss: 3.1356 - val_accuracy: 0.0448\n",
      "Epoch 99/100\n",
      "277/277 [==============================] - 1s 5ms/step - loss: 3.1358 - accuracy: 0.0401 - val_loss: 3.1356 - val_accuracy: 0.0478\n",
      "Epoch 100/100\n",
      "277/277 [==============================] - 2s 5ms/step - loss: 3.1358 - accuracy: 0.0419 - val_loss: 3.1355 - val_accuracy: 0.0458\n"
     ]
    }
   ],
   "source": [
    "# Establish the model's topography.\n",
    "my_model = create_model(learning_rate)\n",
    "\n",
    "# Train the model on the normalized training set.\n",
    "epochs, hist = train_model(my_model, X_train, y_train, \n",
    "                           epochs, batch_size, validation_split)"
   ]
  },
  {
   "cell_type": "code",
   "execution_count": 49,
   "id": "9cfb1f43-42a9-47be-8166-f1decf21bd4c",
   "metadata": {},
   "outputs": [
    {
     "name": "stdout",
     "output_type": "stream",
     "text": [
      "Model: \"sequential\"\n",
      "_________________________________________________________________\n",
      " Layer (type)                Output Shape              Param #   \n",
      "=================================================================\n",
      " dense (Dense)               (None, 2000)              8190000   \n",
      "                                                                 \n",
      " dense_1 (Dense)             (None, 1000)              2001000   \n",
      "                                                                 \n",
      " dense_2 (Dense)             (None, 100)               100100    \n",
      "                                                                 \n",
      " dense_3 (Dense)             (None, 64)                6464      \n",
      "                                                                 \n",
      " dense_4 (Dense)             (None, 23)                1495      \n",
      "                                                                 \n",
      "=================================================================\n",
      "Total params: 10,299,059\n",
      "Trainable params: 10,299,059\n",
      "Non-trainable params: 0\n",
      "_________________________________________________________________\n"
     ]
    }
   ],
   "source": [
    "model.summary()"
   ]
  },
  {
   "cell_type": "code",
   "execution_count": 50,
   "id": "sZGHjrERpsjz",
   "metadata": {
    "id": "sZGHjrERpsjz"
   },
   "outputs": [],
   "source": [
    "from matplotlib import pyplot as plt"
   ]
  },
  {
   "cell_type": "code",
   "execution_count": 51,
   "id": "Q5an6h9_qCqi",
   "metadata": {
    "colab": {
     "base_uri": "https://localhost:8080/"
    },
    "id": "Q5an6h9_qCqi",
    "outputId": "709c64c3-5ef0-4c6b-b078-7f1408cb0766"
   },
   "outputs": [
    {
     "name": "stdout",
     "output_type": "stream",
     "text": [
      "Loaded the plot_curve function.\n"
     ]
    }
   ],
   "source": [
    "#@title Define the plotting function\n",
    "def plot_curve(epochs, hist, list_of_metrics):\n",
    "  \"\"\"Plot a curve of one or more classification metrics vs. epoch.\"\"\"  \n",
    "  # list_of_metrics should be one of the names shown in:\n",
    "  # https://www.tensorflow.org/tutorials/structured_data/imbalanced_data#define_the_model_and_metrics  \n",
    "\n",
    "  plt.figure()\n",
    "  plt.xlabel(\"Epoch\")\n",
    "  plt.ylabel(\"Value\")\n",
    "\n",
    "  for m in list_of_metrics:\n",
    "    x = hist[m]\n",
    "    plt.plot(epochs[1:], x[1:], label=m)\n",
    "\n",
    "  plt.legend()\n",
    "\n",
    "print(\"Loaded the plot_curve function.\")"
   ]
  },
  {
   "cell_type": "code",
   "execution_count": 52,
   "id": "pb8Z7hXbGgvb",
   "metadata": {
    "colab": {
     "base_uri": "https://localhost:8080/",
     "height": 279
    },
    "id": "pb8Z7hXbGgvb",
    "outputId": "4a940fd4-b6da-4aad-cb0d-21eed4c2ccb3"
   },
   "outputs": [
    {
     "data": {
      "image/png": "[encoded data removed]",
      "text/plain": [
       "<Figure size 640x480 with 1 Axes>"
      ]
     },
     "metadata": {},
     "output_type": "display_data"
    }
   ],
   "source": [
    "# Plot a graph of the metric vs. epochs.\n",
    "list_of_metrics_to_plot = ['accuracy']\n",
    "plot_curve(epochs, hist, list_of_metrics_to_plot)"
   ]
  },
  {
   "cell_type": "code",
   "execution_count": null,
   "id": "9S7hBCGVGljL",
   "metadata": {
    "id": "9S7hBCGVGljL"
   },
   "outputs": [],
   "source": [
    "# Evaluate against the test set.\n",
    "print(\"\\n Evaluate the new model against the test set:\")\n",
    "my_model.evaluate(x=X_test, y=y_test, batch_size=batch_size)"
   ]
  },
  {
   "cell_type": "code",
   "execution_count": 35,
   "id": "hgfnluiPAdsr",
   "metadata": {
    "id": "hgfnluiPAdsr"
   },
   "outputs": [
    {
     "name": "stdout",
     "output_type": "stream",
     "text": [
      "10/10 [==============================] - 0s 6ms/step - loss: 3.1342 - accuracy: 0.0385\n"
     ]
    }
   ],
   "source": [
    "# Evaluate the model\n",
    "loss, accuracy = model.evaluate(X_test, y_test,batch_size=batch_size)\n"
   ]
  },
  {
   "cell_type": "code",
   "execution_count": null,
   "id": "-spliFT-AdpZ",
   "metadata": {
    "colab": {
     "base_uri": "https://localhost:8080/",
     "height": 183
    },
    "id": "-spliFT-AdpZ",
    "outputId": "18db285f-3ee9-406e-8852-146d801b594e"
   },
   "outputs": [
    {
     "ename": "NameError",
     "evalue": "ignored",
     "output_type": "error",
     "traceback": [
      "\u001b[0;31m---------------------------------------------------------------------------\u001b[0m",
      "\u001b[0;31mNameError\u001b[0m                                 Traceback (most recent call last)",
      "\u001b[0;32m<ipython-input-22-dced103f8341>\u001b[0m in \u001b[0;36m<module>\u001b[0;34m\u001b[0m\n\u001b[1;32m      1\u001b[0m \u001b[0;31m# Make predictions\u001b[0m\u001b[0;34m\u001b[0m\u001b[0;34m\u001b[0m\u001b[0m\n\u001b[0;32m----> 2\u001b[0;31m \u001b[0mpredictions\u001b[0m \u001b[0;34m=\u001b[0m \u001b[0mmodel\u001b[0m\u001b[0;34m.\u001b[0m\u001b[0mpredict\u001b[0m\u001b[0;34m(\u001b[0m\u001b[0mX_new\u001b[0m\u001b[0;34m)\u001b[0m\u001b[0;34m\u001b[0m\u001b[0;34m\u001b[0m\u001b[0m\n\u001b[0m",
      "\u001b[0;31mNameError\u001b[0m: name 'X_new' is not defined"
     ]
    }
   ],
   "source": [
    "# Make predictions\n",
    "predictions = model.predict(X_new)"
   ]
  },
  {
   "cell_type": "code",
   "execution_count": null,
   "id": "EH1-tYj7Adke",
   "metadata": {
    "id": "EH1-tYj7Adke"
   },
   "outputs": [],
   "source": []
  },
  {
   "cell_type": "code",
   "execution_count": null,
   "id": "Z8M4LzYzAdg_",
   "metadata": {
    "id": "Z8M4LzYzAdg_"
   },
   "outputs": [],
   "source": []
  },
  {
   "cell_type": "code",
   "execution_count": null,
   "id": "PndgfAl1AdeG",
   "metadata": {
    "id": "PndgfAl1AdeG"
   },
   "outputs": [],
   "source": []
  },
  {
   "cell_type": "code",
   "execution_count": null,
   "id": "sKtYlYisAdby",
   "metadata": {
    "id": "sKtYlYisAdby"
   },
   "outputs": [],
   "source": [
    "ailab.samk.fi:2291"
   ]
  },
  {
   "cell_type": "code",
   "execution_count": null,
   "id": "vXE39S40AdYx",
   "metadata": {
    "id": "vXE39S40AdYx"
   },
   "outputs": [],
   "source": []
  },
  {
   "cell_type": "code",
   "execution_count": null,
   "id": "BRoYXJfBAdVq",
   "metadata": {
    "id": "BRoYXJfBAdVq"
   },
   "outputs": [],
   "source": []
  },
  {
   "cell_type": "code",
   "execution_count": null,
   "id": "Sgyyho_OAdSg",
   "metadata": {
    "id": "Sgyyho_OAdSg"
   },
   "outputs": [],
   "source": []
  },
  {
   "cell_type": "code",
   "execution_count": null,
   "id": "yen9Y3S7AdLo",
   "metadata": {
    "id": "yen9Y3S7AdLo"
   },
   "outputs": [],
   "source": []
  },
  {
   "cell_type": "code",
   "execution_count": null,
   "id": "Tnn6nvY0Ac9u",
   "metadata": {
    "id": "Tnn6nvY0Ac9u"
   },
   "outputs": [],
   "source": []
  },
  {
   "cell_type": "code",
   "execution_count": null,
   "id": "Y7XyDXkOnchj",
   "metadata": {
    "id": "Y7XyDXkOnchj"
   },
   "outputs": [],
   "source": [
    "gas=rows_gas.index\n",
    "gas"
   ]
  },
  {
   "cell_type": "code",
   "execution_count": null,
   "id": "U6M628MZZFXH",
   "metadata": {
    "id": "U6M628MZZFXH"
   },
   "outputs": [],
   "source": [
    "df_labels_list.head(-1)"
   ]
  },
  {
   "cell_type": "code",
   "execution_count": null,
   "id": "LJWVhy95ajZO",
   "metadata": {
    "id": "LJWVhy95ajZO"
   },
   "outputs": [],
   "source": [
    "df_labels_list.sum(axis=1)"
   ]
  },
  {
   "cell_type": "code",
   "execution_count": null,
   "id": "tkGvuZvvCLbj",
   "metadata": {
    "id": "tkGvuZvvCLbj"
   },
   "outputs": [],
   "source": [
    "len(labels_list)"
   ]
  },
  {
   "cell_type": "code",
   "execution_count": null,
   "id": "inASsfqfqKLL",
   "metadata": {
    "id": "inASsfqfqKLL"
   },
   "outputs": [],
   "source": [
    "from sklearn.decomposition import PCA"
   ]
  },
  {
   "cell_type": "code",
   "execution_count": null,
   "id": "nx8OvbGPmCRv",
   "metadata": {
    "id": "nx8OvbGPmCRv"
   },
   "outputs": [],
   "source": [
    "# Scale data before applying PCA\n",
    "scaling=StandardScaler()\n",
    "\n",
    "# Use fit and transform method\n",
    "scaling.fit(df_wavelengths)\n",
    "Scaled_data=scaling.transform(df_wavelengths)\n"
   ]
  },
  {
   "cell_type": "code",
   "execution_count": null,
   "id": "QYFppJylprgT",
   "metadata": {
    "id": "QYFppJylprgT"
   },
   "outputs": [],
   "source": [
    "# Set the n_components=3\n",
    "principal=PCA(n_components=3)\n",
    "principal.fit(Scaled_data)\n",
    "x=principal.transform(Scaled_data)"
   ]
  },
  {
   "cell_type": "code",
   "execution_count": null,
   "id": "suABpHPxpuBS",
   "metadata": {
    "id": "suABpHPxpuBS"
   },
   "outputs": [],
   "source": [
    "# Check the dimensions of data after PCA\n",
    "print(x.shape)"
   ]
  },
  {
   "cell_type": "code",
   "execution_count": null,
   "id": "nWzzEWR4qaP9",
   "metadata": {
    "id": "nWzzEWR4qaP9"
   },
   "outputs": [],
   "source": [
    "# Check the values of eigen vectors\n",
    "# prodeced by principal components\n",
    "principal.components_\n"
   ]
  },
  {
   "cell_type": "code",
   "execution_count": null,
   "id": "RcfgllJFqnzs",
   "metadata": {
    "id": "RcfgllJFqnzs"
   },
   "outputs": [],
   "source": [
    "plt.figure(figsize=(10,10))\n",
    "plt.scatter(x[:,0],x[:,1])\n",
    "plt.xlabel('pc1')\n",
    "plt.ylabel('pc2')"
   ]
  },
  {
   "cell_type": "code",
   "execution_count": null,
   "id": "689N-LVMBH88",
   "metadata": {
    "id": "689N-LVMBH88"
   },
   "outputs": [],
   "source": []
  }
 ],
 "metadata": {
  "accelerator": "GPU",
  "colab": {
   "provenance": []
  },
  "gpuClass": "standard",
  "kernelspec": {
   "display_name": "Python 3 (ipykernel)",
   "language": "python",
   "name": "python3"
  },
  "language_info": {
   "codemirror_mode": {
    "name": "ipython",
    "version": 3
   },
   "file_extension": ".py",
   "mimetype": "text/x-python",
   "name": "python",
   "nbconvert_exporter": "python",
   "pygments_lexer": "ipython3",
   "version": "3.10.12"
  }
 },
 "nbformat": 4,
 "nbformat_minor": 5
}
