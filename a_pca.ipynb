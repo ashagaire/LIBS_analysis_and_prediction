{
 "cells": [
  {
   "cell_type": "code",
   "execution_count": null,
   "id": "5778183e-15a9-4823-b3c7-d454351af961",
   "metadata": {
    "id": "5778183e-15a9-4823-b3c7-d454351af961"
   },
   "outputs": [],
   "source": [
    "#from SimulatedLIBS import simulation\n",
    "import time\n",
    "import pandas as pd\n",
    "import numpy as np\n",
    "import h5py\n",
    "import random\n",
    "import matplotlib.pyplot as plt\n",
    "from scipy.interpolate import interp1d\n",
    "from sklearn.preprocessing import MinMaxScaler\n",
    "import seaborn as sns\n",
    "from itertools import islice\n",
    "import pickle\n",
    "from sklearn.neural_network import MLPRegressor #Needs a lot of tuning\n",
    "from sklearn.linear_model import SGDRegressor\n",
    "from sklearn.kernel_ridge import KernelRidge\n",
    "from sklearn.multioutput import MultiOutputRegressor\n",
    "from sklearn.isotonic import IsotonicRegression\n",
    "from sklearn.tree import DecisionTreeRegressor\n",
    "from sklearn.ensemble import GradientBoostingRegressor\n",
    "from sklearn import svm\n",
    "from sklearn.preprocessing import StandardScaler\n",
    "from sklearn.pipeline import make_pipeline\n",
    "from sklearn.cross_decomposition import PLSRegression\n",
    "from sklearn.linear_model import ElasticNetCV\n",
    "from sklearn.model_selection import train_test_split\n",
    "import tensorflow as tf\n",
    "from tensorflow import keras\n",
    "from tensorflow.keras import layers\n",
    "import gc\n",
    "import itertools\n",
    "from sklearn.metrics import mean_squared_error\n",
    "import sklearn\n",
    "from numpy import genfromtxt\n",
    "from os import listdir\n",
    "from os.path import isfile, join\n",
    "import os\n",
    "import copy\n",
    "from scipy import interpolate\n",
    "from sklearn.decomposition import PCA"
   ]
  },
  {
   "cell_type": "code",
   "execution_count": null,
   "id": "ff91052d-5afd-45ae-9223-122c68bc7798",
   "metadata": {
    "id": "ff91052d-5afd-45ae-9223-122c68bc7798"
   },
   "outputs": [],
   "source": [
    "def load_dataset(datasets):\n",
    "    start = time.time()\n",
    "    count = 1\n",
    "    wavelength_list = []\n",
    "    intensity_list = []\n",
    "    label_list = []\n",
    "    get_wavelength = True\n",
    "    for dataset_name in datasets:\n",
    "        with h5py.File(dataset_name, \"r\") as f:\n",
    "            if get_wavelength: wavelengths = np.array(np.split(f['wavelength'][:], f['wavelength'][:].shape[0]//4094))\n",
    "            intensities = np.array(np.split(f['intensity'][:], f['intensity'][:].shape[0]//4094))\n",
    "            labels = np.array(np.split(f['label'][:], f['label'][24:].shape[0]//24))/100 \n",
    "            if get_wavelength: wavelength_list.append(wavelengths)\n",
    "            intensity_list.append(intensities)\n",
    "            label_list.append(labels)\n",
    "            print(dataset_name, \" Done\")\n",
    "        get_wavelength = False\n",
    "    wavelengths = np.array(list(itertools.chain.from_iterable(wavelength_list)))\n",
    "    intensities = np.array(list(itertools.chain.from_iterable(intensity_list)))\n",
    "    labels = np.array(list(itertools.chain.from_iterable(label_list)))\n",
    "    print(round(time.time()-start,2), \"seconds\")    \n",
    "    return wavelengths, intensities, labels\n",
    "\n",
    "def noiser(data,factor):\n",
    "    cut_off = 1000000\n",
    "    data = data.copy()\n",
    "    data[data> int(cut_off*factor)] = cut_off*factor\n",
    "    data = np.where(data <= int(cut_off*0.01*factor), int(cut_off*0.008*factor) + np.random.uniform(1,int((cut_off*0.001)*factor),data.shape), data) #add noise\n",
    "    sklearn.preprocessing.minmax_scale(data, feature_range=(0, 1), axis=0, copy=False)\n",
    "    return data\n",
    "\n",
    "def load_csv_data(folder,shot):\n",
    "    filenames = []\n",
    "    dataframes = []\n",
    "    listOfFiles = list()\n",
    "    for (dirpath, dirnames, filenames) in os.walk(folder):\n",
    "        listOfFiles += [ os.path.join(dirpath, file) for file in filenames if file.endswith('00'+shot+'.csv')]\n",
    "    #for file in os.listdir(folder):\n",
    "    #    if file.endswith('00'+shot+'.csv'):\n",
    "    #        filenames.append(file)\n",
    "    for name in listOfFiles:\n",
    "        with open(name) as readfile:\n",
    "            for cnt, line in enumerate(readfile):\n",
    "                if \"wavelength,intensity\" in line:\n",
    "                    row_num = cnt\n",
    "        df = pd.read_csv(name, skiprows=row_num)\n",
    "        dataframes.append(copy.deepcopy(df['intensity']))\n",
    "        wavelength = copy.deepcopy(df['wavelength'])\n",
    "    dataframes = np.array(dataframes)\n",
    "    return dataframes, wavelength\n",
    "\n",
    "def simple_labels(data,percentage):\n",
    "    labels = np.full((data.shape[0]),percentage)\n",
    "    return labels\n",
    "\n",
    "def create_labels(elements, composition):\n",
    "    labels = [0]*len(elements)\n",
    "    labels_list = []\n",
    "    for sample in composition:\n",
    "        for element in composition[sample]['composition']:\n",
    "            labels[elements.index(element)] = composition[sample]['composition'][element]/100\n",
    "        for x in range(composition[sample]['spectra_n']):labels_list.append(labels)\n",
    "        labels = [0]*len(elements)\n",
    "\n",
    "    return np.array(labels_list)\n",
    "### create_labels example\n",
    "comp = {1: {'spectra_n': 100,\n",
    "             'composition': {'Cu': 63.1, 'Zn': 35.8}},\n",
    "          2: {'spectra_n': 100,\n",
    "             'composition': {'Cu': 63.2, 'Zn': 35.7}},\n",
    "          3: {'spectra_n': 100,\n",
    "             'composition':  {'Cu': 63.3, 'Zn': 35.6}},\n",
    "          4: {'spectra_n': 250,\n",
    "             'composition': {'Cu': 63.2, 'Zn': 35.6}},\n",
    "          5: {'spectra_n': 100,\n",
    "             'composition': {'Cu': 63.6, 'Zn': 35.4}},\n",
    "          'A': {'spectra_n': 250,\n",
    "             'composition': {'Cu': 99.995}},\n",
    "          'B': {'spectra_n': 250,\n",
    "             'composition': {'Cu': 99.9}},\n",
    "          'C': {'spectra_n': 250,\n",
    "             'composition': {'Cu': 85, 'Zn': 14}},\n",
    "}\n",
    "###\n",
    "\n",
    "elements = ['C', 'Mg', 'Al', 'Si', 'Ti', 'V', 'Fe', 'Co', 'Ni', 'Cu', 'Mn', 'Li', 'Zn', 'O', 'P', 'Pt', 'Au', 'Ag', 'Ir', 'W', 'Pd', 'Sn', 'Tc', 'Y']\n",
    "\n",
    "def load_csv_and_labels(paths,labels):\n",
    "    datasets = []\n",
    "    labels_list = []\n",
    "    for path, single_label in zip(paths,labels):\n",
    "        x, wavelength = load_csv_data(path,'3')\n",
    "        datasets.append(x)\n",
    "        labels_list.append(simple_labels(x,single_label))\n",
    "    return np.concatenate(datasets,axis=0), np.concatenate(labels_list, axis=None), wavelength\n"
   ]
  },
  {
   "cell_type": "code",
   "execution_count": null,
   "id": "1f98a7a7-ac56-4a3b-9fe3-f41bf1244ed2",
   "metadata": {
    "id": "1f98a7a7-ac56-4a3b-9fe3-f41bf1244ed2"
   },
   "outputs": [],
   "source": [
    "csv_data4 = load_csv_data('datasets/090822_measurements/reference_samples/measurements13072022samples2/Al reference sample/','3') # last argument '3' is the number of shot the function will load from a folder\n",
    "#labels4 = simple_labels(csv_data4,0.0)\n",
    "csv_data5 = load_csv_data('datasets/090822_measurements/reference_samples/measurements 14072022samples2/Mg reference sample','3')\n",
    "csv_data6 = load_csv_data('datasets/090822_measurements/reference_samples/measurements 14072022samples2/Si reference sample','3')\n",
    "csv_data7 = load_csv_data('datasets/090822_measurements/reference_samples/measurements 14072022samples2/Zn reference sample','3')\n",
    "csv_data8 = load_csv_data('datasets/090822_measurements/reference_samples/measurements19072022samples2/C reference sample','3')\n",
    "csv_data9 = load_csv_data('datasets/090822_measurements/reference_samples/measurements19072022samples2/Ti reference sample','3')\n",
    "\n",
    "csv_data = np.concatenate((csv_data4[0],csv_data5[0],csv_data6[0],csv_data7[0],csv_data8[0],csv_data9[0]),axis=0) "
   ]
  },
  {
   "cell_type": "code",
   "execution_count": null,
   "id": "6d4e0002-0412-4d7a-8455-3a1073264dda",
   "metadata": {
    "id": "6d4e0002-0412-4d7a-8455-3a1073264dda",
    "outputId": "e6940655-4743-4a2e-ed91-339314f17dba"
   },
   "outputs": [
    {
     "data": {
      "text/plain": [
       "(400, 4094)"
      ]
     },
     "execution_count": 131,
     "metadata": {},
     "output_type": "execute_result"
    }
   ],
   "source": [
    "csv_data9[0].shape"
   ]
  },
  {
   "cell_type": "code",
   "execution_count": null,
   "id": "bd027d5d-920e-4cb5-a79b-d7cebfb4fb67",
   "metadata": {
    "id": "bd027d5d-920e-4cb5-a79b-d7cebfb4fb67",
    "outputId": "1f32bc64-a012-4544-bc70-902b007984bf"
   },
   "outputs": [
    {
     "data": {
      "text/plain": [
       "(4,)"
      ]
     },
     "execution_count": 99,
     "metadata": {},
     "output_type": "execute_result"
    }
   ],
   "source": [
    "np.squeeze(csv_data).shape"
   ]
  },
  {
   "cell_type": "code",
   "execution_count": null,
   "id": "5cb536b1-48a0-4557-9e5a-bbdf24246710",
   "metadata": {
    "id": "5cb536b1-48a0-4557-9e5a-bbdf24246710"
   },
   "outputs": [],
   "source": [
    "pca = PCA(n_components=2, svd_solver='full') #here I have used 2 components for the 2d visualization, 2 components explained ~95% of variation, https://www.youtube.com/watch?v=FgakZw6K1QQ&ab_channel=StatQuestwithJoshStarmer there's an explanation about pca, good channel for data analysis things"
   ]
  },
  {
   "cell_type": "code",
   "execution_count": null,
   "id": "ba79796f-a8d1-4acc-ae76-e5f8f80293de",
   "metadata": {
    "id": "ba79796f-a8d1-4acc-ae76-e5f8f80293de"
   },
   "outputs": [],
   "source": [
    "x = pca.fit_transform(csv_data5[0]) # fit the algorithm with desired data"
   ]
  },
  {
   "cell_type": "code",
   "execution_count": null,
   "id": "d790fbac-c2a6-4c10-890f-7dd6ea8e90d6",
   "metadata": {
    "id": "d790fbac-c2a6-4c10-890f-7dd6ea8e90d6",
    "outputId": "4876a6f7-b459-43cc-de45-7a76b35090ab"
   },
   "outputs": [
    {
     "data": {
      "text/plain": [
       "array(['pca0', 'pca1'], dtype=object)"
      ]
     },
     "execution_count": 13,
     "metadata": {},
     "output_type": "execute_result"
    }
   ],
   "source": [
    "pca.get_feature_names_out()"
   ]
  },
  {
   "cell_type": "code",
   "execution_count": null,
   "id": "05ebd87c-5662-4430-a6bd-d61adb73dc7f",
   "metadata": {
    "id": "05ebd87c-5662-4430-a6bd-d61adb73dc7f",
    "outputId": "a6ec16fb-5882-4973-e67f-79fd09a2db93"
   },
   "outputs": [
    {
     "data": {
      "text/plain": [
       "(2, 4094)"
      ]
     },
     "execution_count": 14,
     "metadata": {},
     "output_type": "execute_result"
    }
   ],
   "source": [
    "pca.components_.shape"
   ]
  },
  {
   "cell_type": "code",
   "execution_count": null,
   "id": "b2851f7a-96b5-4946-9296-89f7948ee4bd",
   "metadata": {
    "id": "b2851f7a-96b5-4946-9296-89f7948ee4bd",
    "outputId": "63b73554-44a5-4ced-ae5f-074459849803"
   },
   "outputs": [
    {
     "data": {
      "text/plain": [
       "(300, 4094)"
      ]
     },
     "execution_count": 15,
     "metadata": {},
     "output_type": "execute_result"
    }
   ],
   "source": [
    "csv_data4[0].shape"
   ]
  },
  {
   "cell_type": "code",
   "execution_count": null,
   "id": "202a220e-4613-492d-b8c4-d432a6ea6b5e",
   "metadata": {
    "id": "202a220e-4613-492d-b8c4-d432a6ea6b5e",
    "outputId": "5a34acc7-b6e2-40d4-fc5f-c6929586fddf"
   },
   "outputs": [
    {
     "data": {
      "text/plain": [
       "(400, 2)"
      ]
     },
     "execution_count": 16,
     "metadata": {},
     "output_type": "execute_result"
    }
   ],
   "source": [
    "x.shape"
   ]
  },
  {
   "cell_type": "code",
   "execution_count": null,
   "id": "6a41d52c-999b-4796-8510-db034b3dc41a",
   "metadata": {
    "id": "6a41d52c-999b-4796-8510-db034b3dc41a",
    "outputId": "2a8ebeac-4f68-40d7-d9fd-3a7e86269e90"
   },
   "outputs": [
    {
     "data": {
      "image/png": "[encoded data removed]",
      "text/plain": [
       "<Figure size 432x288 with 1 Axes>"
      ]
     },
     "metadata": {
      "needs_background": "light"
     },
     "output_type": "display_data"
    }
   ],
   "source": [
    "import matplotlib.pyplot as plt\n",
    "#Different kinds of plotting\n",
    "\n",
    "#plt.scatter(x[:100,0],x[:100,1])\n",
    "#plt.scatter(x[100:,0],x[100:,1])\n",
    "\n",
    "plt.scatter(x[:,0],x[:,1])\n",
    "\n",
    "#plt.scatter(x[:300,0],x[:300,1])\n",
    "#plt.scatter(x[300:700,0],x[300:700,1])\n",
    "#plt.scatter(x[700:1100,0],x[700:1100,1])\n",
    "#plt.scatter(x[1100:1250,0],x[1100:1250,1])\n",
    "#plt.scatter(x[1250:1450,0],x[1250:1450,1])\n",
    "#plt.scatter(x[1450:1850,0],x[1450:1850,1])\n",
    "\n",
    "plt.show()"
   ]
  },
  {
   "cell_type": "code",
   "execution_count": null,
   "id": "fb778779-f47c-4458-bd09-9f2c6fe7bedc",
   "metadata": {
    "id": "fb778779-f47c-4458-bd09-9f2c6fe7bedc",
    "outputId": "32ee8d09-71c1-4e56-f7ad-6b53463cd9f1"
   },
   "outputs": [
    {
     "name": "stdout",
     "output_type": "stream",
     "text": [
      "[5.22228470e+09 1.11606403e+09 3.08575912e+08 4.69153077e+07 1.01805178e+07]\n"
     ]
    }
   ],
   "source": [
    "np.set_printoptions(suppress=True)#,formatter={'float_kind':'{:3.1f}'.format}, linewidth=130)\n",
    "\n",
    "\n",
    "print(pca.explained_variance_)"
   ]
  },
  {
   "cell_type": "code",
   "execution_count": null,
   "id": "73aeba98-8681-4496-9b00-6bfb0d0c257b",
   "metadata": {
    "id": "73aeba98-8681-4496-9b00-6bfb0d0c257b",
    "outputId": "dae2145c-c98e-453c-f202-080a47b02332"
   },
   "outputs": [
    {
     "data": {
      "text/plain": [
       "array([[708., 662., 710., ..., 681., 771., 622.],\n",
       "       [706., 640., 725., ..., 685., 744., 645.],\n",
       "       [684., 634., 710., ..., 661., 727., 650.],\n",
       "       ...,\n",
       "       [709., 662., 707., ..., 686., 724., 647.],\n",
       "       [719., 678., 713., ..., 699., 739., 632.],\n",
       "       [737., 632., 718., ..., 663., 711., 649.]])"
      ]
     },
     "execution_count": 49,
     "metadata": {},
     "output_type": "execute_result"
    }
   ],
   "source": [
    "csv_data4[0]"
   ]
  },
  {
   "cell_type": "code",
   "execution_count": null,
   "id": "a7f377dd-4ad8-4d72-9fe7-bf4215618bff",
   "metadata": {
    "id": "a7f377dd-4ad8-4d72-9fe7-bf4215618bff",
    "outputId": "555c11de-12ff-47d6-a504-fbe24ebda309"
   },
   "outputs": [
    {
     "data": {
      "text/plain": [
       "(300, 5)"
      ]
     },
     "execution_count": 60,
     "metadata": {},
     "output_type": "execute_result"
    }
   ],
   "source": [
    "x.shape"
   ]
  },
  {
   "cell_type": "code",
   "execution_count": null,
   "id": "5af42de7-766e-4404-a8ca-5b728af1dd49",
   "metadata": {
    "id": "5af42de7-766e-4404-a8ca-5b728af1dd49",
    "outputId": "0b53393f-32c6-4fff-99be-4ae96af6070e"
   },
   "outputs": [
    {
     "data": {
      "text/plain": [
       "array([0.7596881 , 0.16584322, 0.04290901, 0.02627901, 0.00168791])"
      ]
     },
     "execution_count": 129,
     "metadata": {},
     "output_type": "execute_result"
    }
   ],
   "source": [
    "pca.explained_variance_ratio_"
   ]
  },
  {
   "cell_type": "code",
   "execution_count": null,
   "id": "99eb8140-abe8-4ddd-b0a4-435896bcce65",
   "metadata": {
    "id": "99eb8140-abe8-4ddd-b0a4-435896bcce65",
    "outputId": "7dd7e30a-7ae4-4757-9487-b2b6fb70cd94"
   },
   "outputs": [
    {
     "data": {
      "text/plain": [
       "4082"
      ]
     },
     "execution_count": 84,
     "metadata": {},
     "output_type": "execute_result"
    }
   ],
   "source": [
    "np.argmax(pca.components_[0])"
   ]
  },
  {
   "cell_type": "code",
   "execution_count": null,
   "id": "2b50a9d9-90aa-4500-a009-0a390206ae87",
   "metadata": {
    "id": "2b50a9d9-90aa-4500-a009-0a390206ae87",
    "outputId": "2ca7fb21-e092-4b13-cae9-8f2f2ae83846"
   },
   "outputs": [
    {
     "data": {
      "text/plain": [
       "0.0016629354954666266"
      ]
     },
     "execution_count": 85,
     "metadata": {},
     "output_type": "execute_result"
    }
   ],
   "source": [
    "pca.components_[0][4082]"
   ]
  },
  {
   "cell_type": "code",
   "execution_count": null,
   "id": "a5b46851-9bd2-49af-8351-0fa10b6f4758",
   "metadata": {
    "id": "a5b46851-9bd2-49af-8351-0fa10b6f4758",
    "outputId": "e8ffbee0-5a30-4e22-aee2-080cbbe91107"
   },
   "outputs": [
    {
     "data": {
      "text/plain": [
       "array([0.00151987, 0.00138993, 0.00133137, ..., 0.00145837, 0.00145061, 0.00147014])"
      ]
     },
     "execution_count": 86,
     "metadata": {},
     "output_type": "execute_result"
    }
   ],
   "source": [
    "pca.components_[0]"
   ]
  },
  {
   "cell_type": "code",
   "execution_count": null,
   "id": "7821fc50-9660-4a21-9849-4354774c156d",
   "metadata": {
    "id": "7821fc50-9660-4a21-9849-4354774c156d",
    "outputId": "71dc9725-a5b1-4323-acdf-6f652ba2cd35"
   },
   "outputs": [
    {
     "data": {
      "text/plain": [
       "array([-21154.02815923, -31756.03869049,  53888.96358551,   1653.80592106,  -2757.33382441])"
      ]
     },
     "execution_count": 137,
     "metadata": {},
     "output_type": "execute_result"
    }
   ],
   "source": []
  },
  {
   "cell_type": "code",
   "execution_count": null,
   "id": "0d8b20bd-65d4-473e-9e6c-9d5dfd1be8de",
   "metadata": {
    "id": "0d8b20bd-65d4-473e-9e6c-9d5dfd1be8de"
   },
   "outputs": [],
   "source": []
  }
 ],
 "metadata": {
  "accelerator": "GPU",
  "colab": {
   "provenance": []
  },
  "gpuClass": "standard",
  "kernelspec": {
   "display_name": "Python 3 (ipykernel)",
   "language": "python",
   "name": "python3"
  },
  "language_info": {
   "codemirror_mode": {
    "name": "ipython",
    "version": 3
   },
   "file_extension": ".py",
   "mimetype": "text/x-python",
   "name": "python",
   "nbconvert_exporter": "python",
   "pygments_lexer": "ipython3",
   "version": "3.10.12"
  }
 },
 "nbformat": 4,
 "nbformat_minor": 5
}
