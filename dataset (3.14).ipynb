{
 "cells": [
  {
   "cell_type": "markdown",
   "id": "vcsSKqiwhFP-",
   "metadata": {
    "id": "vcsSKqiwhFP-"
   },
   "source": [
    "REFERENCES:  https://www.geeksforgeeks.org/implementing-pca-in-python-with-scikit-learn/\n",
    ",\n",
    "\n",
    "https://towardsdatascience.com/math-neural-network-from-scratch-in-python-d6da9f29ce65 ,\n",
    "\n",
    "https://keras.io/guides/training_with_built_in_methods/ ,\n",
    "\n",
    "https://towardsdatascience.com/how-to-choose-the-optimal-learning-rate-for-neural-networks-362111c5c783"
   ]
  },
  {
   "cell_type": "code",
   "execution_count": null,
   "id": "29b2895b-118c-430c-9bff-18db74560512",
   "metadata": {},
   "outputs": [],
   "source": [
    "pip install pandas  matplotlib scikit-learn scipy\n"
   ]
  },
  {
   "cell_type": "code",
   "execution_count": 1,
   "id": "d788d702-c646-40d3-b5a0-9a747353d6fc",
   "metadata": {
    "id": "d788d702-c646-40d3-b5a0-9a747353d6fc"
   },
   "outputs": [],
   "source": [
    "import time\n",
    "import pandas as pd\n",
    "import numpy as np\n",
    "import h5py\n",
    "import random\n",
    "import matplotlib.pyplot as plt\n",
    "from scipy.interpolate import interp1d\n",
    "from sklearn.preprocessing import MinMaxScaler\n",
    "from itertools import islice\n",
    "import pickle\n",
    "from sklearn.preprocessing import StandardScaler\n",
    "from sklearn.model_selection import train_test_split\n",
    "import tensorflow as tf\n",
    "from tensorflow import keras\n",
    "from tensorflow.keras import layers\n",
    "from keras.models import Sequential\n",
    "from keras.layers import Dense\n",
    "from keras.activations import softmax\n",
    "from keras.activations import relu\n",
    "import gc\n",
    "import itertools\n",
    "from sklearn.metrics import mean_squared_error\n",
    "import sklearn\n",
    "from numpy import genfromtxt\n",
    "from os import listdir\n",
    "from os.path import isfile, join\n",
    "import os\n",
    "import copy\n",
    "from scipy import interpolate\n",
    "from scipy.spatial import distance\n",
    "import time\n",
    "import numpy as np\n",
    "\n",
    "#np.set_printoptions(suppress=True)\n",
    "\n",
    "\n",
    "def load_dataset(datasets,shape,labels):\n",
    "    start = time.time()\n",
    "    count = 1\n",
    "    wavelength_list = []\n",
    "    intensity_list = []\n",
    "    label_list = []\n",
    "    get_wavelength = True\n",
    "    for dataset_name in datasets:\n",
    "        with h5py.File(dataset_name, \"r\") as f:\n",
    "            if get_wavelength: wavelengths = np.array(np.split(f['wavelength'][:], f['wavelength'][:].shape[0]//shape))\n",
    "            intensities = np.array(np.split(f['intensity'][:], f['intensity'][:].shape[0]//shape))\n",
    "            labels = np.array(np.split(f['label'][:], f['label'][:].shape[0]//labels))/100\n",
    "            if get_wavelength: wavelength_list.append(wavelengths)\n",
    "            intensity_list.append(intensities)\n",
    "            label_list.append(labels)\n",
    "            print(dataset_name, \" Done\")\n",
    "        get_wavelength = False\n",
    "    wavelengths = np.array(list(itertools.chain.from_iterable(wavelength_list)))\n",
    "    intensities = np.array(list(itertools.chain.from_iterable(intensity_list)))\n",
    "    labels = np.array(list(itertools.chain.from_iterable(label_list)))\n",
    "    print(round(time.time()-start,2), \"seconds\")    \n",
    "    return wavelengths, intensities, labels\n",
    "\n"
   ]
  },
  {
   "cell_type": "code",
   "execution_count": 2,
   "id": "387f89aa-3f52-429f-85ad-554f18788567",
   "metadata": {
    "colab": {
     "base_uri": "https://localhost:8080/"
    },
    "id": "387f89aa-3f52-429f-85ad-554f18788567",
    "outputId": "4f163e6e-ca1a-4988-ff4c-b0df1c4fe5ff"
   },
   "outputs": [
    {
     "name": "stdout",
     "output_type": "stream",
     "text": [
      "dataset7.h5  Done\n",
      "39.19 seconds\n"
     ]
    }
   ],
   "source": [
    "datasets_to_load = ['dataset7.h5']\n",
    "wavelengths_list, c, labels_list = load_dataset(datasets_to_load,4094,24)\n",
    "current_elements = ['C', 'Mg', 'Al', 'Si', 'Ti', 'V', 'Fe', 'Co', 'Ni', 'Cu', 'Mn', 'Li', 'Zn', 'O', 'P', 'Pt', 'Au', 'Ag', 'Ir', 'W', 'Pd', 'Sn', 'Tc', 'Y']\n"
   ]
  },
  {
   "cell_type": "code",
   "execution_count": 3,
   "id": "koUn0wdbXfH_",
   "metadata": {
    "id": "koUn0wdbXfH_"
   },
   "outputs": [],
   "source": [
    "#current_elements.index('O')"
   ]
  },
  {
   "cell_type": "code",
   "execution_count": 4,
   "id": "0MBX0QvhId1Y",
   "metadata": {
    "colab": {
     "base_uri": "https://localhost:8080/"
    },
    "id": "0MBX0QvhId1Y",
    "outputId": "4750cb2f-1c44-41d0-a52d-0e07c509a27e"
   },
   "outputs": [
    {
     "data": {
      "text/plain": [
       "(53660, 4094)"
      ]
     },
     "execution_count": 4,
     "metadata": {},
     "output_type": "execute_result"
    }
   ],
   "source": [
    "df_wavelengths=pd.DataFrame(wavelengths_list)\n",
    "df_wavelengths.shape\n"
   ]
  },
  {
   "cell_type": "code",
   "execution_count": 5,
   "id": "IYnzlqNtkSoE",
   "metadata": {
    "colab": {
     "base_uri": "https://localhost:8080/",
     "height": 236
    },
    "id": "IYnzlqNtkSoE",
    "outputId": "2819c27f-1acc-47b1-d871-91673098c177"
   },
   "outputs": [
    {
     "data": {
      "text/html": [
       "<div>\n",
       "<style scoped>\n",
       "    .dataframe tbody tr th:only-of-type {\n",
       "        vertical-align: middle;\n",
       "    }\n",
       "\n",
       "    .dataframe tbody tr th {\n",
       "        vertical-align: top;\n",
       "    }\n",
       "\n",
       "    .dataframe thead th {\n",
       "        text-align: right;\n",
       "    }\n",
       "</style>\n",
       "<table border=\"1\" class=\"dataframe\">\n",
       "  <thead>\n",
       "    <tr style=\"text-align: right;\">\n",
       "      <th></th>\n",
       "      <th>0</th>\n",
       "      <th>1</th>\n",
       "      <th>2</th>\n",
       "      <th>3</th>\n",
       "      <th>4</th>\n",
       "      <th>5</th>\n",
       "      <th>6</th>\n",
       "      <th>7</th>\n",
       "      <th>8</th>\n",
       "      <th>9</th>\n",
       "      <th>...</th>\n",
       "      <th>4084</th>\n",
       "      <th>4085</th>\n",
       "      <th>4086</th>\n",
       "      <th>4087</th>\n",
       "      <th>4088</th>\n",
       "      <th>4089</th>\n",
       "      <th>4090</th>\n",
       "      <th>4091</th>\n",
       "      <th>4092</th>\n",
       "      <th>4093</th>\n",
       "    </tr>\n",
       "  </thead>\n",
       "  <tbody>\n",
       "    <tr>\n",
       "      <th>0</th>\n",
       "      <td>184.9409</td>\n",
       "      <td>185.00817</td>\n",
       "      <td>185.07544</td>\n",
       "      <td>185.14271</td>\n",
       "      <td>185.20998</td>\n",
       "      <td>185.27725</td>\n",
       "      <td>185.34452</td>\n",
       "      <td>185.41179</td>\n",
       "      <td>185.47906</td>\n",
       "      <td>185.54633</td>\n",
       "      <td>...</td>\n",
       "      <td>459.67158</td>\n",
       "      <td>459.73885</td>\n",
       "      <td>459.80612</td>\n",
       "      <td>459.87339</td>\n",
       "      <td>459.94066</td>\n",
       "      <td>460.00793</td>\n",
       "      <td>460.0752</td>\n",
       "      <td>460.14247</td>\n",
       "      <td>460.20974</td>\n",
       "      <td>460.27701</td>\n",
       "    </tr>\n",
       "    <tr>\n",
       "      <th>1</th>\n",
       "      <td>184.9409</td>\n",
       "      <td>185.00817</td>\n",
       "      <td>185.07544</td>\n",
       "      <td>185.14271</td>\n",
       "      <td>185.20998</td>\n",
       "      <td>185.27725</td>\n",
       "      <td>185.34452</td>\n",
       "      <td>185.41179</td>\n",
       "      <td>185.47906</td>\n",
       "      <td>185.54633</td>\n",
       "      <td>...</td>\n",
       "      <td>459.67158</td>\n",
       "      <td>459.73885</td>\n",
       "      <td>459.80612</td>\n",
       "      <td>459.87339</td>\n",
       "      <td>459.94066</td>\n",
       "      <td>460.00793</td>\n",
       "      <td>460.0752</td>\n",
       "      <td>460.14247</td>\n",
       "      <td>460.20974</td>\n",
       "      <td>460.27701</td>\n",
       "    </tr>\n",
       "    <tr>\n",
       "      <th>2</th>\n",
       "      <td>184.9409</td>\n",
       "      <td>185.00817</td>\n",
       "      <td>185.07544</td>\n",
       "      <td>185.14271</td>\n",
       "      <td>185.20998</td>\n",
       "      <td>185.27725</td>\n",
       "      <td>185.34452</td>\n",
       "      <td>185.41179</td>\n",
       "      <td>185.47906</td>\n",
       "      <td>185.54633</td>\n",
       "      <td>...</td>\n",
       "      <td>459.67158</td>\n",
       "      <td>459.73885</td>\n",
       "      <td>459.80612</td>\n",
       "      <td>459.87339</td>\n",
       "      <td>459.94066</td>\n",
       "      <td>460.00793</td>\n",
       "      <td>460.0752</td>\n",
       "      <td>460.14247</td>\n",
       "      <td>460.20974</td>\n",
       "      <td>460.27701</td>\n",
       "    </tr>\n",
       "    <tr>\n",
       "      <th>3</th>\n",
       "      <td>184.9409</td>\n",
       "      <td>185.00817</td>\n",
       "      <td>185.07544</td>\n",
       "      <td>185.14271</td>\n",
       "      <td>185.20998</td>\n",
       "      <td>185.27725</td>\n",
       "      <td>185.34452</td>\n",
       "      <td>185.41179</td>\n",
       "      <td>185.47906</td>\n",
       "      <td>185.54633</td>\n",
       "      <td>...</td>\n",
       "      <td>459.67158</td>\n",
       "      <td>459.73885</td>\n",
       "      <td>459.80612</td>\n",
       "      <td>459.87339</td>\n",
       "      <td>459.94066</td>\n",
       "      <td>460.00793</td>\n",
       "      <td>460.0752</td>\n",
       "      <td>460.14247</td>\n",
       "      <td>460.20974</td>\n",
       "      <td>460.27701</td>\n",
       "    </tr>\n",
       "    <tr>\n",
       "      <th>4</th>\n",
       "      <td>184.9409</td>\n",
       "      <td>185.00817</td>\n",
       "      <td>185.07544</td>\n",
       "      <td>185.14271</td>\n",
       "      <td>185.20998</td>\n",
       "      <td>185.27725</td>\n",
       "      <td>185.34452</td>\n",
       "      <td>185.41179</td>\n",
       "      <td>185.47906</td>\n",
       "      <td>185.54633</td>\n",
       "      <td>...</td>\n",
       "      <td>459.67158</td>\n",
       "      <td>459.73885</td>\n",
       "      <td>459.80612</td>\n",
       "      <td>459.87339</td>\n",
       "      <td>459.94066</td>\n",
       "      <td>460.00793</td>\n",
       "      <td>460.0752</td>\n",
       "      <td>460.14247</td>\n",
       "      <td>460.20974</td>\n",
       "      <td>460.27701</td>\n",
       "    </tr>\n",
       "  </tbody>\n",
       "</table>\n",
       "<p>5 rows × 4094 columns</p>\n",
       "</div>"
      ],
      "text/plain": [
       "       0          1          2          3          4          5          6     \\\n",
       "0  184.9409  185.00817  185.07544  185.14271  185.20998  185.27725  185.34452   \n",
       "1  184.9409  185.00817  185.07544  185.14271  185.20998  185.27725  185.34452   \n",
       "2  184.9409  185.00817  185.07544  185.14271  185.20998  185.27725  185.34452   \n",
       "3  184.9409  185.00817  185.07544  185.14271  185.20998  185.27725  185.34452   \n",
       "4  184.9409  185.00817  185.07544  185.14271  185.20998  185.27725  185.34452   \n",
       "\n",
       "        7          8          9     ...       4084       4085       4086  \\\n",
       "0  185.41179  185.47906  185.54633  ...  459.67158  459.73885  459.80612   \n",
       "1  185.41179  185.47906  185.54633  ...  459.67158  459.73885  459.80612   \n",
       "2  185.41179  185.47906  185.54633  ...  459.67158  459.73885  459.80612   \n",
       "3  185.41179  185.47906  185.54633  ...  459.67158  459.73885  459.80612   \n",
       "4  185.41179  185.47906  185.54633  ...  459.67158  459.73885  459.80612   \n",
       "\n",
       "        4087       4088       4089      4090       4091       4092       4093  \n",
       "0  459.87339  459.94066  460.00793  460.0752  460.14247  460.20974  460.27701  \n",
       "1  459.87339  459.94066  460.00793  460.0752  460.14247  460.20974  460.27701  \n",
       "2  459.87339  459.94066  460.00793  460.0752  460.14247  460.20974  460.27701  \n",
       "3  459.87339  459.94066  460.00793  460.0752  460.14247  460.20974  460.27701  \n",
       "4  459.87339  459.94066  460.00793  460.0752  460.14247  460.20974  460.27701  \n",
       "\n",
       "[5 rows x 4094 columns]"
      ]
     },
     "execution_count": 5,
     "metadata": {},
     "output_type": "execute_result"
    }
   ],
   "source": [
    "df_wavelengths.head(5)"
   ]
  },
  {
   "cell_type": "code",
   "execution_count": 6,
   "id": "V5dgvoofI4t1",
   "metadata": {
    "colab": {
     "base_uri": "https://localhost:8080/"
    },
    "id": "V5dgvoofI4t1",
    "outputId": "80abf3a6-8493-4cef-ccff-0deb6cd8b4d4"
   },
   "outputs": [
    {
     "data": {
      "text/plain": [
       "(53660, 4094)"
      ]
     },
     "execution_count": 6,
     "metadata": {},
     "output_type": "execute_result"
    }
   ],
   "source": [
    "df_intensity=pd.DataFrame(c)\n",
    "df_intensity.shape"
   ]
  },
  {
   "cell_type": "code",
   "execution_count": 7,
   "id": "EMx_YCMfqz-C",
   "metadata": {
    "colab": {
     "base_uri": "https://localhost:8080/",
     "height": 236
    },
    "id": "EMx_YCMfqz-C",
    "outputId": "757ebd34-7c64-4a73-9468-369e8a094586"
   },
   "outputs": [
    {
     "data": {
      "text/html": [
       "<div>\n",
       "<style scoped>\n",
       "    .dataframe tbody tr th:only-of-type {\n",
       "        vertical-align: middle;\n",
       "    }\n",
       "\n",
       "    .dataframe tbody tr th {\n",
       "        vertical-align: top;\n",
       "    }\n",
       "\n",
       "    .dataframe thead th {\n",
       "        text-align: right;\n",
       "    }\n",
       "</style>\n",
       "<table border=\"1\" class=\"dataframe\">\n",
       "  <thead>\n",
       "    <tr style=\"text-align: right;\">\n",
       "      <th></th>\n",
       "      <th>0</th>\n",
       "      <th>1</th>\n",
       "      <th>2</th>\n",
       "      <th>3</th>\n",
       "      <th>4</th>\n",
       "      <th>5</th>\n",
       "      <th>6</th>\n",
       "      <th>7</th>\n",
       "      <th>8</th>\n",
       "      <th>9</th>\n",
       "      <th>...</th>\n",
       "      <th>4084</th>\n",
       "      <th>4085</th>\n",
       "      <th>4086</th>\n",
       "      <th>4087</th>\n",
       "      <th>4088</th>\n",
       "      <th>4089</th>\n",
       "      <th>4090</th>\n",
       "      <th>4091</th>\n",
       "      <th>4092</th>\n",
       "      <th>4093</th>\n",
       "    </tr>\n",
       "  </thead>\n",
       "  <tbody>\n",
       "    <tr>\n",
       "      <th>0</th>\n",
       "      <td>0.000000e+00</td>\n",
       "      <td>2.000000e-10</td>\n",
       "      <td>0.000003</td>\n",
       "      <td>6.425709e-04</td>\n",
       "      <td>1.575615e-03</td>\n",
       "      <td>0.000046</td>\n",
       "      <td>1.930000e-08</td>\n",
       "      <td>0.000000</td>\n",
       "      <td>0.000000</td>\n",
       "      <td>0.000000</td>\n",
       "      <td>...</td>\n",
       "      <td>0.0</td>\n",
       "      <td>0.0</td>\n",
       "      <td>0.0</td>\n",
       "      <td>0.0</td>\n",
       "      <td>0.0</td>\n",
       "      <td>0.0</td>\n",
       "      <td>0.0</td>\n",
       "      <td>0.0</td>\n",
       "      <td>0.0</td>\n",
       "      <td>0.0</td>\n",
       "    </tr>\n",
       "    <tr>\n",
       "      <th>1</th>\n",
       "      <td>9.886173e-54</td>\n",
       "      <td>1.163524e-55</td>\n",
       "      <td>0.000000</td>\n",
       "      <td>1.554174e-51</td>\n",
       "      <td>0.000000e+00</td>\n",
       "      <td>0.000000</td>\n",
       "      <td>0.000000e+00</td>\n",
       "      <td>0.000000</td>\n",
       "      <td>0.000000</td>\n",
       "      <td>0.000000</td>\n",
       "      <td>...</td>\n",
       "      <td>0.0</td>\n",
       "      <td>0.0</td>\n",
       "      <td>0.0</td>\n",
       "      <td>0.0</td>\n",
       "      <td>0.0</td>\n",
       "      <td>0.0</td>\n",
       "      <td>0.0</td>\n",
       "      <td>0.0</td>\n",
       "      <td>0.0</td>\n",
       "      <td>0.0</td>\n",
       "    </tr>\n",
       "    <tr>\n",
       "      <th>2</th>\n",
       "      <td>0.000000e+00</td>\n",
       "      <td>0.000000e+00</td>\n",
       "      <td>0.000000</td>\n",
       "      <td>0.000000e+00</td>\n",
       "      <td>5.000000e-10</td>\n",
       "      <td>0.000258</td>\n",
       "      <td>5.542503e+00</td>\n",
       "      <td>2288.572593</td>\n",
       "      <td>11510.308254</td>\n",
       "      <td>13851.330353</td>\n",
       "      <td>...</td>\n",
       "      <td>0.0</td>\n",
       "      <td>0.0</td>\n",
       "      <td>0.0</td>\n",
       "      <td>0.0</td>\n",
       "      <td>0.0</td>\n",
       "      <td>0.0</td>\n",
       "      <td>0.0</td>\n",
       "      <td>0.0</td>\n",
       "      <td>0.0</td>\n",
       "      <td>0.0</td>\n",
       "    </tr>\n",
       "    <tr>\n",
       "      <th>3</th>\n",
       "      <td>0.000000e+00</td>\n",
       "      <td>4.240042e+04</td>\n",
       "      <td>271401.081935</td>\n",
       "      <td>2.087370e+04</td>\n",
       "      <td>2.197288e+04</td>\n",
       "      <td>34653.560832</td>\n",
       "      <td>2.914393e+03</td>\n",
       "      <td>49.993821</td>\n",
       "      <td>0.013321</td>\n",
       "      <td>0.000000</td>\n",
       "      <td>...</td>\n",
       "      <td>0.0</td>\n",
       "      <td>0.0</td>\n",
       "      <td>0.0</td>\n",
       "      <td>0.0</td>\n",
       "      <td>0.0</td>\n",
       "      <td>0.0</td>\n",
       "      <td>0.0</td>\n",
       "      <td>0.0</td>\n",
       "      <td>0.0</td>\n",
       "      <td>0.0</td>\n",
       "    </tr>\n",
       "    <tr>\n",
       "      <th>4</th>\n",
       "      <td>2.212317e+00</td>\n",
       "      <td>2.136087e+00</td>\n",
       "      <td>2.061629</td>\n",
       "      <td>1.988922e+00</td>\n",
       "      <td>1.917944e+00</td>\n",
       "      <td>1.848676</td>\n",
       "      <td>1.781095e+00</td>\n",
       "      <td>1.715182</td>\n",
       "      <td>1.650916</td>\n",
       "      <td>1.588275</td>\n",
       "      <td>...</td>\n",
       "      <td>0.0</td>\n",
       "      <td>0.0</td>\n",
       "      <td>0.0</td>\n",
       "      <td>0.0</td>\n",
       "      <td>0.0</td>\n",
       "      <td>0.0</td>\n",
       "      <td>0.0</td>\n",
       "      <td>0.0</td>\n",
       "      <td>0.0</td>\n",
       "      <td>0.0</td>\n",
       "    </tr>\n",
       "  </tbody>\n",
       "</table>\n",
       "<p>5 rows × 4094 columns</p>\n",
       "</div>"
      ],
      "text/plain": [
       "           0             1              2             3             4     \\\n",
       "0  0.000000e+00  2.000000e-10       0.000003  6.425709e-04  1.575615e-03   \n",
       "1  9.886173e-54  1.163524e-55       0.000000  1.554174e-51  0.000000e+00   \n",
       "2  0.000000e+00  0.000000e+00       0.000000  0.000000e+00  5.000000e-10   \n",
       "3  0.000000e+00  4.240042e+04  271401.081935  2.087370e+04  2.197288e+04   \n",
       "4  2.212317e+00  2.136087e+00       2.061629  1.988922e+00  1.917944e+00   \n",
       "\n",
       "           5             6            7             8             9     ...  \\\n",
       "0      0.000046  1.930000e-08     0.000000      0.000000      0.000000  ...   \n",
       "1      0.000000  0.000000e+00     0.000000      0.000000      0.000000  ...   \n",
       "2      0.000258  5.542503e+00  2288.572593  11510.308254  13851.330353  ...   \n",
       "3  34653.560832  2.914393e+03    49.993821      0.013321      0.000000  ...   \n",
       "4      1.848676  1.781095e+00     1.715182      1.650916      1.588275  ...   \n",
       "\n",
       "   4084  4085  4086  4087  4088  4089  4090  4091  4092  4093  \n",
       "0   0.0   0.0   0.0   0.0   0.0   0.0   0.0   0.0   0.0   0.0  \n",
       "1   0.0   0.0   0.0   0.0   0.0   0.0   0.0   0.0   0.0   0.0  \n",
       "2   0.0   0.0   0.0   0.0   0.0   0.0   0.0   0.0   0.0   0.0  \n",
       "3   0.0   0.0   0.0   0.0   0.0   0.0   0.0   0.0   0.0   0.0  \n",
       "4   0.0   0.0   0.0   0.0   0.0   0.0   0.0   0.0   0.0   0.0  \n",
       "\n",
       "[5 rows x 4094 columns]"
      ]
     },
     "execution_count": 7,
     "metadata": {},
     "output_type": "execute_result"
    }
   ],
   "source": [
    "df_intensity.head()"
   ]
  },
  {
   "cell_type": "code",
   "execution_count": 8,
   "id": "RpinM9LKzZO0",
   "metadata": {
    "colab": {
     "base_uri": "https://localhost:8080/",
     "height": 236
    },
    "id": "RpinM9LKzZO0",
    "outputId": "7a1d5a4e-7a9f-4dd5-c9f4-27554c43f58b"
   },
   "outputs": [
    {
     "data": {
      "text/html": [
       "<div>\n",
       "<style scoped>\n",
       "    .dataframe tbody tr th:only-of-type {\n",
       "        vertical-align: middle;\n",
       "    }\n",
       "\n",
       "    .dataframe tbody tr th {\n",
       "        vertical-align: top;\n",
       "    }\n",
       "\n",
       "    .dataframe thead th {\n",
       "        text-align: right;\n",
       "    }\n",
       "</style>\n",
       "<table border=\"1\" class=\"dataframe\">\n",
       "  <thead>\n",
       "    <tr style=\"text-align: right;\">\n",
       "      <th></th>\n",
       "      <th>0</th>\n",
       "      <th>1</th>\n",
       "      <th>2</th>\n",
       "      <th>3</th>\n",
       "      <th>4</th>\n",
       "      <th>5</th>\n",
       "      <th>6</th>\n",
       "      <th>7</th>\n",
       "      <th>8</th>\n",
       "      <th>9</th>\n",
       "      <th>...</th>\n",
       "      <th>14</th>\n",
       "      <th>15</th>\n",
       "      <th>16</th>\n",
       "      <th>17</th>\n",
       "      <th>18</th>\n",
       "      <th>19</th>\n",
       "      <th>20</th>\n",
       "      <th>21</th>\n",
       "      <th>22</th>\n",
       "      <th>23</th>\n",
       "    </tr>\n",
       "  </thead>\n",
       "  <tbody>\n",
       "    <tr>\n",
       "      <th>0</th>\n",
       "      <td>1.0</td>\n",
       "      <td>0.0</td>\n",
       "      <td>0.0</td>\n",
       "      <td>0.0</td>\n",
       "      <td>0.0</td>\n",
       "      <td>0.0</td>\n",
       "      <td>0.0</td>\n",
       "      <td>0.0</td>\n",
       "      <td>0.0</td>\n",
       "      <td>0.0</td>\n",
       "      <td>...</td>\n",
       "      <td>0.0</td>\n",
       "      <td>0.0</td>\n",
       "      <td>0.0</td>\n",
       "      <td>0.0</td>\n",
       "      <td>0.0</td>\n",
       "      <td>0.0</td>\n",
       "      <td>0.0</td>\n",
       "      <td>0.0</td>\n",
       "      <td>0.0</td>\n",
       "      <td>0.0</td>\n",
       "    </tr>\n",
       "    <tr>\n",
       "      <th>1</th>\n",
       "      <td>0.0</td>\n",
       "      <td>1.0</td>\n",
       "      <td>0.0</td>\n",
       "      <td>0.0</td>\n",
       "      <td>0.0</td>\n",
       "      <td>0.0</td>\n",
       "      <td>0.0</td>\n",
       "      <td>0.0</td>\n",
       "      <td>0.0</td>\n",
       "      <td>0.0</td>\n",
       "      <td>...</td>\n",
       "      <td>0.0</td>\n",
       "      <td>0.0</td>\n",
       "      <td>0.0</td>\n",
       "      <td>0.0</td>\n",
       "      <td>0.0</td>\n",
       "      <td>0.0</td>\n",
       "      <td>0.0</td>\n",
       "      <td>0.0</td>\n",
       "      <td>0.0</td>\n",
       "      <td>0.0</td>\n",
       "    </tr>\n",
       "    <tr>\n",
       "      <th>2</th>\n",
       "      <td>0.0</td>\n",
       "      <td>0.0</td>\n",
       "      <td>1.0</td>\n",
       "      <td>0.0</td>\n",
       "      <td>0.0</td>\n",
       "      <td>0.0</td>\n",
       "      <td>0.0</td>\n",
       "      <td>0.0</td>\n",
       "      <td>0.0</td>\n",
       "      <td>0.0</td>\n",
       "      <td>...</td>\n",
       "      <td>0.0</td>\n",
       "      <td>0.0</td>\n",
       "      <td>0.0</td>\n",
       "      <td>0.0</td>\n",
       "      <td>0.0</td>\n",
       "      <td>0.0</td>\n",
       "      <td>0.0</td>\n",
       "      <td>0.0</td>\n",
       "      <td>0.0</td>\n",
       "      <td>0.0</td>\n",
       "    </tr>\n",
       "    <tr>\n",
       "      <th>3</th>\n",
       "      <td>0.0</td>\n",
       "      <td>0.0</td>\n",
       "      <td>0.0</td>\n",
       "      <td>1.0</td>\n",
       "      <td>0.0</td>\n",
       "      <td>0.0</td>\n",
       "      <td>0.0</td>\n",
       "      <td>0.0</td>\n",
       "      <td>0.0</td>\n",
       "      <td>0.0</td>\n",
       "      <td>...</td>\n",
       "      <td>0.0</td>\n",
       "      <td>0.0</td>\n",
       "      <td>0.0</td>\n",
       "      <td>0.0</td>\n",
       "      <td>0.0</td>\n",
       "      <td>0.0</td>\n",
       "      <td>0.0</td>\n",
       "      <td>0.0</td>\n",
       "      <td>0.0</td>\n",
       "      <td>0.0</td>\n",
       "    </tr>\n",
       "    <tr>\n",
       "      <th>4</th>\n",
       "      <td>0.0</td>\n",
       "      <td>0.0</td>\n",
       "      <td>0.0</td>\n",
       "      <td>0.0</td>\n",
       "      <td>1.0</td>\n",
       "      <td>0.0</td>\n",
       "      <td>0.0</td>\n",
       "      <td>0.0</td>\n",
       "      <td>0.0</td>\n",
       "      <td>0.0</td>\n",
       "      <td>...</td>\n",
       "      <td>0.0</td>\n",
       "      <td>0.0</td>\n",
       "      <td>0.0</td>\n",
       "      <td>0.0</td>\n",
       "      <td>0.0</td>\n",
       "      <td>0.0</td>\n",
       "      <td>0.0</td>\n",
       "      <td>0.0</td>\n",
       "      <td>0.0</td>\n",
       "      <td>0.0</td>\n",
       "    </tr>\n",
       "  </tbody>\n",
       "</table>\n",
       "<p>5 rows × 24 columns</p>\n",
       "</div>"
      ],
      "text/plain": [
       "    0    1    2    3    4    5    6    7    8    9   ...   14   15   16   17  \\\n",
       "0  1.0  0.0  0.0  0.0  0.0  0.0  0.0  0.0  0.0  0.0  ...  0.0  0.0  0.0  0.0   \n",
       "1  0.0  1.0  0.0  0.0  0.0  0.0  0.0  0.0  0.0  0.0  ...  0.0  0.0  0.0  0.0   \n",
       "2  0.0  0.0  1.0  0.0  0.0  0.0  0.0  0.0  0.0  0.0  ...  0.0  0.0  0.0  0.0   \n",
       "3  0.0  0.0  0.0  1.0  0.0  0.0  0.0  0.0  0.0  0.0  ...  0.0  0.0  0.0  0.0   \n",
       "4  0.0  0.0  0.0  0.0  1.0  0.0  0.0  0.0  0.0  0.0  ...  0.0  0.0  0.0  0.0   \n",
       "\n",
       "    18   19   20   21   22   23  \n",
       "0  0.0  0.0  0.0  0.0  0.0  0.0  \n",
       "1  0.0  0.0  0.0  0.0  0.0  0.0  \n",
       "2  0.0  0.0  0.0  0.0  0.0  0.0  \n",
       "3  0.0  0.0  0.0  0.0  0.0  0.0  \n",
       "4  0.0  0.0  0.0  0.0  0.0  0.0  \n",
       "\n",
       "[5 rows x 24 columns]"
      ]
     },
     "execution_count": 8,
     "metadata": {},
     "output_type": "execute_result"
    }
   ],
   "source": [
    "df_labels_list=pd.DataFrame(labels_list)\n",
    "df_labels_list.head()"
   ]
  },
  {
   "cell_type": "code",
   "execution_count": 9,
   "id": "ZtHTWtnYlj9n",
   "metadata": {
    "colab": {
     "base_uri": "https://localhost:8080/"
    },
    "id": "ZtHTWtnYlj9n",
    "outputId": "e4afe7a4-7c16-4667-85c6-03b79f051320"
   },
   "outputs": [
    {
     "data": {
      "text/plain": [
       "(53660, 24)"
      ]
     },
     "execution_count": 9,
     "metadata": {},
     "output_type": "execute_result"
    }
   ],
   "source": [
    "df_labels_list.shape"
   ]
  },
  {
   "cell_type": "code",
   "execution_count": 10,
   "id": "V0idaDVuky2Q",
   "metadata": {
    "colab": {
     "base_uri": "https://localhost:8080/"
    },
    "id": "V0idaDVuky2Q",
    "outputId": "1c654bbc-9bb3-4431-c2c5-9c4eaa1a06da"
   },
   "outputs": [
    {
     "data": {
      "text/plain": [
       "0        False\n",
       "1        False\n",
       "2        False\n",
       "3        False\n",
       "4        False\n",
       "         ...  \n",
       "53655    False\n",
       "53656    False\n",
       "53657    False\n",
       "53658    False\n",
       "53659    False\n",
       "Name: 13, Length: 53660, dtype: bool"
      ]
     },
     "execution_count": 10,
     "metadata": {},
     "output_type": "execute_result"
    }
   ],
   "source": [
    "df_labels_list[13]!=0.0"
   ]
  },
  {
   "cell_type": "code",
   "execution_count": 11,
   "id": "-RDgFMSOX0mR",
   "metadata": {
    "colab": {
     "base_uri": "https://localhost:8080/",
     "height": 424
    },
    "id": "-RDgFMSOX0mR",
    "outputId": "e7eb3180-904c-43c1-9075-08bb1145e42d"
   },
   "outputs": [
    {
     "data": {
      "text/html": [
       "<div>\n",
       "<style scoped>\n",
       "    .dataframe tbody tr th:only-of-type {\n",
       "        vertical-align: middle;\n",
       "    }\n",
       "\n",
       "    .dataframe tbody tr th {\n",
       "        vertical-align: top;\n",
       "    }\n",
       "\n",
       "    .dataframe thead th {\n",
       "        text-align: right;\n",
       "    }\n",
       "</style>\n",
       "<table border=\"1\" class=\"dataframe\">\n",
       "  <thead>\n",
       "    <tr style=\"text-align: right;\">\n",
       "      <th></th>\n",
       "      <th>0</th>\n",
       "      <th>1</th>\n",
       "      <th>2</th>\n",
       "      <th>3</th>\n",
       "      <th>4</th>\n",
       "      <th>5</th>\n",
       "      <th>6</th>\n",
       "      <th>7</th>\n",
       "      <th>8</th>\n",
       "      <th>9</th>\n",
       "      <th>...</th>\n",
       "      <th>14</th>\n",
       "      <th>15</th>\n",
       "      <th>16</th>\n",
       "      <th>17</th>\n",
       "      <th>18</th>\n",
       "      <th>19</th>\n",
       "      <th>20</th>\n",
       "      <th>21</th>\n",
       "      <th>22</th>\n",
       "      <th>23</th>\n",
       "    </tr>\n",
       "  </thead>\n",
       "  <tbody>\n",
       "    <tr>\n",
       "      <th>13</th>\n",
       "      <td>0.00</td>\n",
       "      <td>0.00</td>\n",
       "      <td>0.00</td>\n",
       "      <td>0.00</td>\n",
       "      <td>0.0</td>\n",
       "      <td>0.0</td>\n",
       "      <td>0.0</td>\n",
       "      <td>0.0</td>\n",
       "      <td>0.0</td>\n",
       "      <td>0.0</td>\n",
       "      <td>...</td>\n",
       "      <td>0.0</td>\n",
       "      <td>0.0</td>\n",
       "      <td>0.0</td>\n",
       "      <td>0.0</td>\n",
       "      <td>0.0</td>\n",
       "      <td>0.0</td>\n",
       "      <td>0.00</td>\n",
       "      <td>0.00</td>\n",
       "      <td>0.00</td>\n",
       "      <td>0.0</td>\n",
       "    </tr>\n",
       "    <tr>\n",
       "      <th>36</th>\n",
       "      <td>0.99</td>\n",
       "      <td>0.00</td>\n",
       "      <td>0.00</td>\n",
       "      <td>0.00</td>\n",
       "      <td>0.0</td>\n",
       "      <td>0.0</td>\n",
       "      <td>0.0</td>\n",
       "      <td>0.0</td>\n",
       "      <td>0.0</td>\n",
       "      <td>0.0</td>\n",
       "      <td>...</td>\n",
       "      <td>0.0</td>\n",
       "      <td>0.0</td>\n",
       "      <td>0.0</td>\n",
       "      <td>0.0</td>\n",
       "      <td>0.0</td>\n",
       "      <td>0.0</td>\n",
       "      <td>0.00</td>\n",
       "      <td>0.00</td>\n",
       "      <td>0.00</td>\n",
       "      <td>0.0</td>\n",
       "    </tr>\n",
       "    <tr>\n",
       "      <th>58</th>\n",
       "      <td>0.00</td>\n",
       "      <td>0.99</td>\n",
       "      <td>0.00</td>\n",
       "      <td>0.00</td>\n",
       "      <td>0.0</td>\n",
       "      <td>0.0</td>\n",
       "      <td>0.0</td>\n",
       "      <td>0.0</td>\n",
       "      <td>0.0</td>\n",
       "      <td>0.0</td>\n",
       "      <td>...</td>\n",
       "      <td>0.0</td>\n",
       "      <td>0.0</td>\n",
       "      <td>0.0</td>\n",
       "      <td>0.0</td>\n",
       "      <td>0.0</td>\n",
       "      <td>0.0</td>\n",
       "      <td>0.00</td>\n",
       "      <td>0.00</td>\n",
       "      <td>0.00</td>\n",
       "      <td>0.0</td>\n",
       "    </tr>\n",
       "    <tr>\n",
       "      <th>79</th>\n",
       "      <td>0.00</td>\n",
       "      <td>0.00</td>\n",
       "      <td>0.99</td>\n",
       "      <td>0.00</td>\n",
       "      <td>0.0</td>\n",
       "      <td>0.0</td>\n",
       "      <td>0.0</td>\n",
       "      <td>0.0</td>\n",
       "      <td>0.0</td>\n",
       "      <td>0.0</td>\n",
       "      <td>...</td>\n",
       "      <td>0.0</td>\n",
       "      <td>0.0</td>\n",
       "      <td>0.0</td>\n",
       "      <td>0.0</td>\n",
       "      <td>0.0</td>\n",
       "      <td>0.0</td>\n",
       "      <td>0.00</td>\n",
       "      <td>0.00</td>\n",
       "      <td>0.00</td>\n",
       "      <td>0.0</td>\n",
       "    </tr>\n",
       "    <tr>\n",
       "      <th>99</th>\n",
       "      <td>0.00</td>\n",
       "      <td>0.00</td>\n",
       "      <td>0.00</td>\n",
       "      <td>0.99</td>\n",
       "      <td>0.0</td>\n",
       "      <td>0.0</td>\n",
       "      <td>0.0</td>\n",
       "      <td>0.0</td>\n",
       "      <td>0.0</td>\n",
       "      <td>0.0</td>\n",
       "      <td>...</td>\n",
       "      <td>0.0</td>\n",
       "      <td>0.0</td>\n",
       "      <td>0.0</td>\n",
       "      <td>0.0</td>\n",
       "      <td>0.0</td>\n",
       "      <td>0.0</td>\n",
       "      <td>0.00</td>\n",
       "      <td>0.00</td>\n",
       "      <td>0.00</td>\n",
       "      <td>0.0</td>\n",
       "    </tr>\n",
       "    <tr>\n",
       "      <th>...</th>\n",
       "      <td>...</td>\n",
       "      <td>...</td>\n",
       "      <td>...</td>\n",
       "      <td>...</td>\n",
       "      <td>...</td>\n",
       "      <td>...</td>\n",
       "      <td>...</td>\n",
       "      <td>...</td>\n",
       "      <td>...</td>\n",
       "      <td>...</td>\n",
       "      <td>...</td>\n",
       "      <td>...</td>\n",
       "      <td>...</td>\n",
       "      <td>...</td>\n",
       "      <td>...</td>\n",
       "      <td>...</td>\n",
       "      <td>...</td>\n",
       "      <td>...</td>\n",
       "      <td>...</td>\n",
       "      <td>...</td>\n",
       "      <td>...</td>\n",
       "    </tr>\n",
       "    <tr>\n",
       "      <th>53535</th>\n",
       "      <td>0.00</td>\n",
       "      <td>0.00</td>\n",
       "      <td>0.00</td>\n",
       "      <td>0.00</td>\n",
       "      <td>0.0</td>\n",
       "      <td>0.0</td>\n",
       "      <td>0.0</td>\n",
       "      <td>0.0</td>\n",
       "      <td>0.0</td>\n",
       "      <td>0.0</td>\n",
       "      <td>...</td>\n",
       "      <td>0.0</td>\n",
       "      <td>0.0</td>\n",
       "      <td>0.0</td>\n",
       "      <td>0.0</td>\n",
       "      <td>0.0</td>\n",
       "      <td>0.0</td>\n",
       "      <td>0.15</td>\n",
       "      <td>0.00</td>\n",
       "      <td>0.30</td>\n",
       "      <td>0.0</td>\n",
       "    </tr>\n",
       "    <tr>\n",
       "      <th>53536</th>\n",
       "      <td>0.00</td>\n",
       "      <td>0.00</td>\n",
       "      <td>0.00</td>\n",
       "      <td>0.00</td>\n",
       "      <td>0.0</td>\n",
       "      <td>0.0</td>\n",
       "      <td>0.0</td>\n",
       "      <td>0.0</td>\n",
       "      <td>0.0</td>\n",
       "      <td>0.0</td>\n",
       "      <td>...</td>\n",
       "      <td>0.0</td>\n",
       "      <td>0.0</td>\n",
       "      <td>0.0</td>\n",
       "      <td>0.0</td>\n",
       "      <td>0.0</td>\n",
       "      <td>0.0</td>\n",
       "      <td>0.15</td>\n",
       "      <td>0.00</td>\n",
       "      <td>0.00</td>\n",
       "      <td>0.3</td>\n",
       "    </tr>\n",
       "    <tr>\n",
       "      <th>53537</th>\n",
       "      <td>0.00</td>\n",
       "      <td>0.00</td>\n",
       "      <td>0.00</td>\n",
       "      <td>0.00</td>\n",
       "      <td>0.0</td>\n",
       "      <td>0.0</td>\n",
       "      <td>0.0</td>\n",
       "      <td>0.0</td>\n",
       "      <td>0.0</td>\n",
       "      <td>0.0</td>\n",
       "      <td>...</td>\n",
       "      <td>0.0</td>\n",
       "      <td>0.0</td>\n",
       "      <td>0.0</td>\n",
       "      <td>0.0</td>\n",
       "      <td>0.0</td>\n",
       "      <td>0.0</td>\n",
       "      <td>0.00</td>\n",
       "      <td>0.15</td>\n",
       "      <td>0.30</td>\n",
       "      <td>0.0</td>\n",
       "    </tr>\n",
       "    <tr>\n",
       "      <th>53538</th>\n",
       "      <td>0.00</td>\n",
       "      <td>0.00</td>\n",
       "      <td>0.00</td>\n",
       "      <td>0.00</td>\n",
       "      <td>0.0</td>\n",
       "      <td>0.0</td>\n",
       "      <td>0.0</td>\n",
       "      <td>0.0</td>\n",
       "      <td>0.0</td>\n",
       "      <td>0.0</td>\n",
       "      <td>...</td>\n",
       "      <td>0.0</td>\n",
       "      <td>0.0</td>\n",
       "      <td>0.0</td>\n",
       "      <td>0.0</td>\n",
       "      <td>0.0</td>\n",
       "      <td>0.0</td>\n",
       "      <td>0.00</td>\n",
       "      <td>0.15</td>\n",
       "      <td>0.00</td>\n",
       "      <td>0.3</td>\n",
       "    </tr>\n",
       "    <tr>\n",
       "      <th>53539</th>\n",
       "      <td>0.00</td>\n",
       "      <td>0.00</td>\n",
       "      <td>0.00</td>\n",
       "      <td>0.00</td>\n",
       "      <td>0.0</td>\n",
       "      <td>0.0</td>\n",
       "      <td>0.0</td>\n",
       "      <td>0.0</td>\n",
       "      <td>0.0</td>\n",
       "      <td>0.0</td>\n",
       "      <td>...</td>\n",
       "      <td>0.0</td>\n",
       "      <td>0.0</td>\n",
       "      <td>0.0</td>\n",
       "      <td>0.0</td>\n",
       "      <td>0.0</td>\n",
       "      <td>0.0</td>\n",
       "      <td>0.00</td>\n",
       "      <td>0.00</td>\n",
       "      <td>0.15</td>\n",
       "      <td>0.3</td>\n",
       "    </tr>\n",
       "  </tbody>\n",
       "</table>\n",
       "<p>5567 rows × 24 columns</p>\n",
       "</div>"
      ],
      "text/plain": [
       "         0     1     2     3    4    5    6    7    8    9   ...   14   15  \\\n",
       "13     0.00  0.00  0.00  0.00  0.0  0.0  0.0  0.0  0.0  0.0  ...  0.0  0.0   \n",
       "36     0.99  0.00  0.00  0.00  0.0  0.0  0.0  0.0  0.0  0.0  ...  0.0  0.0   \n",
       "58     0.00  0.99  0.00  0.00  0.0  0.0  0.0  0.0  0.0  0.0  ...  0.0  0.0   \n",
       "79     0.00  0.00  0.99  0.00  0.0  0.0  0.0  0.0  0.0  0.0  ...  0.0  0.0   \n",
       "99     0.00  0.00  0.00  0.99  0.0  0.0  0.0  0.0  0.0  0.0  ...  0.0  0.0   \n",
       "...     ...   ...   ...   ...  ...  ...  ...  ...  ...  ...  ...  ...  ...   \n",
       "53535  0.00  0.00  0.00  0.00  0.0  0.0  0.0  0.0  0.0  0.0  ...  0.0  0.0   \n",
       "53536  0.00  0.00  0.00  0.00  0.0  0.0  0.0  0.0  0.0  0.0  ...  0.0  0.0   \n",
       "53537  0.00  0.00  0.00  0.00  0.0  0.0  0.0  0.0  0.0  0.0  ...  0.0  0.0   \n",
       "53538  0.00  0.00  0.00  0.00  0.0  0.0  0.0  0.0  0.0  0.0  ...  0.0  0.0   \n",
       "53539  0.00  0.00  0.00  0.00  0.0  0.0  0.0  0.0  0.0  0.0  ...  0.0  0.0   \n",
       "\n",
       "        16   17   18   19    20    21    22   23  \n",
       "13     0.0  0.0  0.0  0.0  0.00  0.00  0.00  0.0  \n",
       "36     0.0  0.0  0.0  0.0  0.00  0.00  0.00  0.0  \n",
       "58     0.0  0.0  0.0  0.0  0.00  0.00  0.00  0.0  \n",
       "79     0.0  0.0  0.0  0.0  0.00  0.00  0.00  0.0  \n",
       "99     0.0  0.0  0.0  0.0  0.00  0.00  0.00  0.0  \n",
       "...    ...  ...  ...  ...   ...   ...   ...  ...  \n",
       "53535  0.0  0.0  0.0  0.0  0.15  0.00  0.30  0.0  \n",
       "53536  0.0  0.0  0.0  0.0  0.15  0.00  0.00  0.3  \n",
       "53537  0.0  0.0  0.0  0.0  0.00  0.15  0.30  0.0  \n",
       "53538  0.0  0.0  0.0  0.0  0.00  0.15  0.00  0.3  \n",
       "53539  0.0  0.0  0.0  0.0  0.00  0.00  0.15  0.3  \n",
       "\n",
       "[5567 rows x 24 columns]"
      ]
     },
     "execution_count": 11,
     "metadata": {},
     "output_type": "execute_result"
    }
   ],
   "source": [
    "#row 13 is 'O' which is gas element so droping all the rows which has oxygen\n",
    "#get rows with gas elements .i.e. rows which has value other than 0 in column 13\n",
    "rows_gas = df_labels_list[(df_labels_list[[13]] != 0.0).all(axis=1)]\n",
    "rows_gas"
   ]
  },
  {
   "cell_type": "code",
   "execution_count": 12,
   "id": "cGjyWhGpmyaG",
   "metadata": {
    "colab": {
     "base_uri": "https://localhost:8080/"
    },
    "id": "cGjyWhGpmyaG",
    "outputId": "4ed74e61-348d-490d-ccdb-ebe7218a72ee"
   },
   "outputs": [
    {
     "data": {
      "text/plain": [
       "Int64Index([   13,    36,    58,    79,    99,   118,   136,   153,   169,\n",
       "              184,\n",
       "            ...\n",
       "            53530, 53531, 53532, 53533, 53534, 53535, 53536, 53537, 53538,\n",
       "            53539],\n",
       "           dtype='int64', length=5567)"
      ]
     },
     "execution_count": 12,
     "metadata": {},
     "output_type": "execute_result"
    }
   ],
   "source": [
    "rows_of_gas=rows_gas.index\n",
    "rows_of_gas"
   ]
  },
  {
   "cell_type": "code",
   "execution_count": 13,
   "id": "DpGKG7qboB7z",
   "metadata": {
    "colab": {
     "base_uri": "https://localhost:8080/"
    },
    "id": "DpGKG7qboB7z",
    "outputId": "5ecc42c8-2122-4639-bf3f-8ccde8104c6d"
   },
   "outputs": [
    {
     "data": {
      "text/plain": [
       "(48093, 4094)"
      ]
     },
     "execution_count": 13,
     "metadata": {},
     "output_type": "execute_result"
    }
   ],
   "source": [
    "\n",
    "df_intensity=df_intensity.drop(index=rows_of_gas)\n",
    "df_intensity.shape"
   ]
  },
  {
   "cell_type": "code",
   "execution_count": 14,
   "id": "Ml_2pdc2pDF3",
   "metadata": {
    "colab": {
     "base_uri": "https://localhost:8080/"
    },
    "id": "Ml_2pdc2pDF3",
    "outputId": "000706d6-f3f3-4ee8-fcb9-f83cc90d5fb8"
   },
   "outputs": [
    {
     "data": {
      "text/plain": [
       "(48093, 4094)"
      ]
     },
     "execution_count": 14,
     "metadata": {},
     "output_type": "execute_result"
    }
   ],
   "source": [
    "df_wavelengths=df_wavelengths.drop(index=rows_of_gas)\n",
    "df_wavelengths.shape"
   ]
  },
  {
   "cell_type": "code",
   "execution_count": 15,
   "id": "yUrILR4ypDMl",
   "metadata": {
    "colab": {
     "base_uri": "https://localhost:8080/"
    },
    "id": "yUrILR4ypDMl",
    "outputId": "a079de2f-0e2e-462e-b65d-0ad960440799"
   },
   "outputs": [
    {
     "data": {
      "text/plain": [
       "(48093, 24)"
      ]
     },
     "execution_count": 15,
     "metadata": {},
     "output_type": "execute_result"
    }
   ],
   "source": [
    "df_labels_list=df_labels_list.drop(index=rows_of_gas)\n",
    "df_labels_list.shape\n",
    "\n"
   ]
  },
  {
   "cell_type": "code",
   "execution_count": 16,
   "id": "Afr_2fOqi-TY",
   "metadata": {
    "colab": {
     "base_uri": "https://localhost:8080/"
    },
    "id": "Afr_2fOqi-TY",
    "outputId": "8e3a68b2-e259-40e7-e478-4ec9d575f4ba"
   },
   "outputs": [
    {
     "data": {
      "text/plain": [
       "(48093, 23)"
      ]
     },
     "execution_count": 16,
     "metadata": {},
     "output_type": "execute_result"
    }
   ],
   "source": [
    "df_labels_list=df_labels_list.drop(13, axis=1)\n",
    "df_labels_list.shape"
   ]
  },
  {
   "cell_type": "markdown",
   "id": "eBtkPmw6_2HN",
   "metadata": {
    "id": "eBtkPmw6_2HN"
   },
   "source": [
    "## split dataset for train set and test set"
   ]
  },
  {
   "cell_type": "code",
   "execution_count": 17,
   "id": "46RtpjHTAKZD",
   "metadata": {
    "id": "46RtpjHTAKZD"
   },
   "outputs": [],
   "source": [
    "x=df_intensity\n",
    "y=df_labels_list"
   ]
  },
  {
   "cell_type": "code",
   "execution_count": 18,
   "id": "VtfcQmIZoGEU",
   "metadata": {
    "id": "VtfcQmIZoGEU"
   },
   "outputs": [],
   "source": [
    "# Split x into train and test sets\n",
    "X_train, X_test, y_train, y_test = train_test_split(x, y, test_size=0.1, random_state=42)\n",
    "#X_train, X_val, y_train, y_val= train_test_split(X_train, y_train, test_size=0.2, random_state=42)\n"
   ]
  },
  {
   "cell_type": "code",
   "execution_count": 19,
   "id": "e5rA1vceAYxR",
   "metadata": {
    "id": "e5rA1vceAYxR"
   },
   "outputs": [
    {
     "name": "stdout",
     "output_type": "stream",
     "text": [
      "X_train shape: (43283, 4094)\n",
      "y_train shape: (43283, 23)\n",
      "X_test shape: (4810, 4094)\n",
      "y_test shape: (4810, 23)\n"
     ]
    }
   ],
   "source": [
    "# Print the shape of the resulting data sets\n",
    "print(\"X_train shape:\", X_train.shape)\n",
    "print(\"y_train shape:\", y_train.shape)\n",
    "print(\"X_test shape:\", X_test.shape)\n",
    "print(\"y_test shape:\", y_test.shape)\n"
   ]
  },
  {
   "cell_type": "code",
   "execution_count": 82,
   "id": "7e225ebc-1668-401a-8d66-1b4cf0fad20d",
   "metadata": {},
   "outputs": [
    {
     "name": "stdout",
     "output_type": "stream",
     "text": [
      "Epoch 1/10\n",
      "1353/1353 [==============================] - 5s 4ms/step - loss: 3632.4653 - accuracy: 0.0471 - val_loss: 3.1357 - val_accuracy: 0.0462\n",
      "Epoch 2/10\n",
      "1353/1353 [==============================] - 5s 3ms/step - loss: 3.1363 - accuracy: 0.0439 - val_loss: 3.1358 - val_accuracy: 0.0497\n",
      "Epoch 3/10\n",
      "1353/1353 [==============================] - 5s 3ms/step - loss: 3.1357 - accuracy: 0.0439 - val_loss: 3.1357 - val_accuracy: 0.0443\n",
      "Epoch 4/10\n",
      "1353/1353 [==============================] - 5s 3ms/step - loss: 3.1357 - accuracy: 0.0433 - val_loss: 3.1357 - val_accuracy: 0.0459\n",
      "Epoch 5/10\n",
      "1353/1353 [==============================] - 4s 3ms/step - loss: 3.1357 - accuracy: 0.0444 - val_loss: 3.1359 - val_accuracy: 0.0378\n",
      "Epoch 6/10\n",
      "1353/1353 [==============================] - 4s 3ms/step - loss: 3.1357 - accuracy: 0.0442 - val_loss: 3.1359 - val_accuracy: 0.0380\n",
      "Epoch 7/10\n",
      "1353/1353 [==============================] - 5s 3ms/step - loss: 3.1357 - accuracy: 0.0433 - val_loss: 3.1359 - val_accuracy: 0.0383\n",
      "Epoch 8/10\n",
      "1353/1353 [==============================] - 5s 3ms/step - loss: 3.1357 - accuracy: 0.0408 - val_loss: 3.1358 - val_accuracy: 0.0380\n",
      "Epoch 9/10\n",
      "1353/1353 [==============================] - 4s 3ms/step - loss: 3.1357 - accuracy: 0.0415 - val_loss: 3.1358 - val_accuracy: 0.0439\n",
      "Epoch 10/10\n",
      "1353/1353 [==============================] - 4s 3ms/step - loss: 3.1357 - accuracy: 0.0413 - val_loss: 3.1358 - val_accuracy: 0.0383\n"
     ]
    }
   ],
   "source": [
    "\n",
    "\n",
    "# Define the number of output classes\n",
    "num_classes = 23\n",
    "\n",
    "# Define the input and output shapes\n",
    "input_shape = (4094,)\n",
    "output_shape = (num_classes,)\n",
    "\n",
    "# Define the model architecture\n",
    "model = tf.keras.models.Sequential([\n",
    "    tf.keras.layers.Dense(256, activation='relu', input_shape=input_shape),\n",
    "    tf.keras.layers.Dense(128, activation='relu'),\n",
    "    tf.keras.layers.Dense(64, activation='relu'),\n",
    "    tf.keras.layers.Dense(32, activation='relu'),\n",
    "    tf.keras.layers.Dense(16, activation='relu'),\n",
    "    tf.keras.layers.Dense(num_classes, activation='softmax')\n",
    "])\n",
    "\n",
    "# Compile the model with the optimizer and loss function\n",
    "model.compile(optimizer='adam', loss='categorical_crossentropy', metrics=['accuracy'])\n",
    "\n",
    "# Train the model on the training data\n",
    "history = model.fit(X_train, y_train, validation_data=(X_test, y_test), epochs=10, batch_size=32)\n"
   ]
  },
  {
   "cell_type": "code",
   "execution_count": 84,
   "id": "tLiTjm_tAdyp",
   "metadata": {
    "id": "tLiTjm_tAdyp"
   },
   "outputs": [],
   "source": [
    "# Compile the model\n",
    "def create_model(my_learning_rate):\n",
    "    model = tf.keras.models.Sequential()\n",
    "    #model.add(Dense(40000, batch_input_shape=(None,4094), activation=relu,name=\"input\"))\n",
    "    #model.add(Dense(35000, batch_input_shape=(None,4094), activation=relu,name=\"layer_1\"))\n",
    "    #model.add(Dense(30000, batch_input_shape=(None,4094), activation=relu,name=\"layer_2\"))\n",
    "    #model.add(Dense(25000, batch_input_shape=(None,4094), activation=relu,name=\"layer_3\"))\n",
    "    #model.add(Dense(20000, batch_input_shape=(None,4094), activation=relu,name=\"layer_4\"))\n",
    "    #model.add(Dense(15000, batch_input_shape=(None,4094), activation=relu,name=\"layer_5\"))\n",
    "    model.add(Dense(10000, batch_input_shape=(None,4094), activation=relu,name=\"layer_6\"))\n",
    "    model.add(Dense(8000, batch_input_shape=(None,4094), activation=relu,name=\"layer_7\"))\n",
    "    model.add(Dense(6000, batch_input_shape=(None,4094), activation=relu,name=\"layer_8\"))\n",
    "    model.add(Dense(4000, batch_input_shape=(None,4094), activation=relu,name=\"layer_9\"))\n",
    "    model.add(Dense(2000, batch_input_shape=(None,4094), activation=relu,name=\"layer_10\"))\n",
    "    model.add(Dense(1000, batch_input_shape=(None,4094), activation=relu,name=\"layer_11\"))\n",
    "    model.add(Dense(500, batch_input_shape=(None,4094), activation=relu,name=\"layer_12\"))\n",
    "    model.add(Dense(100, batch_input_shape=(None,4094), activation=relu,name=\"layer_13\"))\n",
    "    #model.add(Dense(460, batch_input_shape=(None,4094), activation=relu,name=\"layer_14\"))\n",
    "    model.add(Dense(23, activation=softmax,name=\"output\"))\n",
    "    \n",
    "    model.compile(optimizer=keras.optimizers.Adam(learning_rate=my_learning_rate), loss='categorical_crossentropy', metrics=['accuracy'])\n",
    "    return model \n"
   ]
  },
  {
   "cell_type": "code",
   "execution_count": 85,
   "id": "UA_eK136Advt",
   "metadata": {
    "id": "UA_eK136Advt"
   },
   "outputs": [],
   "source": [
    "# Train the model\n",
    "def train_model(model, train_features, train_label, epochs,\n",
    "                batch_size=None, validation_split=0.2):\n",
    "  \"\"\"Train the model by feeding it data.\"\"\"\n",
    "\n",
    "  history = model.fit(x=train_features, y=train_label, batch_size=batch_size,\n",
    "                      epochs=epochs, shuffle=True, verbose=2,\n",
    "                      validation_split=validation_split)\n",
    " \n",
    "  # To track the progression of training, gather a snapshot\n",
    "  # of the model's metrics at each epoch. \n",
    "  epochs = history.epoch\n",
    "  hist = pd.DataFrame(history.history)\n",
    "\n",
    "  return epochs, hist    "
   ]
  },
  {
   "cell_type": "code",
   "execution_count": 86,
   "id": "51825073-718a-4c99-b237-88c039756538",
   "metadata": {},
   "outputs": [],
   "source": [
    "# model.fit(x=train_features, y=train_label, batch_size=batch_size,epochs=epochs, shuffle=True, validation_split=validation_split)"
   ]
  },
  {
   "cell_type": "code",
   "execution_count": 87,
   "id": "yIHf1AJ8GHrz",
   "metadata": {
    "id": "yIHf1AJ8GHrz"
   },
   "outputs": [],
   "source": [
    "# The following variables are the hyperparameters.\n",
    "learning_rate = 0.005\n",
    "epochs = 50\n",
    "batch_size = 16\n",
    "validation_split = 0.2\n"
   ]
  },
  {
   "cell_type": "code",
   "execution_count": 88,
   "id": "a77be538-3fee-45af-82b6-75accfef64db",
   "metadata": {},
   "outputs": [
    {
     "name": "stdout",
     "output_type": "stream",
     "text": [
      "Epoch 1/50\n",
      "2165/2165 - 34s - loss: 9751640.0000 - accuracy: 0.0417 - val_loss: 3.1363 - val_accuracy: 0.0454 - 34s/epoch - 16ms/step\n",
      "Epoch 2/50\n",
      "2165/2165 - 33s - loss: 3.1367 - accuracy: 0.0425 - val_loss: 3.1367 - val_accuracy: 0.0403 - 33s/epoch - 15ms/step\n",
      "Epoch 3/50\n",
      "2165/2165 - 33s - loss: 3.1367 - accuracy: 0.0426 - val_loss: 3.1367 - val_accuracy: 0.0454 - 33s/epoch - 15ms/step\n",
      "Epoch 4/50\n",
      "2165/2165 - 33s - loss: 3.1365 - accuracy: 0.0415 - val_loss: 3.1364 - val_accuracy: 0.0400 - 33s/epoch - 15ms/step\n",
      "Epoch 5/50\n",
      "2165/2165 - 33s - loss: 3.1367 - accuracy: 0.0425 - val_loss: 3.1364 - val_accuracy: 0.0499 - 33s/epoch - 15ms/step\n",
      "Epoch 6/50\n",
      "2165/2165 - 33s - loss: 3.1366 - accuracy: 0.0415 - val_loss: 3.1367 - val_accuracy: 0.0464 - 33s/epoch - 15ms/step\n",
      "Epoch 7/50\n",
      "2165/2165 - 33s - loss: 3.1366 - accuracy: 0.0423 - val_loss: 3.1367 - val_accuracy: 0.0467 - 33s/epoch - 15ms/step\n",
      "Epoch 8/50\n",
      "2165/2165 - 33s - loss: 3.1365 - accuracy: 0.0438 - val_loss: 3.1366 - val_accuracy: 0.0492 - 33s/epoch - 15ms/step\n",
      "Epoch 9/50\n",
      "2165/2165 - 33s - loss: 3.1366 - accuracy: 0.0432 - val_loss: 3.1363 - val_accuracy: 0.0400 - 33s/epoch - 15ms/step\n",
      "Epoch 10/50\n",
      "2165/2165 - 33s - loss: 3.1367 - accuracy: 0.0435 - val_loss: 3.1365 - val_accuracy: 0.0427 - 33s/epoch - 15ms/step\n",
      "Epoch 11/50\n",
      "2165/2165 - 33s - loss: 3.1365 - accuracy: 0.0430 - val_loss: 3.1369 - val_accuracy: 0.0394 - 33s/epoch - 15ms/step\n",
      "Epoch 12/50\n",
      "2165/2165 - 33s - loss: 3.1367 - accuracy: 0.0418 - val_loss: 3.1366 - val_accuracy: 0.0400 - 33s/epoch - 15ms/step\n",
      "Epoch 13/50\n",
      "2165/2165 - 33s - loss: 3.1367 - accuracy: 0.0413 - val_loss: 3.1369 - val_accuracy: 0.0394 - 33s/epoch - 15ms/step\n",
      "Epoch 14/50\n",
      "2165/2165 - 33s - loss: 3.1366 - accuracy: 0.0423 - val_loss: 3.1368 - val_accuracy: 0.0444 - 33s/epoch - 15ms/step\n",
      "Epoch 15/50\n",
      "2165/2165 - 32s - loss: 3.1368 - accuracy: 0.0426 - val_loss: 3.1372 - val_accuracy: 0.0427 - 32s/epoch - 15ms/step\n",
      "Epoch 16/50\n",
      "2165/2165 - 32s - loss: 3.1369 - accuracy: 0.0426 - val_loss: 3.1364 - val_accuracy: 0.0467 - 32s/epoch - 15ms/step\n",
      "Epoch 17/50\n",
      "2165/2165 - 33s - loss: 3.1365 - accuracy: 0.0449 - val_loss: 3.1372 - val_accuracy: 0.0350 - 33s/epoch - 15ms/step\n",
      "Epoch 18/50\n",
      "2165/2165 - 33s - loss: 3.1366 - accuracy: 0.0416 - val_loss: 3.1363 - val_accuracy: 0.0419 - 33s/epoch - 15ms/step\n",
      "Epoch 19/50\n",
      "2165/2165 - 33s - loss: 3.1366 - accuracy: 0.0422 - val_loss: 3.1367 - val_accuracy: 0.0444 - 33s/epoch - 15ms/step\n",
      "Epoch 20/50\n",
      "2165/2165 - 33s - loss: 3.1366 - accuracy: 0.0436 - val_loss: 3.1362 - val_accuracy: 0.0394 - 33s/epoch - 15ms/step\n",
      "Epoch 21/50\n",
      "2165/2165 - 33s - loss: 3.1367 - accuracy: 0.0420 - val_loss: 3.1362 - val_accuracy: 0.0419 - 33s/epoch - 15ms/step\n",
      "Epoch 22/50\n",
      "2165/2165 - 33s - loss: 3.1367 - accuracy: 0.0430 - val_loss: 3.1363 - val_accuracy: 0.0482 - 33s/epoch - 15ms/step\n",
      "Epoch 23/50\n",
      "2165/2165 - 33s - loss: 3.1366 - accuracy: 0.0411 - val_loss: 3.1364 - val_accuracy: 0.0350 - 33s/epoch - 15ms/step\n",
      "Epoch 24/50\n",
      "2165/2165 - 32s - loss: 3.1367 - accuracy: 0.0431 - val_loss: 3.1370 - val_accuracy: 0.0394 - 32s/epoch - 15ms/step\n",
      "Epoch 25/50\n",
      "2165/2165 - 33s - loss: 3.1367 - accuracy: 0.0431 - val_loss: 3.1372 - val_accuracy: 0.0394 - 33s/epoch - 15ms/step\n",
      "Epoch 26/50\n",
      "2165/2165 - 33s - loss: 3.1366 - accuracy: 0.0429 - val_loss: 3.1367 - val_accuracy: 0.0400 - 33s/epoch - 15ms/step\n",
      "Epoch 27/50\n",
      "2165/2165 - 33s - loss: 3.1366 - accuracy: 0.0455 - val_loss: 3.1370 - val_accuracy: 0.0370 - 33s/epoch - 15ms/step\n",
      "Epoch 28/50\n",
      "2165/2165 - 33s - loss: 3.1366 - accuracy: 0.0440 - val_loss: 3.1369 - val_accuracy: 0.0454 - 33s/epoch - 15ms/step\n",
      "Epoch 29/50\n",
      "2165/2165 - 33s - loss: 3.1367 - accuracy: 0.0436 - val_loss: 3.1371 - val_accuracy: 0.0394 - 33s/epoch - 15ms/step\n",
      "Epoch 30/50\n",
      "2165/2165 - 33s - loss: 3.1367 - accuracy: 0.0418 - val_loss: 3.1363 - val_accuracy: 0.0482 - 33s/epoch - 15ms/step\n",
      "Epoch 31/50\n",
      "2165/2165 - 32s - loss: 3.1364 - accuracy: 0.0418 - val_loss: 3.1374 - val_accuracy: 0.0400 - 32s/epoch - 15ms/step\n",
      "Epoch 32/50\n",
      "2165/2165 - 33s - loss: 3.1364 - accuracy: 0.0433 - val_loss: 3.1376 - val_accuracy: 0.0427 - 33s/epoch - 15ms/step\n",
      "Epoch 33/50\n",
      "2165/2165 - 33s - loss: 3.1367 - accuracy: 0.0409 - val_loss: 3.1366 - val_accuracy: 0.0444 - 33s/epoch - 15ms/step\n",
      "Epoch 34/50\n",
      "2165/2165 - 33s - loss: 3.1367 - accuracy: 0.0443 - val_loss: 3.1364 - val_accuracy: 0.0492 - 33s/epoch - 15ms/step\n",
      "Epoch 35/50\n",
      "2165/2165 - 32s - loss: 3.1368 - accuracy: 0.0423 - val_loss: 3.1365 - val_accuracy: 0.0394 - 32s/epoch - 15ms/step\n",
      "Epoch 36/50\n",
      "2165/2165 - 33s - loss: 3.1367 - accuracy: 0.0419 - val_loss: 3.1371 - val_accuracy: 0.0461 - 33s/epoch - 15ms/step\n",
      "Epoch 37/50\n",
      "2165/2165 - 33s - loss: 3.1368 - accuracy: 0.0401 - val_loss: 3.1372 - val_accuracy: 0.0370 - 33s/epoch - 15ms/step\n",
      "Epoch 38/50\n",
      "2165/2165 - 32s - loss: 3.1366 - accuracy: 0.0432 - val_loss: 3.1362 - val_accuracy: 0.0419 - 32s/epoch - 15ms/step\n",
      "Epoch 39/50\n",
      "2165/2165 - 32s - loss: 3.1367 - accuracy: 0.0433 - val_loss: 3.1365 - val_accuracy: 0.0444 - 32s/epoch - 15ms/step\n",
      "Epoch 40/50\n",
      "2165/2165 - 32s - loss: 3.1367 - accuracy: 0.0425 - val_loss: 3.1367 - val_accuracy: 0.0499 - 32s/epoch - 15ms/step\n",
      "Epoch 41/50\n",
      "2165/2165 - 33s - loss: 3.1366 - accuracy: 0.0424 - val_loss: 3.1373 - val_accuracy: 0.0461 - 33s/epoch - 15ms/step\n",
      "Epoch 42/50\n",
      "2165/2165 - 32s - loss: 3.1366 - accuracy: 0.0460 - val_loss: 3.1358 - val_accuracy: 0.0431 - 32s/epoch - 15ms/step\n",
      "Epoch 43/50\n",
      "2165/2165 - 33s - loss: 3.1367 - accuracy: 0.0421 - val_loss: 3.1363 - val_accuracy: 0.0461 - 33s/epoch - 15ms/step\n",
      "Epoch 44/50\n",
      "2165/2165 - 33s - loss: 3.1367 - accuracy: 0.0415 - val_loss: 3.1362 - val_accuracy: 0.0396 - 33s/epoch - 15ms/step\n",
      "Epoch 45/50\n",
      "2165/2165 - 33s - loss: 3.1367 - accuracy: 0.0429 - val_loss: 3.1364 - val_accuracy: 0.0396 - 33s/epoch - 15ms/step\n",
      "Epoch 46/50\n",
      "2165/2165 - 32s - loss: 3.1368 - accuracy: 0.0430 - val_loss: 3.1364 - val_accuracy: 0.0427 - 32s/epoch - 15ms/step\n",
      "Epoch 47/50\n",
      "2165/2165 - 32s - loss: 3.1367 - accuracy: 0.0434 - val_loss: 3.1368 - val_accuracy: 0.0460 - 32s/epoch - 15ms/step\n",
      "Epoch 48/50\n",
      "2165/2165 - 33s - loss: 3.1367 - accuracy: 0.0418 - val_loss: 3.1364 - val_accuracy: 0.0427 - 33s/epoch - 15ms/step\n",
      "Epoch 49/50\n",
      "2165/2165 - 33s - loss: 3.1366 - accuracy: 0.0430 - val_loss: 3.1378 - val_accuracy: 0.0431 - 33s/epoch - 15ms/step\n",
      "Epoch 50/50\n",
      "2165/2165 - 32s - loss: 3.1366 - accuracy: 0.0432 - val_loss: 3.1365 - val_accuracy: 0.0444 - 32s/epoch - 15ms/step\n"
     ]
    }
   ],
   "source": [
    "# Establish the model's topography.\n",
    "my_model = create_model(learning_rate)\n",
    "\n",
    "# Train the model on the normalized training set.\n",
    "epochs, hist = train_model(my_model, X_train, y_train, \n",
    "                           epochs, batch_size, validation_split)"
   ]
  },
  {
   "cell_type": "code",
   "execution_count": 89,
   "id": "25a2a4ed-495c-4055-8265-38f534aa5c06",
   "metadata": {},
   "outputs": [
    {
     "name": "stdout",
     "output_type": "stream",
     "text": [
      "Model: \"sequential_23\"\n",
      "_________________________________________________________________\n",
      " Layer (type)                Output Shape              Param #   \n",
      "=================================================================\n",
      " layer_6 (Dense)             (None, 10000)             40950000  \n",
      "                                                                 \n",
      " layer_7 (Dense)             (None, 8000)              80008000  \n",
      "                                                                 \n",
      " layer_8 (Dense)             (None, 6000)              48006000  \n",
      "                                                                 \n",
      " layer_9 (Dense)             (None, 4000)              24004000  \n",
      "                                                                 \n",
      " layer_10 (Dense)            (None, 2000)              8002000   \n",
      "                                                                 \n",
      " layer_11 (Dense)            (None, 1000)              2001000   \n",
      "                                                                 \n",
      " layer_12 (Dense)            (None, 500)               500500    \n",
      "                                                                 \n",
      " layer_13 (Dense)            (None, 100)               50100     \n",
      "                                                                 \n",
      " output (Dense)              (None, 23)                2323      \n",
      "                                                                 \n",
      "=================================================================\n",
      "Total params: 203,523,923\n",
      "Trainable params: 203,523,923\n",
      "Non-trainable params: 0\n",
      "_________________________________________________________________\n"
     ]
    }
   ],
   "source": [
    "#epochs= 100 lr=0.03\n",
    "my_model.summary()"
   ]
  },
  {
   "cell_type": "code",
   "execution_count": 90,
   "id": "7a4ec2e0-df01-4c89-a0ba-ff1758c032bf",
   "metadata": {},
   "outputs": [
    {
     "name": "stdout",
     "output_type": "stream",
     "text": [
      "\n",
      " Evaluate the new model against the test set:\n",
      "301/301 [==============================] - 1s 4ms/step - loss: 3.1364 - accuracy: 0.0430\n"
     ]
    },
    {
     "data": {
      "text/plain": [
       "[3.136397361755371, 0.043035343289375305]"
      ]
     },
     "execution_count": 90,
     "metadata": {},
     "output_type": "execute_result"
    }
   ],
   "source": [
    "print(\"\\n Evaluate the new model against the test set:\")\n",
    "my_model.evaluate(x=X_test, y=y_test, batch_size=batch_size)"
   ]
  },
  {
   "cell_type": "code",
   "execution_count": null,
   "id": "a06659cb-c526-429b-ab2a-4c5c98df6724",
   "metadata": {},
   "outputs": [],
   "source": [
    "#epochs= 200 lr=0.03\n",
    "my_model.summary()"
   ]
  },
  {
   "cell_type": "code",
   "execution_count": 28,
   "id": "985527c2-b775-4023-be17-0182f88b6ac0",
   "metadata": {},
   "outputs": [
    {
     "data": {
      "text/plain": [
       "<matplotlib.legend.Legend at 0x7f5acc3e7e20>"
      ]
     },
     "execution_count": 48,
     "metadata": {},
     "output_type": "execute_result"
    },
    {
     "data": {
      "image/png": "[encoded data removed]",
      "text/plain": [
       "<Figure size 640x480 with 1 Axes>"
      ]
     },
     "metadata": {},
     "output_type": "display_data"
    }
   ],
   "source": [
    "#epoch=100 lr=0.009\n",
    "plt.plot(hist['accuracy'], label='Train')\n",
    "plt.plot(hist['val_accuracy'], label='Validation')\n",
    "plt.ylabel('value')\n",
    "plt.xlabel('Epoch')\n",
    "plt.legend(loc='upper right')"
   ]
  },
  {
   "cell_type": "code",
   "execution_count": 54,
   "id": "39df12ac-f2a2-47fe-9322-a2612c7fbde0",
   "metadata": {},
   "outputs": [
    {
     "data": {
      "text/plain": [
       "<matplotlib.legend.Legend at 0x7f665015cdc0>"
      ]
     },
     "execution_count": 54,
     "metadata": {},
     "output_type": "execute_result"
    },
    {
     "data": {
      "image/png": "[encoded data removed]",
      "text/plain": [
       "<Figure size 640x480 with 1 Axes>"
      ]
     },
     "metadata": {},
     "output_type": "display_data"
    }
   ],
   "source": [
    "#epoch=200 lr=0.01\n",
    "plt.plot(hist['accuracy'], label='Train')\n",
    "#plt.plot(hist['val_accuracy'], label='Validation')\n",
    "plt.ylabel('value')\n",
    "plt.xlabel('Epoch')\n",
    "plt.legend(loc='upper right')"
   ]
  },
  {
   "cell_type": "code",
   "execution_count": 48,
   "id": "96b8f7c5-604b-46da-b50e-074a9a2bbaa5",
   "metadata": {},
   "outputs": [
    {
     "name": "stdout",
     "output_type": "stream",
     "text": [
      "\n",
      " Evaluate the new model against the test set:\n",
      "151/151 [==============================] - 0s 3ms/step - loss: nan - accuracy: 0.0462\n"
     ]
    },
    {
     "data": {
      "text/plain": [
       "[nan, 0.04615384712815285]"
      ]
     },
     "execution_count": 48,
     "metadata": {},
     "output_type": "execute_result"
    }
   ],
   "source": [
    "#epoch=100 lr=0.03\n",
    "# Evaluate against the test set. \n",
    "print(\"\\n Evaluate the new model against the test set:\")\n",
    "my_model.evaluate(x=X_test, y=y_test, batch_size=batch_size)"
   ]
  },
  {
   "cell_type": "code",
   "execution_count": 55,
   "id": "36e6bc25-de8b-4bb4-bd08-5a8f53bfdee3",
   "metadata": {},
   "outputs": [
    {
     "name": "stdout",
     "output_type": "stream",
     "text": [
      "\n",
      " Evaluate the new model against the test set:\n",
      "151/151 [==============================] - 0s 2ms/step - loss: 3.1370 - accuracy: 0.0378\n"
     ]
    },
    {
     "data": {
      "text/plain": [
       "[3.1369805335998535, 0.037837836891412735]"
      ]
     },
     "execution_count": 55,
     "metadata": {},
     "output_type": "execute_result"
    }
   ],
   "source": [
    "#epoch=100 lr=0.009\n",
    "# Evaluate against the test set. \n",
    "print(\"\\n Evaluate the new model against the test set:\")\n",
    "my_model.evaluate(x=X_test, y=y_test, batch_size=batch_size)"
   ]
  },
  {
   "cell_type": "code",
   "execution_count": 48,
   "id": "4debb479-2e9b-489b-84ca-df87bfa9b431",
   "metadata": {},
   "outputs": [
    {
     "name": "stdout",
     "output_type": "stream",
     "text": [
      "\n",
      " Evaluate the new model against the test set:\n",
      "151/151 [==============================] - 0s 3ms/step - loss: 3.1375 - accuracy: 0.0424\n"
     ]
    },
    {
     "data": {
      "text/plain": [
       "[3.137483596801758, 0.042411644011735916]"
      ]
     },
     "execution_count": 48,
     "metadata": {},
     "output_type": "execute_result"
    }
   ],
   "source": [
    "#epoch=200 lr=0.01\n",
    "# Evaluate against the test set. \n",
    "print(\"\\n Evaluate the new model against the test set:\")\n",
    "my_model.evaluate(x=X_test, y=y_test, batch_size=batch_size)"
   ]
  },
  {
   "cell_type": "code",
   "execution_count": 44,
   "id": "32c61840-8a9d-4d11-b44e-945941cde3e5",
   "metadata": {},
   "outputs": [
    {
     "name": "stdout",
     "output_type": "stream",
     "text": [
      "\n",
      " Evaluate the new model against the test set:\n",
      "151/151 [==============================] - 0s 3ms/step - loss: 3.1366 - accuracy: 0.0432\n"
     ]
    },
    {
     "data": {
      "text/plain": [
       "[3.1366288661956787, 0.04324324429035187]"
      ]
     },
     "execution_count": 44,
     "metadata": {},
     "output_type": "execute_result"
    }
   ],
   "source": [
    "#epoch=100 lr=0.01\n",
    "# Evaluate against the test set. \n",
    "print(\"\\n Evaluate the new model against the test set:\")\n",
    "my_model.evaluate(x=X_test, y=y_test, batch_size=batch_size)"
   ]
  },
  {
   "cell_type": "code",
   "execution_count": 67,
   "id": "a6b0453c-27d0-40e3-ae1c-f929b241fb7c",
   "metadata": {},
   "outputs": [
    {
     "name": "stdout",
     "output_type": "stream",
     "text": [
      "\n",
      " Evaluate the new model against the test set:\n",
      "151/151 [==============================] - 0s 3ms/step - loss: 3.1363 - accuracy: 0.0426\n"
     ]
    },
    {
     "data": {
      "text/plain": [
       "[3.1362786293029785, 0.04261954128742218]"
      ]
     },
     "execution_count": 67,
     "metadata": {},
     "output_type": "execute_result"
    }
   ],
   "source": [
    "#epoch=200 lr=0.005\n",
    "# Evaluate against the test set. \n",
    "print(\"\\n Evaluate the new model against the test set:\")\n",
    "my_model.evaluate(x=X_test, y=y_test, batch_size=batch_size)"
   ]
  },
  {
   "cell_type": "code",
   "execution_count": 28,
   "id": "2948a7bb-60d2-40c9-9d22-cc9c668b0a16",
   "metadata": {},
   "outputs": [
    {
     "name": "stdout",
     "output_type": "stream",
     "text": [
      "\n",
      " Evaluate the new model against the test set:\n",
      "151/151 [==============================] - 0s 3ms/step - loss: 3.1404 - accuracy: 0.0476\n"
     ]
    },
    {
     "data": {
      "text/plain": [
       "[3.1403727531433105, 0.04760914668440819]"
      ]
     },
     "execution_count": 28,
     "metadata": {},
     "output_type": "execute_result"
    }
   ],
   "source": [
    "#epoch=400 lr=0.03\n",
    "# Evaluate against the test set. \n",
    "print(\"\\n Evaluate the new model against the test set:\")\n",
    "my_model.evaluate(x=X_test, y=y_test, batch_size=batch_size)"
   ]
  },
  {
   "cell_type": "code",
   "execution_count": 39,
   "id": "c2eb5372-a6b8-46bb-a46d-558aa5a5eefa",
   "metadata": {},
   "outputs": [
    {
     "name": "stdout",
     "output_type": "stream",
     "text": [
      "\n",
      " Evaluate the new model against the test set:\n",
      "151/151 [==============================] - 0s 2ms/step - loss: 3.1418 - accuracy: 0.0407\n"
     ]
    },
    {
     "data": {
      "text/plain": [
       "[3.141843557357788, 0.040748439729213715]"
      ]
     },
     "execution_count": 39,
     "metadata": {},
     "output_type": "execute_result"
    }
   ],
   "source": [
    "#epoch=300 lr=0.03\n",
    "# Evaluate against the test set. \n",
    "print(\"\\n Evaluate the new model against the test set:\")\n",
    "my_model.evaluate(x=X_test, y=y_test, batch_size=batch_size)"
   ]
  },
  {
   "cell_type": "code",
   "execution_count": 30,
   "id": "96b1394f-3b28-4946-a7b9-38dbbe912e93",
   "metadata": {},
   "outputs": [
    {
     "name": "stdout",
     "output_type": "stream",
     "text": [
      "\n",
      " Evaluate the new model against the test set:\n",
      "151/151 [==============================] - 0s 2ms/step - loss: 3.1413 - accuracy: 0.0380\n"
     ]
    },
    {
     "data": {
      "text/plain": [
       "[3.141313314437866, 0.0380457378923893]"
      ]
     },
     "execution_count": 30,
     "metadata": {},
     "output_type": "execute_result"
    }
   ],
   "source": [
    "#epoch=200 lr=0.03\n",
    "# Evaluate against the test set. \n",
    "print(\"\\n Evaluate the new model against the test set:\")\n",
    "my_model.evaluate(x=X_test, y=y_test, batch_size=batch_size)"
   ]
  },
  {
   "cell_type": "code",
   "execution_count": null,
   "id": "sphUq21HeTY9",
   "metadata": {
    "id": "sphUq21HeTY9"
   },
   "outputs": [],
   "source": [
    "df_predictions = pd.DataFrame(predictions)\n",
    "df_predictions"
   ]
  },
  {
   "cell_type": "code",
   "execution_count": 41,
   "id": "rD2i2A2ueRUl",
   "metadata": {
    "id": "rD2i2A2ueRUl"
   },
   "outputs": [
    {
     "name": "stdout",
     "output_type": "stream",
     "text": [
      "271/271 [==============================] - 1s 2ms/step\n"
     ]
    }
   ],
   "source": [
    "predictions = model.predict(X_val)"
   ]
  },
  {
   "cell_type": "code",
   "execution_count": null,
   "id": "5-3vMpXWeTki",
   "metadata": {
    "id": "5-3vMpXWeTki"
   },
   "outputs": [],
   "source": [
    "predictions"
   ]
  },
  {
   "cell_type": "code",
   "execution_count": null,
   "id": "N6wo5-p4eTVo",
   "metadata": {
    "id": "N6wo5-p4eTVo"
   },
   "outputs": [],
   "source": [
    "df_predictions_original = pd.DataFrame(y_val)\n",
    "df_predictions_original"
   ]
  },
  {
   "cell_type": "code",
   "execution_count": null,
   "id": "W2yQIvXLeTPU",
   "metadata": {
    "id": "W2yQIvXLeTPU"
   },
   "outputs": [],
   "source": []
  },
  {
   "cell_type": "code",
   "execution_count": 30,
   "id": "Q5an6h9_qCqi",
   "metadata": {
    "colab": {
     "base_uri": "https://localhost:8080/"
    },
    "id": "Q5an6h9_qCqi",
    "outputId": "709c64c3-5ef0-4c6b-b078-7f1408cb0766"
   },
   "outputs": [
    {
     "name": "stdout",
     "output_type": "stream",
     "text": [
      "Loaded the plot_curve function.\n"
     ]
    }
   ],
   "source": [
    "#@title Define the plotting function\n",
    "def plot_curve(epochs, hist, list_of_metrics):\n",
    "  \"\"\"Plot a curve of one or more classification metrics vs. epoch.\"\"\"  \n",
    "  # list_of_metrics should be one of the names shown in:\n",
    "  # https://www.tensorflow.org/tutorials/structured_data/imbalanced_data#define_the_model_and_metrics  \n",
    "\n",
    "  plt.figure()\n",
    "  plt.xlabel(\"Epoch\")\n",
    "  plt.ylabel(\"Value\")\n",
    "\n",
    "  for m in list_of_metrics:\n",
    "    x = hist[m]\n",
    "    plt.plot(epochs[1:], x[1:], label=m)\n",
    "\n",
    "  plt.legend()\n",
    "\n",
    "print(\"Loaded the plot_curve function.\")"
   ]
  },
  {
   "cell_type": "code",
   "execution_count": 40,
   "id": "241d9664-1f17-4b14-a0ec-fd5234b0406c",
   "metadata": {},
   "outputs": [
    {
     "data": {
      "image/png": "[encoded data removed]",
      "text/plain": [
       "<Figure size 640x480 with 1 Axes>"
      ]
     },
     "metadata": {},
     "output_type": "display_data"
    }
   ],
   "source": [
    "#epochs = 300 lr=0.03\n",
    "# Plot a graph of the metric vs. epochs.\n",
    "list_of_metrics_to_plot = ['accuracy']\n",
    "plot_curve(epochs, hist, list_of_metrics_to_plot)"
   ]
  },
  {
   "cell_type": "code",
   "execution_count": 31,
   "id": "pb8Z7hXbGgvb",
   "metadata": {
    "colab": {
     "base_uri": "https://localhost:8080/",
     "height": 279
    },
    "id": "pb8Z7hXbGgvb",
    "outputId": "4a940fd4-b6da-4aad-cb0d-21eed4c2ccb3"
   },
   "outputs": [
    {
     "data": {
      "image/png": "[encoded data removed]",
      "text/plain": [
       "<Figure size 640x480 with 1 Axes>"
      ]
     },
     "metadata": {},
     "output_type": "display_data"
    }
   ],
   "source": [
    "#epochs=400 lr=0.03\n",
    "# Plot a graph of the metric vs. epochs.\n",
    "list_of_metrics_to_plot = ['accuracy']\n",
    "plot_curve(epochs, hist, list_of_metrics_to_plot)"
   ]
  },
  {
   "cell_type": "code",
   "execution_count": 32,
   "id": "b9456105-4705-4124-83e7-07fac279e6bc",
   "metadata": {},
   "outputs": [
    {
     "data": {
      "text/html": [
       "<div>\n",
       "<style scoped>\n",
       "    .dataframe tbody tr th:only-of-type {\n",
       "        vertical-align: middle;\n",
       "    }\n",
       "\n",
       "    .dataframe tbody tr th {\n",
       "        vertical-align: top;\n",
       "    }\n",
       "\n",
       "    .dataframe thead th {\n",
       "        text-align: right;\n",
       "    }\n",
       "</style>\n",
       "<table border=\"1\" class=\"dataframe\">\n",
       "  <thead>\n",
       "    <tr style=\"text-align: right;\">\n",
       "      <th></th>\n",
       "      <th>loss</th>\n",
       "      <th>accuracy</th>\n",
       "      <th>val_loss</th>\n",
       "      <th>val_accuracy</th>\n",
       "    </tr>\n",
       "  </thead>\n",
       "  <tbody>\n",
       "    <tr>\n",
       "      <th>0</th>\n",
       "      <td>1.302241e+08</td>\n",
       "      <td>0.043002</td>\n",
       "      <td>3.140552</td>\n",
       "      <td>0.046090</td>\n",
       "    </tr>\n",
       "    <tr>\n",
       "      <th>1</th>\n",
       "      <td>3.140263e+00</td>\n",
       "      <td>0.043060</td>\n",
       "      <td>3.139686</td>\n",
       "      <td>0.045397</td>\n",
       "    </tr>\n",
       "    <tr>\n",
       "      <th>2</th>\n",
       "      <td>3.140132e+00</td>\n",
       "      <td>0.042049</td>\n",
       "      <td>3.141008</td>\n",
       "      <td>0.045166</td>\n",
       "    </tr>\n",
       "    <tr>\n",
       "      <th>3</th>\n",
       "      <td>3.139895e+00</td>\n",
       "      <td>0.043233</td>\n",
       "      <td>3.142128</td>\n",
       "      <td>0.045974</td>\n",
       "    </tr>\n",
       "    <tr>\n",
       "      <th>4</th>\n",
       "      <td>3.140189e+00</td>\n",
       "      <td>0.044880</td>\n",
       "      <td>3.140931</td>\n",
       "      <td>0.040314</td>\n",
       "    </tr>\n",
       "    <tr>\n",
       "      <th>...</th>\n",
       "      <td>...</td>\n",
       "      <td>...</td>\n",
       "      <td>...</td>\n",
       "      <td>...</td>\n",
       "    </tr>\n",
       "    <tr>\n",
       "      <th>395</th>\n",
       "      <td>3.140001e+00</td>\n",
       "      <td>0.045024</td>\n",
       "      <td>3.141809</td>\n",
       "      <td>0.039621</td>\n",
       "    </tr>\n",
       "    <tr>\n",
       "      <th>396</th>\n",
       "      <td>3.140138e+00</td>\n",
       "      <td>0.045399</td>\n",
       "      <td>3.143683</td>\n",
       "      <td>0.035001</td>\n",
       "    </tr>\n",
       "    <tr>\n",
       "      <th>397</th>\n",
       "      <td>3.140124e+00</td>\n",
       "      <td>0.043031</td>\n",
       "      <td>3.141659</td>\n",
       "      <td>0.039968</td>\n",
       "    </tr>\n",
       "    <tr>\n",
       "      <th>398</th>\n",
       "      <td>3.140396e+00</td>\n",
       "      <td>0.044158</td>\n",
       "      <td>3.140692</td>\n",
       "      <td>0.036964</td>\n",
       "    </tr>\n",
       "    <tr>\n",
       "      <th>399</th>\n",
       "      <td>3.140347e+00</td>\n",
       "      <td>0.042338</td>\n",
       "      <td>3.140718</td>\n",
       "      <td>0.046436</td>\n",
       "    </tr>\n",
       "  </tbody>\n",
       "</table>\n",
       "<p>400 rows × 4 columns</p>\n",
       "</div>"
      ],
      "text/plain": [
       "             loss  accuracy  val_loss  val_accuracy\n",
       "0    1.302241e+08  0.043002  3.140552      0.046090\n",
       "1    3.140263e+00  0.043060  3.139686      0.045397\n",
       "2    3.140132e+00  0.042049  3.141008      0.045166\n",
       "3    3.139895e+00  0.043233  3.142128      0.045974\n",
       "4    3.140189e+00  0.044880  3.140931      0.040314\n",
       "..            ...       ...       ...           ...\n",
       "395  3.140001e+00  0.045024  3.141809      0.039621\n",
       "396  3.140138e+00  0.045399  3.143683      0.035001\n",
       "397  3.140124e+00  0.043031  3.141659      0.039968\n",
       "398  3.140396e+00  0.044158  3.140692      0.036964\n",
       "399  3.140347e+00  0.042338  3.140718      0.046436\n",
       "\n",
       "[400 rows x 4 columns]"
      ]
     },
     "execution_count": 32,
     "metadata": {},
     "output_type": "execute_result"
    }
   ],
   "source": [
    "hist"
   ]
  },
  {
   "cell_type": "code",
   "execution_count": 36,
   "id": "a257374e-d894-4276-b1f0-f0ce929f216d",
   "metadata": {},
   "outputs": [
    {
     "data": {
      "text/plain": [
       "<matplotlib.legend.Legend at 0x7f6644142370>"
      ]
     },
     "execution_count": 36,
     "metadata": {},
     "output_type": "execute_result"
    },
    {
     "data": {
      "image/png": "[encoded data removed]",
      "text/plain": [
       "<Figure size 640x480 with 1 Axes>"
      ]
     },
     "metadata": {},
     "output_type": "display_data"
    }
   ],
   "source": [
    "plt.plot(hist['accuracy'], label='Train')\n",
    "plt.plot(hist['val_accuracy'], label='Validation')\n",
    "plt.ylabel('value')\n",
    "plt.xlabel('Epoch')\n",
    "plt.legend(loc='upper right')"
   ]
  },
  {
   "cell_type": "code",
   "execution_count": 38,
   "id": "hgfnluiPAdsr",
   "metadata": {
    "id": "hgfnluiPAdsr"
   },
   "outputs": [
    {
     "ename": "NameError",
     "evalue": "name 'model' is not defined",
     "output_type": "error",
     "traceback": [
      "\u001b[0;31m---------------------------------------------------------------------------\u001b[0m",
      "\u001b[0;31mNameError\u001b[0m                                 Traceback (most recent call last)",
      "Cell \u001b[0;32mIn [38], line 2\u001b[0m\n\u001b[1;32m      1\u001b[0m \u001b[38;5;66;03m# Evaluate the model\u001b[39;00m\n\u001b[0;32m----> 2\u001b[0m loss, accuracy \u001b[38;5;241m=\u001b[39m \u001b[43mmodel\u001b[49m\u001b[38;5;241m.\u001b[39mevaluate(X_test, y_test,batch_size\u001b[38;5;241m=\u001b[39mbatch_size)\n",
      "\u001b[0;31mNameError\u001b[0m: name 'model' is not defined"
     ]
    }
   ],
   "source": [
    "# Evaluate the model\n",
    "loss, accuracy = model.evaluate(X_test, y_test,batch_size=batch_size)\n"
   ]
  },
  {
   "cell_type": "code",
   "execution_count": null,
   "id": "-spliFT-AdpZ",
   "metadata": {
    "colab": {
     "base_uri": "https://localhost:8080/",
     "height": 183
    },
    "id": "-spliFT-AdpZ",
    "outputId": "18db285f-3ee9-406e-8852-146d801b594e"
   },
   "outputs": [],
   "source": [
    "# Make predictions\n",
    "predictions = model.predict(X_new)"
   ]
  },
  {
   "cell_type": "code",
   "execution_count": null,
   "id": "47b283f9-351a-49d4-99f0-8e523199ff47",
   "metadata": {},
   "outputs": [],
   "source": []
  },
  {
   "cell_type": "code",
   "execution_count": null,
   "id": "1a590d89-7d05-4252-b39d-7c408eaf1eef",
   "metadata": {},
   "outputs": [],
   "source": []
  },
  {
   "cell_type": "code",
   "execution_count": null,
   "id": "SvxyNw2jITbF",
   "metadata": {
    "colab": {
     "base_uri": "https://localhost:8080/"
    },
    "id": "SvxyNw2jITbF",
    "outputId": "f608b30c-0ce8-49a9-f0ca-393f0ab92584"
   },
   "outputs": [],
   "source": [
    "model = Sequential()\n",
    "model.add(Dense(2000, batch_input_shape=(None,4094),activation='relu'))\n",
    "model.add(Dense(1000, batch_input_shape=(None,4094),activation='relu'))\n",
    "model.add(Dense(100, batch_input_shape=(None,4094),activation='relu'))\n",
    "model.add(Dense(64, batch_input_shape=(None,4094),activation='relu'))\n",
    "model.add(Dense(23, activation=softmax))\n",
    "\n",
    "# Compile the model\n",
    "model.compile(optimizer='adam', loss='categorical_crossentropy', metrics=['accuracy'])\n",
    "\n",
    "# Train the model\n",
    "model.fit(X_train, y_train, epochs=200, batch_size=32)\n",
    "\n",
    "# Evaluate the model\n",
    "loss, accuracy = model.evaluate(X_test, y_test)\n",
    "\n",
    "# Make predictions\n",
    "#predictions = model.predict(X_new)"
   ]
  }
 ],
 "metadata": {
  "accelerator": "GPU",
  "colab": {
   "provenance": []
  },
  "gpuClass": "standard",
  "kernelspec": {
   "display_name": "Python 3 (ipykernel)",
   "language": "python",
   "name": "python3"
  },
  "language_info": {
   "codemirror_mode": {
    "name": "ipython",
    "version": 3
   },
   "file_extension": ".py",
   "mimetype": "text/x-python",
   "name": "python",
   "nbconvert_exporter": "python",
   "pygments_lexer": "ipython3",
   "version": "3.10.12"
  }
 },
 "nbformat": 4,
 "nbformat_minor": 5
}
